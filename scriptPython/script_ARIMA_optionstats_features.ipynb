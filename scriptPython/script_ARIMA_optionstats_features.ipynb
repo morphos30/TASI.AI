{
 "cells": [
  {
   "cell_type": "code",
   "execution_count": 1,
   "metadata": {},
   "outputs": [
    {
     "name": "stderr",
     "output_type": "stream",
     "text": [
      "/home/mourad/.local/lib/python3.6/site-packages/pandas_datareader/compat/__init__.py:7: FutureWarning: pandas.util.testing is deprecated. Use the functions in the public API at pandas.testing instead.\n",
      "  from pandas.util.testing import assert_frame_equal\n"
     ]
    }
   ],
   "source": [
    "# 16/06/2020\n",
    "# TASI.AI\n",
    "# Raphael Mourad\n",
    "\n",
    "# ARIMA + Exogenous variables = ARIMAX\n",
    "# ARIMAX is an ARIMA model but in which you can include additional features \n",
    "# such as option features to better predict the price.\n",
    "\n",
    "# https://www.statsmodels.org/dev/examples/notebooks/generated/statespace_sarimax_stata.html\n",
    "\n",
    "###### IMPORT LIBRARIES AND SET UP PARAMETERS\n",
    "\n",
    "# Import libraries\n",
    "import os\n",
    "import pandas as pd\n",
    "import numpy as np\n",
    "import sklearn.metrics as mt\n",
    "import random\n",
    "import datetime\n",
    "from pandas_datareader import DataReader\n",
    "from matplotlib import pyplot\n",
    "from statsmodels.graphics.tsaplots import plot_acf, plot_pacf\n",
    "from statsmodels.stats.diagnostic import acorr_ljungbox\n",
    "from statsmodels.tsa.arima_model import ARIMA\n",
    "from pmdarima import auto_arima\n",
    "from scipy.stats import norm"
   ]
  },
  {
   "cell_type": "code",
   "execution_count": 2,
   "metadata": {},
   "outputs": [
    {
     "name": "stdout",
     "output_type": "stream",
     "text": [
      "/media/mourad/diskSave/MCF_Toulouse/recherche/ConsulProj/TASI.AI_RamCiri\n"
     ]
    }
   ],
   "source": [
    "# Set up directory\n",
    "dir=\"/media/mourad/diskSave/MCF_Toulouse/recherche/ConsulProj/TASI.AI_RamCiri\"\n",
    "os.chdir(dir)\n",
    "print(os.getcwd())"
   ]
  },
  {
   "cell_type": "code",
   "execution_count": 3,
   "metadata": {},
   "outputs": [],
   "source": [
    "# Parameters\n",
    "symbol=\"GOOG\" # Set up the symbol you want\n",
    "kdays=30 # Number of days for forecasting\n",
    "kdaysExpi=90 # Number of days until expiration date"
   ]
  },
  {
   "cell_type": "code",
   "execution_count": 4,
   "metadata": {},
   "outputs": [],
   "source": [
    "# Create folder for symbol\n",
    "symbolFolder=\"results/ARIMA_optionstats_features/\"+symbol\n",
    "if(os.path.isdir(symbolFolder)==False):\n",
    "    os.mkdir(symbolFolder, mode=0o777)"
   ]
  },
  {
   "cell_type": "code",
   "execution_count": 5,
   "metadata": {},
   "outputs": [
    {
     "name": "stdout",
     "output_type": "stream",
     "text": [
      "['AAPL' 'AMZN' 'AXP' 'BA' 'CAT' 'CDLX' 'CHGG' 'CYBR' 'DIS' 'EROS' 'EVER'\n",
      " 'GOOG' 'GS' 'HD' 'IBM' 'ITRI' 'JNJ' 'JPM' 'KO' 'MCD' 'MRK' 'MSFT' 'NFLX'\n",
      " 'NIO' 'NKE' 'OSIS' 'PFE' 'PG' 'PRFT' 'XOM']\n",
      "      symbol  quotedate        close\n",
      "28392   GOOG 2015-05-01   537.900024\n",
      "29216   GOOG 2015-05-04   540.780029\n",
      "28720   GOOG 2015-05-05   530.799988\n",
      "28412   GOOG 2015-05-06   524.219971\n",
      "27995   GOOG 2015-05-07   530.700012\n",
      "...      ...        ...          ...\n",
      "28666   GOOG 2020-05-22  1410.420000\n",
      "28255   GOOG 2020-05-26  1417.020000\n",
      "28923   GOOG 2020-05-27  1417.840000\n",
      "28256   GOOG 2020-05-28  1416.730000\n",
      "29272   GOOG 2020-05-29  1428.920000\n",
      "\n",
      "[1278 rows x 3 columns]\n",
      "Missing data= 0\n"
     ]
    }
   ],
   "source": [
    "###### LOAD AND PREPROCESS DATA\n",
    "\n",
    "### STOCK PRICE\n",
    "# Import price\n",
    "path=\"data/stockquotes/samples_L3_stockquotes_sample.csv.gz\"\n",
    "data_stockquotes = pd.read_csv(path, compression='gzip', header=0, sep=',', quotechar='\"', error_bad_lines=False)\n",
    "data_stockquotes[\"quotedate\"] = pd.to_datetime(data_stockquotes[\"quotedate\"])\n",
    "#print(data_stockquotes)\n",
    "print(np.unique(data_stockquotes[\"symbol\"]))\n",
    "\n",
    "# Choose the stock\n",
    "data_stockquotes_sel=data_stockquotes[data_stockquotes[\"symbol\"]==symbol]\n",
    "data_stockquotes_sel=data_stockquotes_sel.sort_values('quotedate')\n",
    "data_stockquotes_sel=data_stockquotes_sel[[\"symbol\",\"quotedate\",\"close\"]]\n",
    "#data_stockquotes_sel=data_stockquotes_sel.set_index('quotedate')\n",
    "print(data_stockquotes_sel)\n",
    "\n",
    "# Check the absence of missing data \n",
    "NAcount=data_stockquotes.isnull().sum().sum()\n",
    "print(\"Missing data=\",NAcount)"
   ]
  },
  {
   "cell_type": "code",
   "execution_count": 6,
   "metadata": {},
   "outputs": [
    {
     "name": "stdout",
     "output_type": "stream",
     "text": [
      "['symbol' 'quotedate' 'iv30call' 'iv60call' 'iv90call' 'iv120call'\n",
      " 'iv150call' 'iv180call' 'iv360call' 'callvol' 'putvol' 'totalvol'\n",
      " 'calloi' 'putoi' 'totaloi']\n",
      "       iv30call  iv60call  totalvol  totaloi     CVPoi\n",
      "254      0.2106    0.2036     19921    50315  0.359766\n",
      "45682    0.2089    0.2044     18101    48410  0.359766\n",
      "14935    0.2205    0.2147     22541    57643  0.465638\n",
      "34595    0.2121    0.2154     19145    71344  0.332142\n",
      "23729    0.2114    0.2068     17644    78041  0.247319\n",
      "...         ...       ...       ...      ...       ...\n",
      "29009    0.2622    0.2734     21558   145649  0.150683\n",
      "62318    0.2629    0.2741     24197   135275  0.166138\n",
      "38948    0.2646    0.2793     14073   144224  0.104039\n",
      "9640     0.2701    0.2840     19518   145736  0.135337\n",
      "14270    0.2629    0.2740     24317   149642  0.166862\n",
      "\n",
      "[1114 rows x 5 columns]\n"
     ]
    }
   ],
   "source": [
    "### STOCK OPTION STATISTICS\n",
    "# Import optionstats\n",
    "pathOptionStats=\"data/optionstats/samples_L3_optionstats_sample.csv.gz\"\n",
    "data_optionStats = pd.read_csv(pathOptionStats, compression='gzip', header=0, sep=',', quotechar='\"', error_bad_lines=False)\n",
    "data_optionStats[\"quotedate\"] = pd.to_datetime(data_optionStats[\"quotedate\"])\n",
    "data_optionStats = data_optionStats.drop(columns=[\"iv30put\",\"iv30mean\",\"iv60put\",\"iv60mean\",\"iv90put\",\"iv90mean\",\n",
    "                                                 \"iv120put\",\"iv120mean\",\"iv150put\",\"iv150mean\",\"iv180put\",\"iv180mean\",\n",
    "                                                 \"iv360put\",\"iv360mean\"])\n",
    "print(data_optionStats.columns.values)\n",
    "\n",
    "# Choose the stock\n",
    "data_optionStats_sel=data_optionStats[data_optionStats[\"symbol\"]==symbol]\n",
    "data_optionStats_sel=data_optionStats_sel.sort_values([\"quotedate\"])\n",
    "#data_optionStats_sel=data_optionStats_sel.set_index('quotedate')\n",
    "data_optionStats_sel=pd.DataFrame.drop_duplicates(data_optionStats_sel)\n",
    "data_optionStats_sel=data_optionStats_sel.drop(columns=[\"symbol\"])\n",
    "#print(data_optionStats_sel)\n",
    "\n",
    "# Compute new features from optionstats\n",
    "# 1 is added to avoid +Inf values\n",
    "# Call volume / total volume ratio (CTVR)\n",
    "data_optionStats_sel[\"CTVR\"]=(data_optionStats_sel[\"callvol\"]+1)/(data_optionStats_sel[\"totalvol\"]+1)\n",
    "# Call oi / total oi ratio (CToiR)\n",
    "data_optionStats_sel[\"CToiR\"]=(data_optionStats_sel[\"calloi\"]+1)/(data_optionStats_sel[\"totaloi\"]+1)\n",
    "# Total oi / Total volume ratio (ToiTVR)\n",
    "data_optionStats_sel[\"ToiTVR\"]=(data_optionStats_sel[\"totaloi\"]+1)/(data_optionStats_sel[\"totalvol\"]+1)\n",
    "# Current volume / Previous day oi\n",
    "TVday1=data_optionStats_sel.iloc[1:len(data_optionStats_sel),data_optionStats_sel.columns.values==\"totalvol\"]\n",
    "Toiday0=data_optionStats_sel.iloc[0:(len(data_optionStats_sel)-1),data_optionStats_sel.columns.values==\"totaloi\"]\n",
    "CVPoi=(TVday1[\"totalvol\"].values+1)/(Toiday0[\"totaloi\"].values+1)\n",
    "CVPoi=np.append(CVPoi[0],CVPoi)\n",
    "data_optionStats_sel[\"CVPoi\"]=CVPoi\n",
    "print(data_optionStats_sel[[\"iv30call\",\"iv60call\",'totalvol','totaloi','CVPoi']])"
   ]
  },
  {
   "cell_type": "code",
   "execution_count": 7,
   "metadata": {},
   "outputs": [
    {
     "name": "stdout",
     "output_type": "stream",
     "text": [
      "        DataDate    PCR      SM      SWM      WMEP  MROI    WMD    WMG  \\\n",
      "0     2015-05-01  1.461  24.890   29.337   513.368   0.0 -0.083  0.008   \n",
      "1     2015-05-04  0.706  23.280   33.616   555.014   0.0  0.128  0.008   \n",
      "2     2015-05-05  1.185  23.100   26.606   518.185   0.0 -0.106  0.009   \n",
      "3     2015-05-06  1.875  21.720   25.949   510.224   0.0 -0.145  0.009   \n",
      "4     2015-05-07  0.882  22.200   24.745   539.700   0.0  0.063  0.009   \n",
      "...          ...    ...     ...      ...       ...   ...    ...    ...   \n",
      "1273  2020-05-22  0.525  52.075   61.256  1461.020   0.0  0.440  0.003   \n",
      "1274  2020-05-26  1.878  58.325  102.999  1317.926   0.0 -0.205  0.002   \n",
      "1275  2020-05-27  0.760  58.350  100.710  1437.675   0.0  0.111  0.002   \n",
      "1276  2020-05-28  0.661  61.000   82.162  1470.973   0.0  0.296  0.003   \n",
      "1277  2020-05-29  1.850  58.080   91.390  1376.608   0.0 -0.188  0.002   \n",
      "\n",
      "          WMT      WMV  \n",
      "0     -47.717   63.399  \n",
      "1     -43.834   57.466  \n",
      "2     -51.684   59.622  \n",
      "3     -53.639   61.677  \n",
      "4     -52.596   68.089  \n",
      "...       ...      ...  \n",
      "1273 -191.806  213.893  \n",
      "1274 -170.528  186.929  \n",
      "1275 -165.207  159.614  \n",
      "1276 -194.268  198.695  \n",
      "1277 -166.615  178.361  \n",
      "\n",
      "[1278 rows x 10 columns]\n"
     ]
    }
   ],
   "source": [
    "### STOCK OPTION FEATURES\n",
    "# Import option_features\n",
    "pathOptionFeats=\"data/options_features/samples_L3_options_features_\"+symbol+\"_\"+str(kdaysExpi)+\"daysExpi.csv.gz\"\n",
    "data_optionFeats = pd.read_csv(pathOptionFeats, compression='gzip', header=0, sep=',', quotechar='\"', error_bad_lines=False)\n",
    "print(data_optionFeats)\n",
    "data_optionFeats[\"DataDate\"] = pd.to_datetime(data_optionFeats[\"DataDate\"])"
   ]
  },
  {
   "cell_type": "code",
   "execution_count": 8,
   "metadata": {},
   "outputs": [
    {
     "name": "stdout",
     "output_type": "stream",
     "text": [
      "                  close  iv30call  iv60call  iv90call  iv120call  iv150call  \\\n",
      "quotedate                                                                     \n",
      "2015-05-01   537.900024    0.2106    0.2036    0.2057     0.1971     0.1952   \n",
      "2015-05-04   540.780029    0.2089    0.2044    0.2040     0.2014     0.2035   \n",
      "2015-05-05   530.799988    0.2205    0.2147    0.2122     0.2071     0.2082   \n",
      "2015-05-06   524.219971    0.2121    0.2154    0.2124     0.2072     0.2086   \n",
      "2015-05-07   530.700012    0.2114    0.2068    0.2098     0.2054     0.2079   \n",
      "...                 ...       ...       ...       ...        ...        ...   \n",
      "2020-05-22  1410.420000    0.2622    0.2734    0.2987     0.2946     0.3019   \n",
      "2020-05-26  1417.020000    0.2629    0.2741    0.2987     0.2973     0.3034   \n",
      "2020-05-27  1417.840000    0.2646    0.2793    0.2985     0.2956     0.3032   \n",
      "2020-05-28  1416.730000    0.2701    0.2840    0.3027     0.2998     0.3064   \n",
      "2020-05-29  1428.920000    0.2629    0.2740    0.2990     0.2994     0.3058   \n",
      "\n",
      "            iv180call  iv360call  callvol  putvol  ...     CVPoi    PCR  \\\n",
      "quotedate                                          ...                    \n",
      "2015-05-01     0.2055     0.2268    10911    9010  ...  0.359766  1.461   \n",
      "2015-05-04     0.2113     0.2293    12438    5663  ...  0.359766  0.706   \n",
      "2015-05-05     0.2157     0.2314    15398    7143  ...  0.465638  1.185   \n",
      "2015-05-06     0.2161     0.2304     8938   10207  ...  0.332142  1.875   \n",
      "2015-05-07     0.2159     0.2335    10432    7212  ...  0.247319  0.882   \n",
      "...               ...        ...      ...     ...  ...       ...    ...   \n",
      "2020-05-22     0.3092     0.3051    12367    9191  ...  0.150683  0.525   \n",
      "2020-05-26     0.3089     0.3062    13104   11093  ...  0.166138  1.878   \n",
      "2020-05-27     0.3093     0.3041     8377    5696  ...  0.104039  0.760   \n",
      "2020-05-28     0.3117     0.3078    11310    8208  ...  0.135337  0.661   \n",
      "2020-05-29     0.3094     0.3069    10353   13964  ...  0.166862  1.850   \n",
      "\n",
      "                SM      SWM      WMEP  MROI    WMD    WMG      WMT      WMV  \n",
      "quotedate                                                                    \n",
      "2015-05-01  24.890   29.337   513.368   0.0 -0.083  0.008  -47.717   63.399  \n",
      "2015-05-04  23.280   33.616   555.014   0.0  0.128  0.008  -43.834   57.466  \n",
      "2015-05-05  23.100   26.606   518.185   0.0 -0.106  0.009  -51.684   59.622  \n",
      "2015-05-06  21.720   25.949   510.224   0.0 -0.145  0.009  -53.639   61.677  \n",
      "2015-05-07  22.200   24.745   539.700   0.0  0.063  0.009  -52.596   68.089  \n",
      "...            ...      ...       ...   ...    ...    ...      ...      ...  \n",
      "2020-05-22  52.075   61.256  1461.020   0.0  0.440  0.003 -191.806  213.893  \n",
      "2020-05-26  58.325  102.999  1317.926   0.0 -0.205  0.002 -170.528  186.929  \n",
      "2020-05-27  58.350  100.710  1437.675   0.0  0.111  0.002 -165.207  159.614  \n",
      "2020-05-28  61.000   82.162  1470.973   0.0  0.296  0.003 -194.268  198.695  \n",
      "2020-05-29  58.080   91.390  1376.608   0.0 -0.188  0.002 -166.615  178.361  \n",
      "\n",
      "[1112 rows x 27 columns]\n"
     ]
    }
   ],
   "source": [
    "### MERGE PRICE WITH OPTION STATS AND OPTION FEATS\n",
    "\n",
    "# Merge price with option stats\n",
    "priceOptionStats=data_stockquotes_sel.merge(data_optionStats_sel, left_on='quotedate', right_on='quotedate')\n",
    "\n",
    "# Merge with option feats\n",
    "priceOptionStatsFeats=priceOptionStats.merge(data_optionFeats, left_on='quotedate', right_on='DataDate')\n",
    "\n",
    "# Format table\n",
    "priceOptionStatsFeats=priceOptionStatsFeats.drop(columns=[\"symbol\",\"DataDate\"])\n",
    "priceOptionStatsFeats=priceOptionStatsFeats.set_index('quotedate')\n",
    "#print(priceOptionStats[[\"close\",\"iv30call\",\"iv30put\"]])\n",
    "print(priceOptionStatsFeats)"
   ]
  },
  {
   "cell_type": "code",
   "execution_count": 9,
   "metadata": {},
   "outputs": [],
   "source": [
    "###### BUILD AND AUTOSELECT ARIMA MODEL\n",
    "\n",
    "# Split train/test data\n",
    "priceOptionStatsTrain = priceOptionStatsFeats[0:(len(priceOptionStatsFeats)-kdays)]\n",
    "priceOptionStatsTest = priceOptionStatsFeats[(len(priceOptionStatsFeats)-kdays):len(priceOptionStatsFeats)]\n",
    "\n",
    "priceCloseTrain=priceOptionStatsTrain[\"close\"]\n",
    "priceCloseTest=priceOptionStatsTest[\"close\"]\n",
    "\n",
    "exogenousTrain=priceOptionStatsTrain.drop(columns=\"close\")\n",
    "exogenousTest=priceOptionStatsTest.drop(columns=\"close\")\n",
    "#print(priceOptionStatsTrain)\n",
    "#print(priceOptionStatsTest[0:5])"
   ]
  },
  {
   "cell_type": "code",
   "execution_count": 10,
   "metadata": {},
   "outputs": [
    {
     "name": "stdout",
     "output_type": "stream",
     "text": [
      "Performing stepwise search to minimize aic\n",
      "Fit ARIMA(2,1,2)x(0,0,0,0) [intercept=True]; AIC=9165.698, BIC=9195.612, Time=0.575 seconds\n",
      "Fit ARIMA(0,1,0)x(0,0,0,0) [intercept=True]; AIC=9192.154, BIC=9202.125, Time=0.019 seconds\n",
      "Fit ARIMA(1,1,0)x(0,0,0,0) [intercept=True]; AIC=9163.267, BIC=9178.224, Time=0.046 seconds\n",
      "Fit ARIMA(0,1,1)x(0,0,0,0) [intercept=True]; AIC=9165.394, BIC=9180.351, Time=0.124 seconds\n",
      "Fit ARIMA(0,1,0)x(0,0,0,0) [intercept=False]; AIC=9191.845, BIC=9196.831, Time=0.015 seconds\n",
      "Fit ARIMA(2,1,0)x(0,0,0,0) [intercept=True]; AIC=9164.937, BIC=9184.880, Time=0.138 seconds\n",
      "Fit ARIMA(1,1,1)x(0,0,0,0) [intercept=True]; AIC=9165.053, BIC=9184.996, Time=0.217 seconds\n",
      "Fit ARIMA(2,1,1)x(0,0,0,0) [intercept=True]; AIC=9166.115, BIC=9191.044, Time=0.709 seconds\n",
      "Total fit time: 1.859 seconds\n",
      "(1, 1, 0)\n"
     ]
    }
   ],
   "source": [
    "# Build ARIMA model and finding automatically the best ARIMA model (function called auto_arima)\n",
    "autoARIMA = auto_arima(priceCloseTrain, seasonal=False, trace=True,\n",
    "                error_action='ignore', suppress_warnings=True, stepwise=True)\n",
    "ARIMAbestparams=autoARIMA.order\n",
    "print(ARIMAbestparams)\n",
    "file_autoARIMA = open(symbolFolder+\"/autoARIMA_\"+symbol+\".txt\", \"a\")\n",
    "file_autoARIMA.write(str(autoARIMA.summary()))\n",
    "file_autoARIMA.close()"
   ]
  },
  {
   "cell_type": "code",
   "execution_count": 11,
   "metadata": {},
   "outputs": [
    {
     "name": "stdout",
     "output_type": "stream",
     "text": [
      "No exo: \tAIC=9163\n",
      "iv30call: \tAIC=8862\tdiffAIC= 301\n",
      "iv60call: \tAIC=8868\tdiffAIC= 296\n",
      "iv90call: \tAIC=8947\tdiffAIC= 216\n",
      "iv120call: \tAIC=8960\tdiffAIC= 203\n",
      "iv150call: \tAIC=8979\tdiffAIC= 184\n",
      "iv180call: \tAIC=9007\tdiffAIC= 156\n",
      "iv360call: \tAIC=9095\tdiffAIC= 68\n",
      "callvol: \tAIC=9143\tdiffAIC= 20\n",
      "putvol: \tAIC=9157\tdiffAIC= 6\n",
      "totalvol: \tAIC=9148\tdiffAIC= 15\n",
      "calloi: \tAIC=9165\tdiffAIC= -1\n",
      "putoi: \tAIC=9165\tdiffAIC= -2\n",
      "totaloi: \tAIC=9165\tdiffAIC= -2\n",
      "CTVR: \tAIC=9158\tdiffAIC= 5\n",
      "CToiR: \tAIC=9164\tdiffAIC= -1\n",
      "ToiTVR: \tAIC=9159\tdiffAIC= 4\n",
      "CVPoi: \tAIC=9145\tdiffAIC= 18\n",
      "PCR: \tAIC=9164\tdiffAIC= -1\n",
      "SM: \tAIC=8996\tdiffAIC= 168\n",
      "SWM: \tAIC=9148\tdiffAIC= 16\n",
      "WMEP: \tAIC=9089\tdiffAIC= 74\n",
      "MROI: \tAIC=9165\tdiffAIC= -2\n",
      "WMD: \tAIC=9151\tdiffAIC= 12\n",
      "WMG: \tAIC=9164\tdiffAIC= -1\n",
      "WMT: \tAIC=9164\tdiffAIC= -1\n",
      "WMV: \tAIC=9150\tdiffAIC= 13\n"
     ]
    }
   ],
   "source": [
    "# Ranking of exogenous features one by one using AIC\n",
    "# The higher the loss the better the feature\n",
    "print(\"No exo: \\tAIC=\"+str(round(autoARIMA.aic())))\n",
    "\n",
    "exogenousVars=exogenousTrain.columns.values\n",
    "AICVars=list()\n",
    "for k in range(0, len(exogenousVars)):\n",
    "    vark=exogenousVars[k]\n",
    "    ARIMAi=auto_arima(priceCloseTrain, exogenous=pd.DataFrame(exogenousTrain[vark]), \n",
    "            seasonal=False, trace=False, error_action='ignore', suppress_warnings=True, stepwise=True,\n",
    "            start_p=ARIMAbestparams[0], d=ARIMAbestparams[1], start_q=ARIMAbestparams[2], \n",
    "            max_p=ARIMAbestparams[0], max_d=ARIMAbestparams[1], max_q=ARIMAbestparams[2])\n",
    "    AICVars.append(ARIMAi.aic())\n",
    "    print(vark+\": \\tAIC=\"+str(round(ARIMAi.aic()))+\"\\tdiffAIC=\",str(round(autoARIMA.aic()-ARIMAi.aic())))\n",
    "\n",
    "# Save results\n",
    "matAIC=pd.DataFrame()\n",
    "matAIC[\"ExoVar\"]=exogenousVars\n",
    "matAIC[\"AIC\"]=AICVars\n",
    "matAIC[\"DiffAIC\"]=autoARIMA.aic()-AICVars\n",
    "matAIC[\"PercentGainAIC\"]=(autoARIMA.aic()-AICVars)/autoARIMA.aic()\n",
    "pathMatAIC=symbolFolder+\"/matrix_ARIMAX_AIC_exogenousVars_\"+symbol+\".csv\"\n",
    "matAIC.to_csv(pathMatAIC, index=False, sep=',', quotechar='\"')"
   ]
  },
  {
   "cell_type": "code",
   "execution_count": 12,
   "metadata": {},
   "outputs": [
    {
     "name": "stdout",
     "output_type": "stream",
     "text": [
      "Exo ['iv30call']: \tAIC=8862\tdiffAIC=301\n",
      "Exo ['iv30call', 'iv60call']: \tAIC=8849\tdiffAIC=315\n",
      "Exo ['iv30call', 'iv60call', 'iv90call']: \tAIC=8850\tdiffAIC=314\n",
      "Exo ['iv30call', 'iv60call', 'iv90call', 'iv120call']: \tAIC=8844\tdiffAIC=319\n",
      "Exo ['iv30call', 'iv60call', 'iv90call', 'iv120call', 'iv150call']: \tAIC=8844\tdiffAIC=319\n",
      "Exo ['iv30call', 'iv60call', 'iv90call', 'iv120call', 'iv150call', 'SM']: \tAIC=8841\tdiffAIC=322\n",
      "Exo ['iv30call', 'iv60call', 'iv90call', 'iv120call', 'iv150call', 'SM', 'iv180call']: \tAIC=8835\tdiffAIC=329\n",
      "Exo ['iv30call', 'iv60call', 'iv90call', 'iv120call', 'iv150call', 'SM', 'iv180call', 'WMEP']: \tAIC=8761\tdiffAIC=402\n",
      "Exo ['iv30call', 'iv60call', 'iv90call', 'iv120call', 'iv150call', 'SM', 'iv180call', 'WMEP', 'iv360call']: \tAIC=8671\tdiffAIC=492\n",
      "Exo ['iv30call', 'iv60call', 'iv90call', 'iv120call', 'iv150call', 'SM', 'iv180call', 'WMEP', 'iv360call', 'callvol']: \tAIC=8660\tdiffAIC=503\n",
      "Exo ['iv30call', 'iv60call', 'iv90call', 'iv120call', 'iv150call', 'SM', 'iv180call', 'WMEP', 'iv360call', 'callvol', 'CVPoi']: \tAIC=8662\tdiffAIC=502\n",
      "Exo ['iv30call', 'iv60call', 'iv90call', 'iv120call', 'iv150call', 'SM', 'iv180call', 'WMEP', 'iv360call', 'callvol', 'CVPoi', 'SWM']: \tAIC=8648\tdiffAIC=516\n",
      "Exo ['iv30call', 'iv60call', 'iv90call', 'iv120call', 'iv150call', 'SM', 'iv180call', 'WMEP', 'iv360call', 'callvol', 'CVPoi', 'SWM', 'totalvol']: \tAIC=8649\tdiffAIC=515\n",
      "Exo ['iv30call', 'iv60call', 'iv90call', 'iv120call', 'iv150call', 'SM', 'iv180call', 'WMEP', 'iv360call', 'callvol', 'CVPoi', 'SWM', 'totalvol', 'WMV']: \tAIC=8639\tdiffAIC=524\n",
      "Exo ['iv30call', 'iv60call', 'iv90call', 'iv120call', 'iv150call', 'SM', 'iv180call', 'WMEP', 'iv360call', 'callvol', 'CVPoi', 'SWM', 'totalvol', 'WMV', 'WMD']: \tAIC=8632\tdiffAIC=531\n",
      "Exo ['iv30call', 'iv60call', 'iv90call', 'iv120call', 'iv150call', 'SM', 'iv180call', 'WMEP', 'iv360call', 'callvol', 'CVPoi', 'SWM', 'totalvol', 'WMV', 'WMD', 'putvol']: \tAIC=8634\tdiffAIC=529\n",
      "Exo ['iv30call', 'iv60call', 'iv90call', 'iv120call', 'iv150call', 'SM', 'iv180call', 'WMEP', 'iv360call', 'callvol', 'CVPoi', 'SWM', 'totalvol', 'WMV', 'WMD', 'putvol', 'CTVR']: \tAIC=8629\tdiffAIC=534\n",
      "Exo ['iv30call', 'iv60call', 'iv90call', 'iv120call', 'iv150call', 'SM', 'iv180call', 'WMEP', 'iv360call', 'callvol', 'CVPoi', 'SWM', 'totalvol', 'WMV', 'WMD', 'putvol', 'CTVR', 'ToiTVR']: \tAIC=8630\tdiffAIC=534\n",
      "Exo ['iv30call', 'iv60call', 'iv90call', 'iv120call', 'iv150call', 'SM', 'iv180call', 'WMEP', 'iv360call', 'callvol', 'CVPoi', 'SWM', 'totalvol', 'WMV', 'WMD', 'putvol', 'CTVR', 'ToiTVR', 'PCR']: \tAIC=8618\tdiffAIC=545\n",
      "Exo ['iv30call', 'iv60call', 'iv90call', 'iv120call', 'iv150call', 'SM', 'iv180call', 'WMEP', 'iv360call', 'callvol', 'CVPoi', 'SWM', 'totalvol', 'WMV', 'WMD', 'putvol', 'CTVR', 'ToiTVR', 'PCR', 'CToiR']: \tAIC=8618\tdiffAIC=546\n",
      "Exo ['iv30call', 'iv60call', 'iv90call', 'iv120call', 'iv150call', 'SM', 'iv180call', 'WMEP', 'iv360call', 'callvol', 'CVPoi', 'SWM', 'totalvol', 'WMV', 'WMD', 'putvol', 'CTVR', 'ToiTVR', 'PCR', 'CToiR', 'WMT']: \tAIC=8586\tdiffAIC=578\n",
      "Exo ['iv30call', 'iv60call', 'iv90call', 'iv120call', 'iv150call', 'SM', 'iv180call', 'WMEP', 'iv360call', 'callvol', 'CVPoi', 'SWM', 'totalvol', 'WMV', 'WMD', 'putvol', 'CTVR', 'ToiTVR', 'PCR', 'CToiR', 'WMT', 'WMG']: \tAIC=8572\tdiffAIC=592\n",
      "Exo ['iv30call', 'iv60call', 'iv90call', 'iv120call', 'iv150call', 'SM', 'iv180call', 'WMEP', 'iv360call', 'callvol', 'CVPoi', 'SWM', 'totalvol', 'WMV', 'WMD', 'putvol', 'CTVR', 'ToiTVR', 'PCR', 'CToiR', 'WMT', 'WMG', 'calloi']: \tAIC=8557\tdiffAIC=607\n",
      "Exo ['iv30call', 'iv60call', 'iv90call', 'iv120call', 'iv150call', 'SM', 'iv180call', 'WMEP', 'iv360call', 'callvol', 'CVPoi', 'SWM', 'totalvol', 'WMV', 'WMD', 'putvol', 'CTVR', 'ToiTVR', 'PCR', 'CToiR', 'WMT', 'WMG', 'calloi', 'totaloi']: \tAIC=8558\tdiffAIC=605\n",
      "Exo ['iv30call', 'iv60call', 'iv90call', 'iv120call', 'iv150call', 'SM', 'iv180call', 'WMEP', 'iv360call', 'callvol', 'CVPoi', 'SWM', 'totalvol', 'WMV', 'WMD', 'putvol', 'CTVR', 'ToiTVR', 'PCR', 'CToiR', 'WMT', 'WMG', 'calloi', 'totaloi', 'MROI']: \tAIC=8559\tdiffAIC=604\n",
      "Exo ['iv30call', 'iv60call', 'iv90call', 'iv120call', 'iv150call', 'SM', 'iv180call', 'WMEP', 'iv360call', 'callvol', 'CVPoi', 'SWM', 'totalvol', 'WMV', 'WMD', 'putvol', 'CTVR', 'ToiTVR', 'PCR', 'CToiR', 'WMT', 'WMG', 'calloi', 'totaloi', 'MROI', 'putoi']: \tAIC=8561\tdiffAIC=602\n"
     ]
    }
   ],
   "source": [
    "###### Assess combination of exogenous variables to find the best combination\n",
    "\n",
    "# List of best exogenous variable candidates\n",
    "zippedVarSel=zip(matAIC[\"DiffAIC\"],exogenousVars)\n",
    "exoVarSelected = [element for _, element in sorted(zippedVarSel,reverse=True)]\n",
    "#print(exoVarSelected)\n",
    "\n",
    "# ARIMA with exogenous variables\n",
    "ARIMAexolist=list()\n",
    "AICVarsList=list()\n",
    "exolist=list()\n",
    "for k in range(0, len(exoVarSelected)):\n",
    "    ARIMAexoi=auto_arima(priceCloseTrain, exogenous=pd.DataFrame(exogenousTrain[exoVarSelected[0:(k+1)]]), seasonal=False, trace=False,\n",
    "            error_action='ignore', suppress_warnings=True, stepwise=True,\n",
    "            start_p=ARIMAbestparams[0], d=ARIMAbestparams[1], start_q=ARIMAbestparams[2], \n",
    "            max_p=ARIMAbestparams[0], max_d=ARIMAbestparams[1], max_q=ARIMAbestparams[2])\n",
    "    ARIMAexolist.append(ARIMAexoi)\n",
    "    AICVarsList.append(ARIMAexoi.aic())\n",
    "    exolist.append('_'.join(exoVarSelected[0:(k+1)]))\n",
    "    print(\"Exo \"+str(exoVarSelected[0:(k+1)])+\": \\tAIC=\"+str(round(ARIMAexoi.aic()))+\"\\tdiffAIC=\"+str(round(autoARIMA.aic()-ARIMAexoi.aic())))\n",
    "    \n",
    "# Save results\n",
    "matAICExoList=pd.DataFrame()\n",
    "matAICExoList[\"ExoVarList\"]=exolist\n",
    "matAICExoList[\"AIC\"]=AICVarsList\n",
    "matAICExoList[\"DiffAIC\"]=autoARIMA.aic()-AICVarsList\n",
    "matAICExoList[\"PercentGainAIC\"]=(autoARIMA.aic()-AICVarsList)/autoARIMA.aic()\n",
    "pathMatAICExoList=symbolFolder+\"/matrix_ARIMAX_AIC_exogenousVarsList_\"+symbol+\".csv\"\n",
    "matAICExoList.to_csv(pathMatAICExoList, index=False, sep=',', quotechar='\"')"
   ]
  },
  {
   "cell_type": "code",
   "execution_count": 13,
   "metadata": {},
   "outputs": [],
   "source": [
    "###### FORECAST AVERAGE PRICE USING ARIMA MODEL\n",
    "\n",
    "# Forecast with no exogenous variable (for comparison)\n",
    "future_forecast_noexo = autoARIMA.predict(n_periods=kdays)\n",
    "\n",
    "# Forecast for all exogenous variables with ARIMA \n",
    "# A ARIMA model is built to predict each exogenous variable.\n",
    "future_forecast_forexo=pd.DataFrame()\n",
    "for var in exoVarSelected:\n",
    "    autoARIMAforexoi = auto_arima(exogenousTrain[var], seasonal=False, trace=False,\n",
    "                error_action='ignore', suppress_warnings=True, stepwise=True)\n",
    "    future_forecast_forexoi=pd.DataFrame(autoARIMAforexoi.predict(n_periods=kdays))\n",
    "    future_forecast_forexo=pd.concat([future_forecast_forexo, future_forecast_forexoi], axis=1)\n",
    "future_forecast_forexo.columns=exoVarSelected\n",
    "future_forecast_forexo.index=priceCloseTest.index"
   ]
  },
  {
   "cell_type": "code",
   "execution_count": 23,
   "metadata": {},
   "outputs": [
    {
     "name": "stderr",
     "output_type": "stream",
     "text": [
      "/home/mourad/.local/lib/python3.6/site-packages/statsmodels/tsa/base/tsa_model.py:583: ValueWarning: No supported index is available. Prediction results will be given with an integer index beginning at `start`.\n",
      "  ValueWarning)\n",
      "/home/mourad/.local/lib/python3.6/site-packages/statsmodels/tsa/base/tsa_model.py:583: ValueWarning: No supported index is available. Prediction results will be given with an integer index beginning at `start`.\n",
      "  ValueWarning)\n",
      "/home/mourad/.local/lib/python3.6/site-packages/statsmodels/tsa/base/tsa_model.py:583: ValueWarning: No supported index is available. Prediction results will be given with an integer index beginning at `start`.\n",
      "  ValueWarning)\n",
      "/home/mourad/.local/lib/python3.6/site-packages/statsmodels/tsa/base/tsa_model.py:583: ValueWarning: No supported index is available. Prediction results will be given with an integer index beginning at `start`.\n",
      "  ValueWarning)\n",
      "/home/mourad/.local/lib/python3.6/site-packages/statsmodels/tsa/base/tsa_model.py:583: ValueWarning: No supported index is available. Prediction results will be given with an integer index beginning at `start`.\n",
      "  ValueWarning)\n",
      "/home/mourad/.local/lib/python3.6/site-packages/statsmodels/tsa/base/tsa_model.py:583: ValueWarning: No supported index is available. Prediction results will be given with an integer index beginning at `start`.\n",
      "  ValueWarning)\n",
      "/home/mourad/.local/lib/python3.6/site-packages/statsmodels/tsa/base/tsa_model.py:583: ValueWarning: No supported index is available. Prediction results will be given with an integer index beginning at `start`.\n",
      "  ValueWarning)\n",
      "/home/mourad/.local/lib/python3.6/site-packages/statsmodels/tsa/base/tsa_model.py:583: ValueWarning: No supported index is available. Prediction results will be given with an integer index beginning at `start`.\n",
      "  ValueWarning)\n",
      "/home/mourad/.local/lib/python3.6/site-packages/statsmodels/tsa/base/tsa_model.py:583: ValueWarning: No supported index is available. Prediction results will be given with an integer index beginning at `start`.\n",
      "  ValueWarning)\n",
      "/home/mourad/.local/lib/python3.6/site-packages/statsmodels/tsa/base/tsa_model.py:583: ValueWarning: No supported index is available. Prediction results will be given with an integer index beginning at `start`.\n",
      "  ValueWarning)\n",
      "/home/mourad/.local/lib/python3.6/site-packages/statsmodels/tsa/base/tsa_model.py:583: ValueWarning: No supported index is available. Prediction results will be given with an integer index beginning at `start`.\n",
      "  ValueWarning)\n",
      "/home/mourad/.local/lib/python3.6/site-packages/statsmodels/tsa/base/tsa_model.py:583: ValueWarning: No supported index is available. Prediction results will be given with an integer index beginning at `start`.\n",
      "  ValueWarning)\n",
      "/home/mourad/.local/lib/python3.6/site-packages/statsmodels/tsa/base/tsa_model.py:583: ValueWarning: No supported index is available. Prediction results will be given with an integer index beginning at `start`.\n",
      "  ValueWarning)\n",
      "/home/mourad/.local/lib/python3.6/site-packages/statsmodels/tsa/base/tsa_model.py:583: ValueWarning: No supported index is available. Prediction results will be given with an integer index beginning at `start`.\n",
      "  ValueWarning)\n",
      "/home/mourad/.local/lib/python3.6/site-packages/statsmodels/tsa/base/tsa_model.py:583: ValueWarning: No supported index is available. Prediction results will be given with an integer index beginning at `start`.\n",
      "  ValueWarning)\n",
      "/home/mourad/.local/lib/python3.6/site-packages/statsmodels/tsa/base/tsa_model.py:583: ValueWarning: No supported index is available. Prediction results will be given with an integer index beginning at `start`.\n",
      "  ValueWarning)\n",
      "/home/mourad/.local/lib/python3.6/site-packages/statsmodels/tsa/base/tsa_model.py:583: ValueWarning: No supported index is available. Prediction results will be given with an integer index beginning at `start`.\n",
      "  ValueWarning)\n",
      "/home/mourad/.local/lib/python3.6/site-packages/statsmodels/tsa/base/tsa_model.py:583: ValueWarning: No supported index is available. Prediction results will be given with an integer index beginning at `start`.\n",
      "  ValueWarning)\n",
      "/home/mourad/.local/lib/python3.6/site-packages/statsmodels/tsa/base/tsa_model.py:583: ValueWarning: No supported index is available. Prediction results will be given with an integer index beginning at `start`.\n",
      "  ValueWarning)\n",
      "/home/mourad/.local/lib/python3.6/site-packages/statsmodels/tsa/base/tsa_model.py:583: ValueWarning: No supported index is available. Prediction results will be given with an integer index beginning at `start`.\n",
      "  ValueWarning)\n",
      "/home/mourad/.local/lib/python3.6/site-packages/statsmodels/tsa/base/tsa_model.py:583: ValueWarning: No supported index is available. Prediction results will be given with an integer index beginning at `start`.\n",
      "  ValueWarning)\n",
      "/home/mourad/.local/lib/python3.6/site-packages/statsmodels/tsa/base/tsa_model.py:583: ValueWarning: No supported index is available. Prediction results will be given with an integer index beginning at `start`.\n",
      "  ValueWarning)\n",
      "/home/mourad/.local/lib/python3.6/site-packages/statsmodels/tsa/base/tsa_model.py:583: ValueWarning: No supported index is available. Prediction results will be given with an integer index beginning at `start`.\n",
      "  ValueWarning)\n",
      "/home/mourad/.local/lib/python3.6/site-packages/statsmodels/tsa/base/tsa_model.py:583: ValueWarning: No supported index is available. Prediction results will be given with an integer index beginning at `start`.\n",
      "  ValueWarning)\n",
      "/home/mourad/.local/lib/python3.6/site-packages/statsmodels/tsa/base/tsa_model.py:583: ValueWarning: No supported index is available. Prediction results will be given with an integer index beginning at `start`.\n",
      "  ValueWarning)\n",
      "/home/mourad/.local/lib/python3.6/site-packages/statsmodels/tsa/base/tsa_model.py:583: ValueWarning: No supported index is available. Prediction results will be given with an integer index beginning at `start`.\n",
      "  ValueWarning)\n"
     ]
    }
   ],
   "source": [
    "# Forecast using ARIMA with exogenous variables\n",
    "RMSEnoexo=np.sqrt(mt.mean_squared_error(priceCloseTest, future_forecast_noexo))\n",
    "MAEnoexo=mt.mean_absolute_error(priceCloseTest, future_forecast_noexo)\n",
    "\n",
    "RMSElist=[None] * len(exoVarSelected)\n",
    "MAElist=[None] * len(exoVarSelected)\n",
    "ExoVarList=[None] * len(exoVarSelected)\n",
    "future_forecast_exo_List=[None] * len(exoVarSelected)\n",
    "conf_int_exo_List=[None] * len(exoVarSelected)\n",
    "for k in range(0, len(exoVarSelected)):\n",
    "    future_forecast_exoi, conf_int_exoi = ARIMAexolist[k].predict(n_periods=kdays, return_conf_int=True,alpha=0.05,\n",
    "                                exogenous=pd.DataFrame(future_forecast_forexo[exoVarSelected[0:(k+1)]],index=future_forecast_forexo.index))\n",
    "    RMSEi=np.sqrt(mt.mean_squared_error(priceCloseTest, future_forecast_exoi))\n",
    "    RMSElist[k]=RMSEi\n",
    "    MAEi=mt.mean_absolute_error(priceCloseTest, future_forecast_exoi)\n",
    "    MAElist[k]=MAEi\n",
    "    ExoVarList[k]='_'.join(exoVarSelected[0:(k+1)])\n",
    "    future_forecast_exo_List[k]=future_forecast_exoi\n",
    "    conf_int_exo_List[k]=conf_int_exoi\n",
    "    #print(str(exoVarSelected[0:(k+1)]))"
   ]
  },
  {
   "cell_type": "code",
   "execution_count": 16,
   "metadata": {},
   "outputs": [
    {
     "name": "stdout",
     "output_type": "stream",
     "text": [
      "RMSE_noexo: 90.778\tMAE_noexo: 78.899\n",
      "\n",
      "                                               ExoVar   RMSE    MAE  \\\n",
      "0                                            iv30call  88.83  77.00   \n",
      "1                                   iv30call_iv60call  88.61  76.81   \n",
      "2                          iv30call_iv60call_iv90call  88.58  76.78   \n",
      "3                iv30call_iv60call_iv90call_iv120call  86.74  75.11   \n",
      "4      iv30call_iv60call_iv90call_iv120call_iv150call  88.26  76.49   \n",
      "5   iv30call_iv60call_iv90call_iv120call_iv150call_SM  88.11  76.36   \n",
      "6   iv30call_iv60call_iv90call_iv120call_iv150call...  87.58  75.85   \n",
      "7   iv30call_iv60call_iv90call_iv120call_iv150call...  99.12  87.54   \n",
      "8   iv30call_iv60call_iv90call_iv120call_iv150call...  97.86  86.22   \n",
      "9   iv30call_iv60call_iv90call_iv120call_iv150call...  97.17  85.51   \n",
      "10  iv30call_iv60call_iv90call_iv120call_iv150call...  97.26  85.60   \n",
      "11  iv30call_iv60call_iv90call_iv120call_iv150call...  91.08  79.30   \n",
      "12  iv30call_iv60call_iv90call_iv120call_iv150call...  91.50  79.72   \n",
      "13  iv30call_iv60call_iv90call_iv120call_iv150call...  89.95  78.30   \n",
      "14  iv30call_iv60call_iv90call_iv120call_iv150call...  90.72  79.09   \n",
      "15  iv30call_iv60call_iv90call_iv120call_iv150call...  90.71  79.07   \n",
      "16  iv30call_iv60call_iv90call_iv120call_iv150call...  91.04  79.42   \n",
      "17  iv30call_iv60call_iv90call_iv120call_iv150call...  91.32  79.70   \n",
      "18  iv30call_iv60call_iv90call_iv120call_iv150call...  91.81  80.21   \n",
      "19  iv30call_iv60call_iv90call_iv120call_iv150call...  91.72  80.11   \n",
      "20  iv30call_iv60call_iv90call_iv120call_iv150call...  90.05  78.68   \n",
      "21  iv30call_iv60call_iv90call_iv120call_iv150call...  86.61  75.35   \n",
      "22  iv30call_iv60call_iv90call_iv120call_iv150call...  87.00  75.74   \n",
      "23  iv30call_iv60call_iv90call_iv120call_iv150call...  87.17  75.88   \n",
      "24  iv30call_iv60call_iv90call_iv120call_iv150call...  87.02  75.75   \n",
      "25  iv30call_iv60call_iv90call_iv120call_iv150call...  87.01  75.74   \n",
      "\n",
      "    RMSEPercentReduction  MAEPercentReduction  \n",
      "0                  -0.02                -0.02  \n",
      "1                  -0.02                -0.03  \n",
      "2                  -0.02                -0.03  \n",
      "3                  -0.04                -0.05  \n",
      "4                  -0.03                -0.03  \n",
      "5                  -0.03                -0.03  \n",
      "6                  -0.04                -0.04  \n",
      "7                   0.09                 0.11  \n",
      "8                   0.08                 0.09  \n",
      "9                   0.07                 0.08  \n",
      "10                  0.07                 0.08  \n",
      "11                  0.00                 0.01  \n",
      "12                  0.01                 0.01  \n",
      "13                 -0.01                -0.01  \n",
      "14                 -0.00                 0.00  \n",
      "15                 -0.00                 0.00  \n",
      "16                  0.00                 0.01  \n",
      "17                  0.01                 0.01  \n",
      "18                  0.01                 0.02  \n",
      "19                  0.01                 0.02  \n",
      "20                 -0.01                -0.00  \n",
      "21                 -0.05                -0.04  \n",
      "22                 -0.04                -0.04  \n",
      "23                 -0.04                -0.04  \n",
      "24                 -0.04                -0.04  \n",
      "25                 -0.04                -0.04  \n",
      "\n",
      "Best model: iv30call_iv60call_iv90call_iv120call_iv150call_SM_iv180call_WMEP_iv360call_callvol_CVPoi_SWM_totalvol_WMV_WMD_putvol_CTVR_ToiTVR_PCR_CToiR_WMT_WMG\n"
     ]
    }
   ],
   "source": [
    "# Best models\n",
    "print(\"RMSE_noexo: \"+str(round(RMSEnoexo,3))+\"\\tMAE_noexo: \"+str(round(MAEnoexo,3))+\"\\n\")\n",
    "\n",
    "matMetrics=pd.DataFrame()\n",
    "matMetrics[\"ExoVar\"]=ExoVarList\n",
    "matMetrics[\"RMSE\"]=np.round(RMSElist,2)\n",
    "matMetrics[\"MAE\"]=np.round(MAElist,2)\n",
    "matMetrics[\"RMSEPercentReduction\"]=np.round((RMSElist-RMSEnoexo)/RMSEnoexo,2)\n",
    "matMetrics[\"MAEPercentReduction\"]=np.round((MAElist-MAEnoexo)/MAEnoexo,2)\n",
    "print(matMetrics)\n",
    "print(\"\\nBest model: \"+ExoVarList[np.argmin(RMSElist)])\n",
    "\n",
    "pathMatMetrics=symbolFolder+\"/matrix_ARIMAX_metrics_exogenousVarsList_\"+symbol+\".csv\"\n",
    "matMetrics.to_csv(pathMatMetrics, index=False, sep=',', quotechar='\"')"
   ]
  },
  {
   "cell_type": "code",
   "execution_count": 17,
   "metadata": {},
   "outputs": [],
   "source": [
    "# Forecast with confidence interval (alpha=5%)\n",
    "future_forecast_exobest=future_forecast_exo_List[np.argmin(RMSElist)]\n",
    "conf_int_exobest=conf_int_exo_List[np.argmin(RMSElist)]\n",
    "\n",
    "future_forecast = pd.DataFrame(future_forecast_exobest,columns=['future_forecast'],index=priceCloseTest.index.values)\n",
    "priceCloseTest = pd.DataFrame(priceCloseTest)\n",
    "conf_int=conf_int_exobest\n",
    "\n",
    "model_exobest=ARIMAexolist[np.argmin(RMSElist)]\n",
    "file_autoARIMAexobest = open(symbolFolder+\"/autoARIMA_\"+symbol+\"_bestexo.txt\", \"a\")\n",
    "file_autoARIMAexobest.write(str(model_exobest.summary()))\n",
    "file_autoARIMAexobest.close()"
   ]
  },
  {
   "cell_type": "code",
   "execution_count": 17,
   "metadata": {},
   "outputs": [
    {
     "data": {
      "image/png": "[encoded data removed]",
      "text/plain": [
       "<Figure size 864x864 with 2 Axes>"
      ]
     },
     "metadata": {
      "needs_background": "light"
     },
     "output_type": "display_data"
    }
   ],
   "source": [
    "# Better forecast plots\n",
    "plotForeCastBetter=symbolFolder+\"/plot_ARIMA_forecast_better_\"+symbol+\".pdf\"\n",
    "fig, axes = pyplot.subplots(2, 1, figsize=(12, 12))\n",
    "\n",
    "# --------------------- Actual vs. Predicted --------------------------\n",
    "axes[0].plot(priceCloseTrain, color='blue', label='Training Data')\n",
    "axes[0].plot(priceCloseTest.index, future_forecast, color='green', linewidth=4, label='Predicted Price')\n",
    "\n",
    "axes[0].plot(priceCloseTest.index, priceCloseTest, color='red', label='Actual Price')\n",
    "axes[0].set_title('Prices Prediction')\n",
    "axes[0].set_xlabel('Dates')\n",
    "axes[0].set_ylabel('Prices')\n",
    "axes[0].legend()\n",
    "\n",
    "\n",
    "# ------------------ Predicted with confidence intervals ----------------\n",
    "axes[1].plot(priceCloseTrain, color='blue', label='Training Data')\n",
    "axes[1].plot(priceCloseTest.index, future_forecast, color='green',\n",
    "             label='Predicted Price')\n",
    "\n",
    "axes[1].set_title('Prices Predictions & Confidence Intervals')\n",
    "axes[1].set_xlabel('Dates')\n",
    "axes[1].set_ylabel('Prices')\n",
    "\n",
    "conf_int = np.asarray(conf_int)\n",
    "axes[1].fill_between(priceCloseTest.index, conf_int[:, 0], conf_int[:, 1],\n",
    "                     alpha=0.9, color='orange', label=\"95% Confidence Intervals\")\n",
    "axes[1].legend()\n",
    "pyplot.savefig(plotForeCastBetter, bbox_inches='tight')\n"
   ]
  },
  {
   "cell_type": "code",
   "execution_count": 18,
   "metadata": {},
   "outputs": [
    {
     "name": "stdout",
     "output_type": "stream",
     "text": [
      "mu=1289.011\n",
      "SE=60.226\n"
     ]
    },
    {
     "data": {
      "image/png": "[encoded data removed]",
      "text/plain": [
       "<Figure size 432x288 with 1 Axes>"
      ]
     },
     "metadata": {
      "needs_background": "light"
     },
     "output_type": "display_data"
    }
   ],
   "source": [
    "###### PROBABILITY GRAPH FROM ARIMA MODEL\n",
    "\n",
    "# Note to Rim and Quinn: ARIMA model computes a predicted mean mu at kdays and a 95% confidence interval\n",
    "# To compute the probability graph (AKA density function in statistics),\n",
    "# we calculate the Standard Error (SE) from the lower bound of the confidence interval.\n",
    "# Once we have the mean mu and the SE, then we can plot the probability graph.\n",
    "\n",
    "# Current price\n",
    "priceCloseCurrent=priceCloseTrain.iloc[len(priceCloseTrain)-1]\n",
    "\n",
    "# Extract predicted mean and confidence interval\n",
    "mu=future_forecast.iloc[kdays-1,0]\n",
    "lower=conf_int[kdays-1,0]\n",
    "upper=conf_int[kdays-1,1]\n",
    "print(\"mu=\"+str(round(mu,3)))\n",
    "\n",
    "# Compute Standard Error (SE) from predicted confidence interval (reverse engineering here ;) )\n",
    "se=(mu-lower)/norm.ppf(0.975)\n",
    "print(\"SE=\"+str(round(se,3)))\n",
    "\n",
    "# Probability graph\n",
    "plotProbabilityGraph=symbolFolder+\"/plot_ARIMA_probabilityGraph_\"+symbol+\"_\"+str(kdays)+\"days.pdf\"\n",
    "x = np.linspace(mu - 3*se, mu + 3*se, 100)\n",
    "pyplot.plot(x, norm.pdf(x, mu, se))\n",
    "pyplot.axvline(x=priceCloseCurrent,color='red',label='Current Price')\n",
    "pyplot.axvline(x=lower,color='green',label='95% Pred Interval')\n",
    "pyplot.axvline(x=upper,color='green')\n",
    "pyplot.xlabel('Stock price ($)', fontsize=18)\n",
    "pyplot.ylabel('Probability', fontsize=18)\n",
    "pyplot.legend(loc='upper right')\n",
    "pyplot.savefig(plotProbabilityGraph, bbox_inches='tight')\n",
    "pyplot.show()"
   ]
  },
  {
   "cell_type": "code",
   "execution_count": null,
   "metadata": {},
   "outputs": [],
   "source": []
  },
  {
   "cell_type": "code",
   "execution_count": null,
   "metadata": {},
   "outputs": [],
   "source": []
  }
 ],
 "metadata": {
  "kernelspec": {
   "display_name": "Python 3",
   "language": "python",
   "name": "python3"
  },
  "language_info": {
   "codemirror_mode": {
    "name": "ipython",
    "version": 3
   },
   "file_extension": ".py",
   "mimetype": "text/x-python",
   "name": "python",
   "nbconvert_exporter": "python",
   "pygments_lexer": "ipython3",
   "version": "3.6.9"
  }
 },
 "nbformat": 4,
 "nbformat_minor": 2
}
