{
 "cells": [
  {
   "cell_type": "code",
   "execution_count": 1,
   "metadata": {},
   "outputs": [
    {
     "name": "stderr",
     "output_type": "stream",
     "text": [
      "/home/mourad/.local/lib/python3.6/site-packages/pandas_datareader/compat/__init__.py:7: FutureWarning: pandas.util.testing is deprecated. Use the functions in the public API at pandas.testing instead.\n",
      "  from pandas.util.testing import assert_frame_equal\n"
     ]
    }
   ],
   "source": [
    "# 16/06/2020\n",
    "# TASI.AI\n",
    "# Raphael Mourad\n",
    "\n",
    "# ARIMA + Exogenous variables = ARIMAX\n",
    "# ARIMAX is an ARIMA model but in which you can include additional features \n",
    "# such as option features to better predict the price.\n",
    "\n",
    "# https://www.statsmodels.org/dev/examples/notebooks/generated/statespace_sarimax_stata.html\n",
    "\n",
    "###### IMPORT LIBRARIES AND SET UP PARAMETERS\n",
    "\n",
    "# Import libraries\n",
    "import os\n",
    "import pandas as pd\n",
    "import numpy as np\n",
    "import sklearn.metrics as mt\n",
    "import random\n",
    "import datetime\n",
    "from pandas_datareader import DataReader\n",
    "from matplotlib import pyplot\n",
    "from statsmodels.graphics.tsaplots import plot_acf, plot_pacf\n",
    "from statsmodels.stats.diagnostic import acorr_ljungbox\n",
    "from statsmodels.tsa.arima_model import ARIMA\n",
    "from pmdarima import auto_arima\n",
    "from scipy.stats import norm"
   ]
  },
  {
   "cell_type": "code",
   "execution_count": 2,
   "metadata": {},
   "outputs": [
    {
     "name": "stdout",
     "output_type": "stream",
     "text": [
      "/media/mourad/diskSave/MCF_Toulouse/recherche/ConsulProj/RamCiri\n"
     ]
    }
   ],
   "source": [
    "# Set up directory\n",
    "dir=\"/media/mourad/diskSave/MCF_Toulouse/recherche/ConsulProj/RamCiri\"\n",
    "os.chdir(dir)\n",
    "print(os.getcwd())"
   ]
  },
  {
   "cell_type": "code",
   "execution_count": 3,
   "metadata": {},
   "outputs": [],
   "source": [
    "# Parameters\n",
    "symbol=\"EVER\" # Set up the symbol you want\n",
    "kdays=30 # Number of days for forecasting\n",
    "kdaysExpi=180 # Number of days until expiration date"
   ]
  },
  {
   "cell_type": "code",
   "execution_count": 4,
   "metadata": {},
   "outputs": [],
   "source": [
    "# Create folder for symbol\n",
    "symbolFolder=\"results/ARIMA_optionstats_features/\"+symbol\n",
    "if(os.path.isdir(symbolFolder)==False):\n",
    "    os.mkdir(symbolFolder, mode=0o777)"
   ]
  },
  {
   "cell_type": "code",
   "execution_count": 5,
   "metadata": {},
   "outputs": [
    {
     "name": "stdout",
     "output_type": "stream",
     "text": [
      "['AAPL' 'AMZN' 'AXP' 'BA' 'CAT' 'CDLX' 'CHGG' 'CYBR' 'DIS' 'EROS' 'EVER'\n",
      " 'GOOG' 'GS' 'HD' 'IBM' 'ITRI' 'JNJ' 'JPM' 'KO' 'MCD' 'MRK' 'MSFT' 'NFLX'\n",
      " 'NIO' 'NKE' 'OSIS' 'PFE' 'PG' 'PRFT' 'XOM']\n",
      "      symbol  quotedate      close\n",
      "27623   EVER 2015-05-01  18.850000\n",
      "27459   EVER 2015-05-04  18.920000\n",
      "27390   EVER 2015-05-05  18.930000\n",
      "27732   EVER 2015-05-06  18.750000\n",
      "27558   EVER 2015-05-07  18.620001\n",
      "...      ...        ...        ...\n",
      "27723   EVER 2020-05-22  49.000000\n",
      "27658   EVER 2020-05-26  46.630000\n",
      "27458   EVER 2020-05-27  52.120000\n",
      "27982   EVER 2020-05-28  52.300000\n",
      "27692   EVER 2020-05-29  53.920000\n",
      "\n",
      "[649 rows x 3 columns]\n",
      "Missing data= 0\n"
     ]
    }
   ],
   "source": [
    "###### LOAD AND PREPROCESS DATA\n",
    "\n",
    "### STOCK PRICE\n",
    "# Import price\n",
    "path=\"data/stockquotes/samples_L3_stockquotes_sample.csv.gz\"\n",
    "data_stockquotes = pd.read_csv(path, compression='gzip', header=0, sep=',', quotechar='\"', error_bad_lines=False)\n",
    "data_stockquotes[\"quotedate\"] = pd.to_datetime(data_stockquotes[\"quotedate\"])\n",
    "#print(data_stockquotes)\n",
    "print(np.unique(data_stockquotes[\"symbol\"]))\n",
    "\n",
    "# Choose the stock\n",
    "data_stockquotes_sel=data_stockquotes[data_stockquotes[\"symbol\"]==symbol]\n",
    "data_stockquotes_sel=data_stockquotes_sel.sort_values('quotedate')\n",
    "data_stockquotes_sel=data_stockquotes_sel[[\"symbol\",\"quotedate\",\"close\"]]\n",
    "#data_stockquotes_sel=data_stockquotes_sel.set_index('quotedate')\n",
    "print(data_stockquotes_sel)\n",
    "\n",
    "# Check the absence of missing data \n",
    "NAcount=data_stockquotes.isnull().sum().sum()\n",
    "print(\"Missing data=\",NAcount)"
   ]
  },
  {
   "cell_type": "code",
   "execution_count": 6,
   "metadata": {},
   "outputs": [
    {
     "name": "stdout",
     "output_type": "stream",
     "text": [
      "['symbol' 'quotedate' 'iv30call' 'iv60call' 'iv90call' 'iv120call'\n",
      " 'iv150call' 'iv180call' 'iv360call' 'callvol' 'putvol' 'totalvol'\n",
      " 'calloi' 'putoi' 'totaloi']\n",
      "       iv30call  iv60call  totalvol  totaloi     CVPoi\n",
      "31857    0.0517    0.0951         0     1466  0.000682\n",
      "266      0.3993    0.2844         0     1466  0.000682\n",
      "16857    0.4023    0.2883       129     1466  0.088616\n",
      "60130    0.3495    0.2575        28     1501  0.019768\n",
      "3794     0.2532    0.2256         0     1519  0.000666\n",
      "...         ...       ...       ...      ...       ...\n",
      "38882    0.7712    0.7687       382     2110  0.240881\n",
      "44467    0.7666    0.7848       695     2327  0.329702\n",
      "2980     0.6897    0.6948       235     2477  0.101375\n",
      "2274     0.7548    0.7415       947     2509  0.382567\n",
      "45486    0.7018    0.7367       153     2718  0.061355\n",
      "\n",
      "[648 rows x 5 columns]\n"
     ]
    }
   ],
   "source": [
    "### STOCK OPTION STATISTICS\n",
    "# Import optionstats\n",
    "pathOptionStats=\"data/optionstats/samples_L3_optionstats_sample.csv.gz\"\n",
    "data_optionStats = pd.read_csv(pathOptionStats, compression='gzip', header=0, sep=',', quotechar='\"', error_bad_lines=False)\n",
    "data_optionStats[\"quotedate\"] = pd.to_datetime(data_optionStats[\"quotedate\"])\n",
    "data_optionStats = data_optionStats.drop(columns=[\"iv30put\",\"iv30mean\",\"iv60put\",\"iv60mean\",\"iv90put\",\"iv90mean\",\n",
    "                                                 \"iv120put\",\"iv120mean\",\"iv150put\",\"iv150mean\",\"iv180put\",\"iv180mean\",\n",
    "                                                 \"iv360put\",\"iv360mean\"])\n",
    "print(data_optionStats.columns.values)\n",
    "\n",
    "# Choose the stock\n",
    "data_optionStats_sel=data_optionStats[data_optionStats[\"symbol\"]==symbol]\n",
    "data_optionStats_sel=data_optionStats_sel.sort_values([\"quotedate\"])\n",
    "#data_optionStats_sel=data_optionStats_sel.set_index('quotedate')\n",
    "data_optionStats_sel=pd.DataFrame.drop_duplicates(data_optionStats_sel)\n",
    "data_optionStats_sel=data_optionStats_sel.drop(columns=[\"symbol\"])\n",
    "#print(data_optionStats_sel)\n",
    "\n",
    "# Compute new features from optionstats\n",
    "# 1 is added to avoid +Inf values\n",
    "# Call volume / total volume ratio (CTVR)\n",
    "data_optionStats_sel[\"CTVR\"]=(data_optionStats_sel[\"callvol\"]+1)/(data_optionStats_sel[\"totalvol\"]+1)\n",
    "# Call oi / total oi ratio (CToiR)\n",
    "data_optionStats_sel[\"CToiR\"]=(data_optionStats_sel[\"calloi\"]+1)/(data_optionStats_sel[\"totaloi\"]+1)\n",
    "# Total oi / Total volume ratio (ToiTVR)+1)\n",
    "data_optionStats_sel[\"ToiTVR\"]=(data_optionStats_sel[\"totaloi\"]+1)/(data_optionStats_sel[\"totalvol\"]+1)\n",
    "# Current volume / Previous day oi\n",
    "TVday1=data_optionStats_sel.iloc[1:len(data_optionStats_sel),data_optionStats_sel.columns.values==\"totalvol\"]\n",
    "Toiday0=data_optionStats_sel.iloc[0:(len(data_optionStats_sel)-1),data_optionStats_sel.columns.values==\"totaloi\"]\n",
    "CVPoi=(TVday1[\"totalvol\"].values+1)/(Toiday0[\"totaloi\"].values+1)\n",
    "CVPoi=np.append(CVPoi[0],CVPoi)\n",
    "data_optionStats_sel[\"CVPoi\"]=CVPoi\n",
    "print(data_optionStats_sel[[\"iv30call\",\"iv60call\",'totalvol','totaloi','CVPoi']])"
   ]
  },
  {
   "cell_type": "code",
   "execution_count": 7,
   "metadata": {},
   "outputs": [
    {
     "name": "stdout",
     "output_type": "stream",
     "text": [
      "       DataDate     PCR     SM     SWM    WMEP  MROI    WMD    WMG     WMT  \\\n",
      "0    2015-05-01   1.000  0.938   0.938  18.850   0.0  0.000  0.002  -0.061   \n",
      "1    2015-05-04   1.000  0.888   0.888  18.900   0.0  0.000  0.001  -0.044   \n",
      "2    2015-05-05  80.000  0.875   1.786  17.189   0.0 -0.217  0.107  -0.996   \n",
      "3    2015-05-06  24.000  0.938   1.697  17.324   0.0 -0.134  0.050  -1.144   \n",
      "4    2015-05-07   1.000  0.912   0.913  18.575   0.0 -0.000  0.004  -0.097   \n",
      "..          ...     ...    ...     ...     ...   ...    ...    ...     ...   \n",
      "643  2020-05-22   0.015  7.400  11.325  55.714   0.0  0.303  0.024 -14.963   \n",
      "644  2020-05-26   0.002  7.150  28.288  74.393   0.0  0.044  0.007  -3.512   \n",
      "645  2020-05-27   0.098  7.430   6.070  54.417   0.0  0.540  0.016 -13.540   \n",
      "646  2020-05-28   0.039  7.425   7.918  59.659   1.0  0.614  0.015 -14.446   \n",
      "647  2020-05-29   0.224  7.000   6.227  57.992   1.0  0.500  0.022 -19.274   \n",
      "\n",
      "       WMV  \n",
      "0    0.081  \n",
      "1    0.014  \n",
      "2    3.520  \n",
      "3    1.233  \n",
      "4    0.127  \n",
      "..     ...  \n",
      "643  6.474  \n",
      "644  1.561  \n",
      "645  7.356  \n",
      "646  7.831  \n",
      "647  7.281  \n",
      "\n",
      "[648 rows x 10 columns]\n"
     ]
    }
   ],
   "source": [
    "### STOCK OPTION FEATURES\n",
    "# Import option_features\n",
    "pathOptionFeats=\"data/options_features/samples_L3_options_features_\"+symbol+\"_\"+str(kdaysExpi)+\"daysExpi.csv.gz\"\n",
    "data_optionFeats = pd.read_csv(pathOptionFeats, compression='gzip', header=0, sep=',', quotechar='\"', error_bad_lines=False)\n",
    "print(data_optionFeats)\n",
    "data_optionFeats[\"DataDate\"] = pd.to_datetime(data_optionFeats[\"DataDate\"])"
   ]
  },
  {
   "cell_type": "code",
   "execution_count": 8,
   "metadata": {},
   "outputs": [
    {
     "name": "stdout",
     "output_type": "stream",
     "text": [
      "                close  iv30call  iv60call  iv90call  iv120call  iv150call  \\\n",
      "quotedate                                                                   \n",
      "2015-05-01  18.850000    0.0517    0.0951    0.1273     0.1595     0.1809   \n",
      "2015-05-04  18.920000    0.3993    0.2844    0.2563     0.2283     0.2089   \n",
      "2015-05-05  18.930000    0.4023    0.2883    0.2540     0.2196     0.1995   \n",
      "2015-05-06  18.750000    0.3495    0.2575    0.2380     0.2186     0.2077   \n",
      "2015-05-07  18.620001    0.2532    0.2256    0.2250     0.2244     0.2194   \n",
      "...               ...       ...       ...       ...        ...        ...   \n",
      "2020-05-22  49.000000    0.7712    0.7687    0.7959     0.8211     0.8141   \n",
      "2020-05-26  46.630000    0.7666    0.7848    0.8048     0.8205     0.8171   \n",
      "2020-05-27  52.120000    0.6897    0.6948    0.7527     0.7952     0.7836   \n",
      "2020-05-28  52.300000    0.7548    0.7415    0.7965     0.8351     0.8256   \n",
      "2020-05-29  53.920000    0.7018    0.7367    0.7642     0.7836     0.7829   \n",
      "\n",
      "            iv180call  iv360call  callvol  putvol  ...     CVPoi     PCR  \\\n",
      "quotedate                                          ...                     \n",
      "2015-05-01     0.1824     0.0000        0       0  ...  0.000682   1.000   \n",
      "2015-05-04     0.1999     0.5929        0       0  ...  0.000682   1.000   \n",
      "2015-05-05     0.1945     0.6496        0     129  ...  0.088616  80.000   \n",
      "2015-05-06     0.2047     0.6185        5      23  ...  0.019768  24.000   \n",
      "2015-05-07     0.2111     0.2784        0       0  ...  0.000666   1.000   \n",
      "...               ...        ...      ...     ...  ...       ...     ...   \n",
      "2020-05-22     0.8071     0.6533      366      16  ...  0.240881   0.015   \n",
      "2020-05-26     0.8138     0.6503      666      29  ...  0.329702   0.002   \n",
      "2020-05-27     0.7719     0.4809      208      27  ...  0.101375   0.098   \n",
      "2020-05-28     0.8161     0.6537      837     110  ...  0.382567   0.039   \n",
      "2020-05-29     0.7822     0.5529      129      24  ...  0.061355   0.224   \n",
      "\n",
      "               SM     SWM    WMEP  MROI    WMD    WMG     WMT    WMV  \n",
      "quotedate                                                             \n",
      "2015-05-01  0.938   0.938  18.850   0.0  0.000  0.002  -0.061  0.081  \n",
      "2015-05-04  0.888   0.888  18.900   0.0  0.000  0.001  -0.044  0.014  \n",
      "2015-05-05  0.875   1.786  17.189   0.0 -0.217  0.107  -0.996  3.520  \n",
      "2015-05-06  0.938   1.697  17.324   0.0 -0.134  0.050  -1.144  1.233  \n",
      "2015-05-07  0.912   0.913  18.575   0.0 -0.000  0.004  -0.097  0.127  \n",
      "...           ...     ...     ...   ...    ...    ...     ...    ...  \n",
      "2020-05-22  7.400  11.325  55.714   0.0  0.303  0.024 -14.963  6.474  \n",
      "2020-05-26  7.150  28.288  74.393   0.0  0.044  0.007  -3.512  1.561  \n",
      "2020-05-27  7.430   6.070  54.417   0.0  0.540  0.016 -13.540  7.356  \n",
      "2020-05-28  7.425   7.918  59.659   1.0  0.614  0.015 -14.446  7.831  \n",
      "2020-05-29  7.000   6.227  57.992   1.0  0.500  0.022 -19.274  7.281  \n",
      "\n",
      "[648 rows x 27 columns]\n"
     ]
    }
   ],
   "source": [
    "### MERGE PRICE WITH OPTION STATS AND OPTION FEATS\n",
    "\n",
    "# Merge price with option stats\n",
    "priceOptionStats=data_stockquotes_sel.merge(data_optionStats_sel, left_on='quotedate', right_on='quotedate')\n",
    "\n",
    "# Merge with option feats\n",
    "priceOptionStatsFeats=priceOptionStats.merge(data_optionFeats, left_on='quotedate', right_on='DataDate')\n",
    "\n",
    "# Format table\n",
    "priceOptionStatsFeats=priceOptionStatsFeats.drop(columns=[\"symbol\",\"DataDate\"])\n",
    "priceOptionStatsFeats=priceOptionStatsFeats.set_index('quotedate')\n",
    "#print(priceOptionStats[[\"close\",\"iv30call\",\"iv30put\"]])\n",
    "print(priceOptionStatsFeats)"
   ]
  },
  {
   "cell_type": "code",
   "execution_count": 9,
   "metadata": {},
   "outputs": [],
   "source": [
    "###### BUILD AND AUTOSELECT ARIMA MODEL\n",
    "\n",
    "# Split train/test data\n",
    "priceOptionStatsTrain = priceOptionStatsFeats[0:(len(priceOptionStatsFeats)-kdays)]\n",
    "priceOptionStatsTest = priceOptionStatsFeats[(len(priceOptionStatsFeats)-kdays):len(priceOptionStatsFeats)]\n",
    "\n",
    "priceCloseTrain=priceOptionStatsTrain[\"close\"]\n",
    "priceCloseTest=priceOptionStatsTest[\"close\"]\n",
    "\n",
    "exogenousTrain=priceOptionStatsTrain.drop(columns=\"close\")\n",
    "exogenousTest=priceOptionStatsTest.drop(columns=\"close\")\n",
    "#print(priceOptionStatsTrain)\n",
    "#print(priceOptionStatsTest[0:5])"
   ]
  },
  {
   "cell_type": "code",
   "execution_count": 10,
   "metadata": {},
   "outputs": [
    {
     "name": "stdout",
     "output_type": "stream",
     "text": [
      "Performing stepwise search to minimize aic\n",
      "Fit ARIMA(2,1,2)x(0,0,0,0) [intercept=True]; AIC=1732.129, BIC=1758.678, Time=0.335 seconds\n",
      "Fit ARIMA(0,1,0)x(0,0,0,0) [intercept=True]; AIC=1785.961, BIC=1794.811, Time=0.014 seconds\n",
      "Fit ARIMA(1,1,0)x(0,0,0,0) [intercept=True]; AIC=1769.588, BIC=1782.863, Time=0.044 seconds\n",
      "Fit ARIMA(0,1,1)x(0,0,0,0) [intercept=True]; AIC=1773.153, BIC=1786.428, Time=0.053 seconds\n",
      "Fit ARIMA(0,1,0)x(0,0,0,0) [intercept=False]; AIC=1784.362, BIC=1788.787, Time=0.013 seconds\n",
      "Fit ARIMA(1,1,2)x(0,0,0,0) [intercept=True]; AIC=1764.583, BIC=1786.707, Time=0.127 seconds\n",
      "Fit ARIMA(2,1,1)x(0,0,0,0) [intercept=True]; AIC=1764.937, BIC=1787.062, Time=0.128 seconds\n",
      "Fit ARIMA(3,1,2)x(0,0,0,0) [intercept=True]; AIC=1733.728, BIC=1764.702, Time=0.354 seconds\n",
      "Fit ARIMA(2,1,3)x(0,0,0,0) [intercept=True]; AIC=1733.704, BIC=1764.678, Time=0.496 seconds\n",
      "Fit ARIMA(1,1,1)x(0,0,0,0) [intercept=True]; AIC=1764.727, BIC=1782.426, Time=0.084 seconds\n",
      "Fit ARIMA(1,1,3)x(0,0,0,0) [intercept=True]; AIC=1765.745, BIC=1792.294, Time=0.232 seconds\n",
      "Fit ARIMA(3,1,1)x(0,0,0,0) [intercept=True]; AIC=1766.655, BIC=1793.204, Time=0.197 seconds\n",
      "Fit ARIMA(3,1,3)x(0,0,0,0) [intercept=True]; AIC=1735.962, BIC=1771.360, Time=0.521 seconds\n",
      "Total fit time: 2.604 seconds\n",
      "(2, 1, 2)\n"
     ]
    }
   ],
   "source": [
    "# Build ARIMA model and finding automatically the best ARIMA model (function called auto_arima)\n",
    "autoARIMA = auto_arima(priceCloseTrain, seasonal=False, trace=True,\n",
    "                error_action='ignore', suppress_warnings=True, stepwise=True)\n",
    "ARIMAbestparams=autoARIMA.order\n",
    "print(ARIMAbestparams)\n",
    "file_autoARIMA = open(symbolFolder+\"/autoARIMA_\"+symbol+\".txt\", \"a\")\n",
    "file_autoARIMA.write(str(autoARIMA.summary()))\n",
    "file_autoARIMA.close()"
   ]
  },
  {
   "cell_type": "code",
   "execution_count": 11,
   "metadata": {},
   "outputs": [
    {
     "name": "stdout",
     "output_type": "stream",
     "text": [
      "No exo: \tAIC=1732\n",
      "iv30call: \tAIC=1734\tdiffAIC= -2\n",
      "iv60call: \tAIC=1732\tdiffAIC= 1\n",
      "iv90call: \tAIC=1729\tdiffAIC= 3\n",
      "iv120call: \tAIC=1727\tdiffAIC= 5\n",
      "iv150call: \tAIC=1721\tdiffAIC= 11\n",
      "iv180call: \tAIC=1726\tdiffAIC= 6\n",
      "iv360call: \tAIC=1734\tdiffAIC= -2\n",
      "callvol: \tAIC=1759\tdiffAIC= -27\n",
      "putvol: \tAIC=1667\tdiffAIC= 65\n",
      "totalvol: \tAIC=1744\tdiffAIC= -12\n",
      "calloi: \tAIC=1767\tdiffAIC= -34\n",
      "putoi: \tAIC=1764\tdiffAIC= -32\n",
      "totaloi: \tAIC=1766\tdiffAIC= -34\n",
      "CTVR: \tAIC=1734\tdiffAIC= -2\n",
      "CToiR: \tAIC=1726\tdiffAIC= 6\n",
      "ToiTVR: \tAIC=1766\tdiffAIC= -34\n",
      "CVPoi: \tAIC=1734\tdiffAIC= -2\n",
      "PCR: \tAIC=1729\tdiffAIC= 3\n",
      "SM: \tAIC=1601\tdiffAIC= 131\n",
      "SWM: \tAIC=1686\tdiffAIC= 46\n",
      "WMEP: \tAIC=1529\tdiffAIC= 203\n",
      "MROI: \tAIC=1729\tdiffAIC= 3\n",
      "WMD: \tAIC=1712\tdiffAIC= 20\n",
      "WMG: \tAIC=1734\tdiffAIC= -2\n",
      "WMT: \tAIC=1704\tdiffAIC= 28\n",
      "WMV: \tAIC=1704\tdiffAIC= 28\n"
     ]
    }
   ],
   "source": [
    "# Ranking of exogenous features one by one using AIC\n",
    "# The higher the loss the better the feature\n",
    "print(\"No exo: \\tAIC=\"+str(round(autoARIMA.aic())))\n",
    "\n",
    "exogenousVars=exogenousTrain.columns.values\n",
    "AICVars=list()\n",
    "for k in range(0, len(exogenousVars)):\n",
    "    vark=exogenousVars[k]\n",
    "    ARIMAi=auto_arima(priceCloseTrain, exogenous=pd.DataFrame(exogenousTrain[vark]), \n",
    "            seasonal=False, trace=False, error_action='ignore', suppress_warnings=True, stepwise=True,\n",
    "            start_p=ARIMAbestparams[0], d=ARIMAbestparams[1], start_q=ARIMAbestparams[2], \n",
    "            max_p=ARIMAbestparams[0], max_d=ARIMAbestparams[1], max_q=ARIMAbestparams[2])\n",
    "    AICVars.append(ARIMAi.aic())\n",
    "    print(vark+\": \\tAIC=\"+str(round(ARIMAi.aic()))+\"\\tdiffAIC=\",str(round(autoARIMA.aic()-ARIMAi.aic())))\n",
    "\n",
    "# Save results\n",
    "matAIC=pd.DataFrame()\n",
    "matAIC[\"ExoVar\"]=exogenousVars\n",
    "matAIC[\"AIC\"]=AICVars\n",
    "matAIC[\"DiffAIC\"]=autoARIMA.aic()-AICVars\n",
    "matAIC[\"PercentGainAIC\"]=(autoARIMA.aic()-AICVars)/autoARIMA.aic()\n",
    "pathMatAIC=symbolFolder+\"/matrix_ARIMAX_AIC_exogenousVars_\"+symbol+\".csv\"\n",
    "matAIC.to_csv(pathMatAIC, index=False, sep=',', quotechar='\"')"
   ]
  },
  {
   "cell_type": "code",
   "execution_count": 12,
   "metadata": {},
   "outputs": [
    {
     "name": "stdout",
     "output_type": "stream",
     "text": [
      "Exo ['WMEP']: \tAIC=1529\tdiffAIC=203\n",
      "Exo ['WMEP', 'SM']: \tAIC=1415\tdiffAIC=317\n",
      "Exo ['WMEP', 'SM', 'putvol']: \tAIC=1320\tdiffAIC=412\n",
      "Exo ['WMEP', 'SM', 'putvol', 'SWM']: \tAIC=1322\tdiffAIC=410\n",
      "Exo ['WMEP', 'SM', 'putvol', 'SWM', 'WMT']: \tAIC=1307\tdiffAIC=425\n",
      "Exo ['WMEP', 'SM', 'putvol', 'SWM', 'WMT', 'WMV']: \tAIC=1308\tdiffAIC=424\n",
      "Exo ['WMEP', 'SM', 'putvol', 'SWM', 'WMT', 'WMV', 'WMD']: \tAIC=1310\tdiffAIC=422\n",
      "Exo ['WMEP', 'SM', 'putvol', 'SWM', 'WMT', 'WMV', 'WMD', 'iv150call']: \tAIC=1313\tdiffAIC=420\n",
      "Exo ['WMEP', 'SM', 'putvol', 'SWM', 'WMT', 'WMV', 'WMD', 'iv150call', 'CToiR']: \tAIC=1316\tdiffAIC=416\n",
      "Exo ['WMEP', 'SM', 'putvol', 'SWM', 'WMT', 'WMV', 'WMD', 'iv150call', 'CToiR', 'iv180call']: \tAIC=1316\tdiffAIC=417\n",
      "Exo ['WMEP', 'SM', 'putvol', 'SWM', 'WMT', 'WMV', 'WMD', 'iv150call', 'CToiR', 'iv180call', 'iv120call']: \tAIC=1316\tdiffAIC=416\n",
      "Exo ['WMEP', 'SM', 'putvol', 'SWM', 'WMT', 'WMV', 'WMD', 'iv150call', 'CToiR', 'iv180call', 'iv120call', 'PCR']: \tAIC=1299\tdiffAIC=434\n",
      "Exo ['WMEP', 'SM', 'putvol', 'SWM', 'WMT', 'WMV', 'WMD', 'iv150call', 'CToiR', 'iv180call', 'iv120call', 'PCR', 'iv90call']: \tAIC=1300\tdiffAIC=432\n",
      "Exo ['WMEP', 'SM', 'putvol', 'SWM', 'WMT', 'WMV', 'WMD', 'iv150call', 'CToiR', 'iv180call', 'iv120call', 'PCR', 'iv90call', 'MROI']: \tAIC=1254\tdiffAIC=478\n",
      "Exo ['WMEP', 'SM', 'putvol', 'SWM', 'WMT', 'WMV', 'WMD', 'iv150call', 'CToiR', 'iv180call', 'iv120call', 'PCR', 'iv90call', 'MROI', 'iv60call']: \tAIC=1253\tdiffAIC=479\n",
      "Exo ['WMEP', 'SM', 'putvol', 'SWM', 'WMT', 'WMV', 'WMD', 'iv150call', 'CToiR', 'iv180call', 'iv120call', 'PCR', 'iv90call', 'MROI', 'iv60call', 'iv360call']: \tAIC=1254\tdiffAIC=478\n",
      "Exo ['WMEP', 'SM', 'putvol', 'SWM', 'WMT', 'WMV', 'WMD', 'iv150call', 'CToiR', 'iv180call', 'iv120call', 'PCR', 'iv90call', 'MROI', 'iv60call', 'iv360call', 'CVPoi']: \tAIC=1230\tdiffAIC=502\n",
      "Exo ['WMEP', 'SM', 'putvol', 'SWM', 'WMT', 'WMV', 'WMD', 'iv150call', 'CToiR', 'iv180call', 'iv120call', 'PCR', 'iv90call', 'MROI', 'iv60call', 'iv360call', 'CVPoi', 'WMG']: \tAIC=1219\tdiffAIC=513\n",
      "Exo ['WMEP', 'SM', 'putvol', 'SWM', 'WMT', 'WMV', 'WMD', 'iv150call', 'CToiR', 'iv180call', 'iv120call', 'PCR', 'iv90call', 'MROI', 'iv60call', 'iv360call', 'CVPoi', 'WMG', 'CTVR']: \tAIC=1220\tdiffAIC=512\n",
      "Exo ['WMEP', 'SM', 'putvol', 'SWM', 'WMT', 'WMV', 'WMD', 'iv150call', 'CToiR', 'iv180call', 'iv120call', 'PCR', 'iv90call', 'MROI', 'iv60call', 'iv360call', 'CVPoi', 'WMG', 'CTVR', 'iv30call']: \tAIC=1221\tdiffAIC=511\n",
      "Exo ['WMEP', 'SM', 'putvol', 'SWM', 'WMT', 'WMV', 'WMD', 'iv150call', 'CToiR', 'iv180call', 'iv120call', 'PCR', 'iv90call', 'MROI', 'iv60call', 'iv360call', 'CVPoi', 'WMG', 'CTVR', 'iv30call', 'totalvol']: \tAIC=1226\tdiffAIC=507\n",
      "Exo ['WMEP', 'SM', 'putvol', 'SWM', 'WMT', 'WMV', 'WMD', 'iv150call', 'CToiR', 'iv180call', 'iv120call', 'PCR', 'iv90call', 'MROI', 'iv60call', 'iv360call', 'CVPoi', 'WMG', 'CTVR', 'iv30call', 'totalvol', 'callvol']: \tAIC=1228\tdiffAIC=505\n",
      "Exo ['WMEP', 'SM', 'putvol', 'SWM', 'WMT', 'WMV', 'WMD', 'iv150call', 'CToiR', 'iv180call', 'iv120call', 'PCR', 'iv90call', 'MROI', 'iv60call', 'iv360call', 'CVPoi', 'WMG', 'CTVR', 'iv30call', 'totalvol', 'callvol', 'putoi']: \tAIC=1229\tdiffAIC=503\n",
      "Exo ['WMEP', 'SM', 'putvol', 'SWM', 'WMT', 'WMV', 'WMD', 'iv150call', 'CToiR', 'iv180call', 'iv120call', 'PCR', 'iv90call', 'MROI', 'iv60call', 'iv360call', 'CVPoi', 'WMG', 'CTVR', 'iv30call', 'totalvol', 'callvol', 'putoi', 'totaloi']: \tAIC=1225\tdiffAIC=507\n",
      "Exo ['WMEP', 'SM', 'putvol', 'SWM', 'WMT', 'WMV', 'WMD', 'iv150call', 'CToiR', 'iv180call', 'iv120call', 'PCR', 'iv90call', 'MROI', 'iv60call', 'iv360call', 'CVPoi', 'WMG', 'CTVR', 'iv30call', 'totalvol', 'callvol', 'putoi', 'totaloi', 'ToiTVR']: \tAIC=1228\tdiffAIC=504\n",
      "Exo ['WMEP', 'SM', 'putvol', 'SWM', 'WMT', 'WMV', 'WMD', 'iv150call', 'CToiR', 'iv180call', 'iv120call', 'PCR', 'iv90call', 'MROI', 'iv60call', 'iv360call', 'CVPoi', 'WMG', 'CTVR', 'iv30call', 'totalvol', 'callvol', 'putoi', 'totaloi', 'ToiTVR', 'calloi']: \tAIC=1229\tdiffAIC=504\n"
     ]
    }
   ],
   "source": [
    "###### Assess combination of exogenous variables to find the best combination\n",
    "\n",
    "# List of best exogenous variable candidates\n",
    "zippedVarSel=zip(matAIC[\"DiffAIC\"],exogenousVars)\n",
    "exoVarSelected = [element for _, element in sorted(zippedVarSel,reverse=True)]\n",
    "#print(exoVarSelected)\n",
    "\n",
    "# ARIMA with exogenous variables\n",
    "ARIMAexolist=list()\n",
    "AICVarsList=list()\n",
    "exolist=list()\n",
    "for k in range(0, len(exoVarSelected)):\n",
    "    ARIMAexoi=auto_arima(priceCloseTrain, exogenous=pd.DataFrame(exogenousTrain[exoVarSelected[0:(k+1)]]), seasonal=False, trace=False,\n",
    "            error_action='ignore', suppress_warnings=True, stepwise=True,\n",
    "            start_p=ARIMAbestparams[0], d=ARIMAbestparams[1], start_q=ARIMAbestparams[2], \n",
    "            max_p=ARIMAbestparams[0], max_d=ARIMAbestparams[1], max_q=ARIMAbestparams[2])\n",
    "    ARIMAexolist.append(ARIMAexoi)\n",
    "    AICVarsList.append(ARIMAexoi.aic())\n",
    "    exolist.append('_'.join(exoVarSelected[0:(k+1)]))\n",
    "    print(\"Exo \"+str(exoVarSelected[0:(k+1)])+\": \\tAIC=\"+str(round(ARIMAexoi.aic()))+\"\\tdiffAIC=\"+str(round(autoARIMA.aic()-ARIMAexoi.aic())))\n",
    "    \n",
    "# Save results\n",
    "matAICExoList=pd.DataFrame()\n",
    "matAICExoList[\"ExoVarList\"]=exolist\n",
    "matAICExoList[\"AIC\"]=AICVarsList\n",
    "matAICExoList[\"DiffAIC\"]=autoARIMA.aic()-AICVarsList\n",
    "matAICExoList[\"PercentGainAIC\"]=(autoARIMA.aic()-AICVarsList)/autoARIMA.aic()\n",
    "pathMatAICExoList=symbolFolder+\"/matrix_ARIMAX_AIC_exogenousVarsList_\"+symbol+\".csv\"\n",
    "matAICExoList.to_csv(pathMatAICExoList, index=False, sep=',', quotechar='\"')"
   ]
  },
  {
   "cell_type": "code",
   "execution_count": 13,
   "metadata": {},
   "outputs": [],
   "source": [
    "###### FORECAST AVERAGE PRICE USING ARIMA MODEL\n",
    "\n",
    "# Forecast with no exogenous variable (for comparison)\n",
    "future_forecast_noexo = autoARIMA.predict(n_periods=kdays)\n",
    "\n",
    "# Forecast for all exogenous variables with ARIMA \n",
    "# A ARIMA model is built to predict each exogenous variable.\n",
    "future_forecast_forexo=pd.DataFrame()\n",
    "for var in exoVarSelected:\n",
    "    autoARIMAforexoi = auto_arima(exogenousTrain[var], seasonal=False, trace=False,\n",
    "                error_action='ignore', suppress_warnings=True, stepwise=True)\n",
    "    future_forecast_forexoi=pd.DataFrame(autoARIMAforexoi.predict(n_periods=kdays))\n",
    "    future_forecast_forexo=pd.concat([future_forecast_forexo, future_forecast_forexoi], axis=1)\n",
    "future_forecast_forexo.columns=exoVarSelected"
   ]
  },
  {
   "cell_type": "code",
   "execution_count": 14,
   "metadata": {},
   "outputs": [
    {
     "name": "stderr",
     "output_type": "stream",
     "text": [
      "/home/mourad/.local/lib/python3.6/site-packages/statsmodels/tsa/base/tsa_model.py:583: ValueWarning: No supported index is available. Prediction results will be given with an integer index beginning at `start`.\n",
      "  ValueWarning)\n",
      "/home/mourad/.local/lib/python3.6/site-packages/statsmodels/tsa/base/tsa_model.py:583: ValueWarning: No supported index is available. Prediction results will be given with an integer index beginning at `start`.\n",
      "  ValueWarning)\n",
      "/home/mourad/.local/lib/python3.6/site-packages/statsmodels/tsa/base/tsa_model.py:583: ValueWarning: No supported index is available. Prediction results will be given with an integer index beginning at `start`.\n",
      "  ValueWarning)\n",
      "/home/mourad/.local/lib/python3.6/site-packages/statsmodels/tsa/base/tsa_model.py:583: ValueWarning: No supported index is available. Prediction results will be given with an integer index beginning at `start`.\n",
      "  ValueWarning)\n",
      "/home/mourad/.local/lib/python3.6/site-packages/statsmodels/tsa/base/tsa_model.py:583: ValueWarning: No supported index is available. Prediction results will be given with an integer index beginning at `start`.\n",
      "  ValueWarning)\n",
      "/home/mourad/.local/lib/python3.6/site-packages/statsmodels/tsa/base/tsa_model.py:583: ValueWarning: No supported index is available. Prediction results will be given with an integer index beginning at `start`.\n",
      "  ValueWarning)\n",
      "/home/mourad/.local/lib/python3.6/site-packages/statsmodels/tsa/base/tsa_model.py:583: ValueWarning: No supported index is available. Prediction results will be given with an integer index beginning at `start`.\n",
      "  ValueWarning)\n",
      "/home/mourad/.local/lib/python3.6/site-packages/statsmodels/tsa/base/tsa_model.py:583: ValueWarning: No supported index is available. Prediction results will be given with an integer index beginning at `start`.\n",
      "  ValueWarning)\n",
      "/home/mourad/.local/lib/python3.6/site-packages/statsmodels/tsa/base/tsa_model.py:583: ValueWarning: No supported index is available. Prediction results will be given with an integer index beginning at `start`.\n",
      "  ValueWarning)\n",
      "/home/mourad/.local/lib/python3.6/site-packages/statsmodels/tsa/base/tsa_model.py:583: ValueWarning: No supported index is available. Prediction results will be given with an integer index beginning at `start`.\n",
      "  ValueWarning)\n",
      "/home/mourad/.local/lib/python3.6/site-packages/statsmodels/tsa/base/tsa_model.py:583: ValueWarning: No supported index is available. Prediction results will be given with an integer index beginning at `start`.\n",
      "  ValueWarning)\n",
      "/home/mourad/.local/lib/python3.6/site-packages/statsmodels/tsa/base/tsa_model.py:583: ValueWarning: No supported index is available. Prediction results will be given with an integer index beginning at `start`.\n",
      "  ValueWarning)\n",
      "/home/mourad/.local/lib/python3.6/site-packages/statsmodels/tsa/base/tsa_model.py:583: ValueWarning: No supported index is available. Prediction results will be given with an integer index beginning at `start`.\n",
      "  ValueWarning)\n",
      "/home/mourad/.local/lib/python3.6/site-packages/statsmodels/tsa/base/tsa_model.py:583: ValueWarning: No supported index is available. Prediction results will be given with an integer index beginning at `start`.\n",
      "  ValueWarning)\n",
      "/home/mourad/.local/lib/python3.6/site-packages/statsmodels/tsa/base/tsa_model.py:583: ValueWarning: No supported index is available. Prediction results will be given with an integer index beginning at `start`.\n",
      "  ValueWarning)\n",
      "/home/mourad/.local/lib/python3.6/site-packages/statsmodels/tsa/base/tsa_model.py:583: ValueWarning: No supported index is available. Prediction results will be given with an integer index beginning at `start`.\n",
      "  ValueWarning)\n",
      "/home/mourad/.local/lib/python3.6/site-packages/statsmodels/tsa/base/tsa_model.py:583: ValueWarning: No supported index is available. Prediction results will be given with an integer index beginning at `start`.\n",
      "  ValueWarning)\n",
      "/home/mourad/.local/lib/python3.6/site-packages/statsmodels/tsa/base/tsa_model.py:583: ValueWarning: No supported index is available. Prediction results will be given with an integer index beginning at `start`.\n",
      "  ValueWarning)\n",
      "/home/mourad/.local/lib/python3.6/site-packages/statsmodels/tsa/base/tsa_model.py:583: ValueWarning: No supported index is available. Prediction results will be given with an integer index beginning at `start`.\n",
      "  ValueWarning)\n",
      "/home/mourad/.local/lib/python3.6/site-packages/statsmodels/tsa/base/tsa_model.py:583: ValueWarning: No supported index is available. Prediction results will be given with an integer index beginning at `start`.\n",
      "  ValueWarning)\n",
      "/home/mourad/.local/lib/python3.6/site-packages/statsmodels/tsa/base/tsa_model.py:583: ValueWarning: No supported index is available. Prediction results will be given with an integer index beginning at `start`.\n",
      "  ValueWarning)\n",
      "/home/mourad/.local/lib/python3.6/site-packages/statsmodels/tsa/base/tsa_model.py:583: ValueWarning: No supported index is available. Prediction results will be given with an integer index beginning at `start`.\n",
      "  ValueWarning)\n",
      "/home/mourad/.local/lib/python3.6/site-packages/statsmodels/tsa/base/tsa_model.py:583: ValueWarning: No supported index is available. Prediction results will be given with an integer index beginning at `start`.\n",
      "  ValueWarning)\n",
      "/home/mourad/.local/lib/python3.6/site-packages/statsmodels/tsa/base/tsa_model.py:583: ValueWarning: No supported index is available. Prediction results will be given with an integer index beginning at `start`.\n",
      "  ValueWarning)\n",
      "/home/mourad/.local/lib/python3.6/site-packages/statsmodels/tsa/base/tsa_model.py:583: ValueWarning: No supported index is available. Prediction results will be given with an integer index beginning at `start`.\n",
      "  ValueWarning)\n",
      "/home/mourad/.local/lib/python3.6/site-packages/statsmodels/tsa/base/tsa_model.py:583: ValueWarning: No supported index is available. Prediction results will be given with an integer index beginning at `start`.\n",
      "  ValueWarning)\n"
     ]
    }
   ],
   "source": [
    "# Forecast using ARIMA with exogenous variables\n",
    "RMSEnoexo=np.sqrt(mt.mean_squared_error(priceCloseTest, future_forecast_noexo))\n",
    "MAEnoexo=mt.mean_absolute_error(priceCloseTest, future_forecast_noexo)\n",
    "\n",
    "RMSElist=[None] * len(exoVarSelected)\n",
    "MAElist=[None] * len(exoVarSelected)\n",
    "ExoVarList=[None] * len(exoVarSelected)\n",
    "future_forecast_exo_List=[None] * len(exoVarSelected)\n",
    "conf_int_exo_List=[None] * len(exoVarSelected)\n",
    "for k in range(0, len(exoVarSelected)):\n",
    "    future_forecast_exoi, conf_int_exoi = ARIMAexolist[k].predict(n_periods=kdays, return_conf_int=True,alpha=0.05,\n",
    "                                exogenous=pd.DataFrame(future_forecast_forexo[exoVarSelected[0:(k+1)]]))\n",
    "    RMSEi=np.sqrt(mt.mean_squared_error(priceCloseTest, future_forecast_exoi))\n",
    "    RMSElist[k]=RMSEi\n",
    "    MAEi=mt.mean_absolute_error(priceCloseTest, future_forecast_exoi)\n",
    "    MAElist[k]=MAEi\n",
    "    ExoVarList[k]='_'.join(exoVarSelected[0:(k+1)])\n",
    "    future_forecast_exo_List[k]=future_forecast_exoi\n",
    "    conf_int_exo_List[k]=conf_int_exoi\n",
    "    #print(str(exoVarSelected[0:(k+1)]))"
   ]
  },
  {
   "cell_type": "code",
   "execution_count": 15,
   "metadata": {},
   "outputs": [
    {
     "name": "stdout",
     "output_type": "stream",
     "text": [
      "RMSE_noexo: 11.442\tMAE_noexo: 9.946\n",
      "\n",
      "                                               ExoVar   RMSE    MAE  \\\n",
      "0                                                WMEP  11.23   9.72   \n",
      "1                                             WMEP_SM  11.74  10.26   \n",
      "2                                      WMEP_SM_putvol  11.49   9.99   \n",
      "3                                  WMEP_SM_putvol_SWM  11.54  10.04   \n",
      "4                              WMEP_SM_putvol_SWM_WMT  11.43   9.93   \n",
      "5                          WMEP_SM_putvol_SWM_WMT_WMV  11.43   9.93   \n",
      "6                      WMEP_SM_putvol_SWM_WMT_WMV_WMD  11.49   9.99   \n",
      "7            WMEP_SM_putvol_SWM_WMT_WMV_WMD_iv150call  11.50  10.00   \n",
      "8      WMEP_SM_putvol_SWM_WMT_WMV_WMD_iv150call_CToiR  11.50   9.99   \n",
      "9   WMEP_SM_putvol_SWM_WMT_WMV_WMD_iv150call_CToiR...  11.50  10.00   \n",
      "10  WMEP_SM_putvol_SWM_WMT_WMV_WMD_iv150call_CToiR...  11.48   9.97   \n",
      "11  WMEP_SM_putvol_SWM_WMT_WMV_WMD_iv150call_CToiR...  11.44   9.93   \n",
      "12  WMEP_SM_putvol_SWM_WMT_WMV_WMD_iv150call_CToiR...  11.45   9.95   \n",
      "13  WMEP_SM_putvol_SWM_WMT_WMV_WMD_iv150call_CToiR...  11.45   9.94   \n",
      "14  WMEP_SM_putvol_SWM_WMT_WMV_WMD_iv150call_CToiR...  11.47   9.96   \n",
      "15  WMEP_SM_putvol_SWM_WMT_WMV_WMD_iv150call_CToiR...  11.46   9.95   \n",
      "16  WMEP_SM_putvol_SWM_WMT_WMV_WMD_iv150call_CToiR...  11.45   9.94   \n",
      "17  WMEP_SM_putvol_SWM_WMT_WMV_WMD_iv150call_CToiR...  11.49   9.98   \n",
      "18  WMEP_SM_putvol_SWM_WMT_WMV_WMD_iv150call_CToiR...  11.49   9.98   \n",
      "19  WMEP_SM_putvol_SWM_WMT_WMV_WMD_iv150call_CToiR...  11.49   9.98   \n",
      "20  WMEP_SM_putvol_SWM_WMT_WMV_WMD_iv150call_CToiR...  11.47   9.96   \n",
      "21  WMEP_SM_putvol_SWM_WMT_WMV_WMD_iv150call_CToiR...  11.47   9.96   \n",
      "22  WMEP_SM_putvol_SWM_WMT_WMV_WMD_iv150call_CToiR...  11.47   9.96   \n",
      "23  WMEP_SM_putvol_SWM_WMT_WMV_WMD_iv150call_CToiR...  11.58  10.06   \n",
      "24  WMEP_SM_putvol_SWM_WMT_WMV_WMD_iv150call_CToiR...  11.58  10.07   \n",
      "25  WMEP_SM_putvol_SWM_WMT_WMV_WMD_iv150call_CToiR...  11.68  10.15   \n",
      "\n",
      "    RMSEPercentReduction  MAEPercentReduction  \n",
      "0                  -0.02                -0.02  \n",
      "1                   0.03                 0.03  \n",
      "2                   0.00                 0.00  \n",
      "3                   0.01                 0.01  \n",
      "4                  -0.00                -0.00  \n",
      "5                  -0.00                -0.00  \n",
      "6                   0.00                 0.00  \n",
      "7                   0.00                 0.01  \n",
      "8                   0.00                 0.00  \n",
      "9                   0.00                 0.00  \n",
      "10                  0.00                 0.00  \n",
      "11                 -0.00                -0.00  \n",
      "12                  0.00                 0.00  \n",
      "13                  0.00                -0.00  \n",
      "14                  0.00                 0.00  \n",
      "15                  0.00                 0.00  \n",
      "16                  0.00                -0.00  \n",
      "17                  0.00                 0.00  \n",
      "18                  0.00                 0.00  \n",
      "19                  0.00                 0.00  \n",
      "20                  0.00                 0.00  \n",
      "21                  0.00                 0.00  \n",
      "22                  0.00                 0.00  \n",
      "23                  0.01                 0.01  \n",
      "24                  0.01                 0.01  \n",
      "25                  0.02                 0.02  \n",
      "\n",
      "Best model: WMEP\n"
     ]
    }
   ],
   "source": [
    "# Best models\n",
    "print(\"RMSE_noexo: \"+str(round(RMSEnoexo,3))+\"\\tMAE_noexo: \"+str(round(MAEnoexo,3))+\"\\n\")\n",
    "\n",
    "matMetrics=pd.DataFrame()\n",
    "matMetrics[\"ExoVar\"]=ExoVarList\n",
    "matMetrics[\"RMSE\"]=np.round(RMSElist,2)\n",
    "matMetrics[\"MAE\"]=np.round(MAElist,2)\n",
    "matMetrics[\"RMSEPercentReduction\"]=np.round((RMSElist-RMSEnoexo)/RMSEnoexo,2)\n",
    "matMetrics[\"MAEPercentReduction\"]=np.round((MAElist-MAEnoexo)/MAEnoexo,2)\n",
    "print(matMetrics)\n",
    "print(\"\\nBest model: \"+ExoVarList[np.argmin(RMSElist)])\n",
    "\n",
    "pathMatMetrics=symbolFolder+\"/matrix_ARIMAX_metrics_exogenousVarsList_\"+symbol+\".csv\"\n",
    "matMetrics.to_csv(pathMatMetrics, index=False, sep=',', quotechar='\"')"
   ]
  },
  {
   "cell_type": "code",
   "execution_count": 16,
   "metadata": {},
   "outputs": [],
   "source": [
    "# Forecast with confidence interval (alpha=5%)\n",
    "future_forecast_exobest=future_forecast_exo_List[np.argmin(RMSElist)]\n",
    "conf_int_exobest=conf_int_exo_List[np.argmin(RMSElist)]\n",
    "\n",
    "future_forecast = pd.DataFrame(future_forecast_exobest,columns=['future_forecast'],index=priceCloseTest.index.values)\n",
    "priceCloseTest = pd.DataFrame(priceCloseTest)\n",
    "conf_int=conf_int_exobest"
   ]
  },
  {
   "cell_type": "code",
   "execution_count": 17,
   "metadata": {},
   "outputs": [
    {
     "data": {
      "image/png": "[encoded data removed]",
      "text/plain": [
       "<Figure size 864x864 with 2 Axes>"
      ]
     },
     "metadata": {
      "needs_background": "light"
     },
     "output_type": "display_data"
    }
   ],
   "source": [
    "# Better forecast plots\n",
    "plotForeCastBetter=symbolFolder+\"/plot_ARIMA_forecast_better_\"+symbol+\".pdf\"\n",
    "fig, axes = pyplot.subplots(2, 1, figsize=(12, 12))\n",
    "\n",
    "# --------------------- Actual vs. Predicted --------------------------\n",
    "axes[0].plot(priceCloseTrain, color='blue', label='Training Data')\n",
    "axes[0].plot(priceCloseTest.index, future_forecast, color='green', linewidth=4, label='Predicted Price')\n",
    "\n",
    "axes[0].plot(priceCloseTest.index, priceCloseTest, color='red', label='Actual Price')\n",
    "axes[0].set_title('Prices Prediction')\n",
    "axes[0].set_xlabel('Dates')\n",
    "axes[0].set_ylabel('Prices')\n",
    "axes[0].legend()\n",
    "\n",
    "\n",
    "# ------------------ Predicted with confidence intervals ----------------\n",
    "axes[1].plot(priceCloseTrain, color='blue', label='Training Data')\n",
    "axes[1].plot(priceCloseTest.index, future_forecast, color='green',\n",
    "             label='Predicted Price')\n",
    "\n",
    "axes[1].set_title('Prices Predictions & Confidence Intervals')\n",
    "axes[1].set_xlabel('Dates')\n",
    "axes[1].set_ylabel('Prices')\n",
    "\n",
    "conf_int = np.asarray(conf_int)\n",
    "axes[1].fill_between(priceCloseTest.index, conf_int[:, 0], conf_int[:, 1],\n",
    "                     alpha=0.9, color='orange', label=\"95% Confidence Intervals\")\n",
    "axes[1].legend()\n",
    "pyplot.savefig(plotForeCastBetter, bbox_inches='tight')\n"
   ]
  },
  {
   "cell_type": "code",
   "execution_count": 18,
   "metadata": {},
   "outputs": [
    {
     "name": "stdout",
     "output_type": "stream",
     "text": [
      "mu=35.636\n",
      "SE=4.11\n"
     ]
    },
    {
     "data": {
      "image/png": "[encoded data removed]",
      "text/plain": [
       "<Figure size 432x288 with 1 Axes>"
      ]
     },
     "metadata": {
      "needs_background": "light"
     },
     "output_type": "display_data"
    }
   ],
   "source": [
    "###### PROBABILITY GRAPH FROM ARIMA MODEL\n",
    "\n",
    "# Note to Rim and Quinn: ARIMA model computes a predicted mean mu at kdays and a 95% confidence interval\n",
    "# To compute the probability graph (AKA density function in statistics),\n",
    "# we calculate the Standard Error (SE) from the lower bound of the confidence interval.\n",
    "# Once we have the mean mu and the SE, then we can plot the probability graph.\n",
    "\n",
    "# Current price\n",
    "priceCloseCurrent=priceCloseTrain.iloc[len(priceCloseTrain)-1]\n",
    "\n",
    "# Extract predicted mean and confidence interval\n",
    "mu=future_forecast.iloc[kdays-1,0]\n",
    "lower=conf_int[kdays-1,0]\n",
    "upper=conf_int[kdays-1,1]\n",
    "print(\"mu=\"+str(round(mu,3)))\n",
    "\n",
    "# Compute Standard Error (SE) from predicted confidence interval (reverse engineering here ;) )\n",
    "se=(mu-lower)/norm.ppf(0.975)\n",
    "print(\"SE=\"+str(round(se,3)))\n",
    "\n",
    "# Probability graph\n",
    "plotProbabilityGraph=symbolFolder+\"/plot_ARIMA_probabilityGraph_\"+symbol+\"_\"+str(kdays)+\"days.pdf\"\n",
    "x = np.linspace(mu - 3*se, mu + 3*se, 100)\n",
    "pyplot.plot(x, norm.pdf(x, mu, se))\n",
    "pyplot.axvline(x=priceCloseCurrent,color='red',label='Current Price')\n",
    "pyplot.axvline(x=lower,color='green',label='95% Pred Interval')\n",
    "pyplot.axvline(x=upper,color='green')\n",
    "pyplot.xlabel('Stock price ($)', fontsize=18)\n",
    "pyplot.ylabel('Probability', fontsize=18)\n",
    "pyplot.legend(loc='upper right')\n",
    "pyplot.savefig(plotProbabilityGraph, bbox_inches='tight')\n",
    "pyplot.show()"
   ]
  },
  {
   "cell_type": "code",
   "execution_count": null,
   "metadata": {},
   "outputs": [],
   "source": []
  },
  {
   "cell_type": "code",
   "execution_count": null,
   "metadata": {},
   "outputs": [],
   "source": []
  }
 ],
 "metadata": {
  "kernelspec": {
   "display_name": "Python 3",
   "language": "python",
   "name": "python3"
  },
  "language_info": {
   "codemirror_mode": {
    "name": "ipython",
    "version": 3
   },
   "file_extension": ".py",
   "mimetype": "text/x-python",
   "name": "python",
   "nbconvert_exporter": "python",
   "pygments_lexer": "ipython3",
   "version": "3.6.9"
  }
 },
 "nbformat": 4,
 "nbformat_minor": 2
}
