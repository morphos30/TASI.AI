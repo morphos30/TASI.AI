{
 "cells": [
  {
   "cell_type": "code",
   "execution_count": 1,
   "metadata": {},
   "outputs": [
    {
     "name": "stderr",
     "output_type": "stream",
     "text": [
      "/home/mourad/.local/lib/python3.6/site-packages/pandas_datareader/compat/__init__.py:7: FutureWarning: pandas.util.testing is deprecated. Use the functions in the public API at pandas.testing instead.\n",
      "  from pandas.util.testing import assert_frame_equal\n"
     ]
    }
   ],
   "source": [
    "# 16/06/2020\n",
    "# TASI.AI\n",
    "# Raphael Mourad\n",
    "\n",
    "# ARIMA + Exogenous variables = ARIMAX\n",
    "# ARIMAX is an ARIMA model but in which you can include additional features \n",
    "# such as option features to better predict the price.\n",
    "\n",
    "# https://www.statsmodels.org/dev/examples/notebooks/generated/statespace_sarimax_stata.html\n",
    "\n",
    "###### IMPORT LIBRARIES AND SET UP PARAMETERS\n",
    "\n",
    "# Import libraries\n",
    "import os\n",
    "import pandas as pd\n",
    "import numpy as np\n",
    "import sklearn.metrics as mt\n",
    "import random\n",
    "import datetime\n",
    "from pandas_datareader import DataReader\n",
    "from matplotlib import pyplot\n",
    "from statsmodels.graphics.tsaplots import plot_acf, plot_pacf\n",
    "from statsmodels.stats.diagnostic import acorr_ljungbox\n",
    "from statsmodels.tsa.arima_model import ARIMA\n",
    "from pmdarima import auto_arima\n",
    "from scipy.stats import norm"
   ]
  },
  {
   "cell_type": "code",
   "execution_count": 2,
   "metadata": {},
   "outputs": [
    {
     "name": "stdout",
     "output_type": "stream",
     "text": [
      "/media/mourad/diskSave/MCF_Toulouse/recherche/ConsulProj/RamCiri\n"
     ]
    }
   ],
   "source": [
    "# Set up directory\n",
    "dir=\"/media/mourad/diskSave/MCF_Toulouse/recherche/ConsulProj/RamCiri\"\n",
    "os.chdir(dir)\n",
    "print(os.getcwd())"
   ]
  },
  {
   "cell_type": "code",
   "execution_count": 3,
   "metadata": {},
   "outputs": [],
   "source": [
    "# Parameters\n",
    "symbol=\"AMZN\" # Set up the symbol you want\n",
    "kdays=30 # Number of days for forecasting\n",
    "kdaysExpi=120 # Number of days until expiration date"
   ]
  },
  {
   "cell_type": "code",
   "execution_count": 4,
   "metadata": {},
   "outputs": [],
   "source": [
    "# Create folder for symbol\n",
    "symbolFolder=\"results/ARIMA_optionstats_features/\"+symbol\n",
    "if(os.path.isdir(symbolFolder)==False):\n",
    "    os.mkdir(symbolFolder, mode=0o777)"
   ]
  },
  {
   "cell_type": "code",
   "execution_count": 5,
   "metadata": {},
   "outputs": [
    {
     "name": "stdout",
     "output_type": "stream",
     "text": [
      "['AAPL' 'AMZN' 'AXP' 'BA' 'CAT' 'DIS' 'GOOG' 'GS' 'HD' 'IBM' 'JNJ' 'JPM'\n",
      " 'KO' 'MCD' 'MRK' 'MSFT' 'NFLX' 'NKE' 'PFE' 'PG' 'XOM']\n",
      "      symbol  quotedate        close\n",
      "22852   AMZN 2015-05-01   422.869995\n",
      "21875   AMZN 2015-05-04   423.040009\n",
      "22160   AMZN 2015-05-05   421.190002\n",
      "21851   AMZN 2015-05-06   419.100006\n",
      "21772   AMZN 2015-05-07   426.880005\n",
      "...      ...        ...          ...\n",
      "22225   AMZN 2020-05-22  2436.880000\n",
      "22926   AMZN 2020-05-26  2421.860000\n",
      "22226   AMZN 2020-05-27  2410.390000\n",
      "21874   AMZN 2020-05-28  2401.100000\n",
      "22795   AMZN 2020-05-29  2442.370000\n",
      "\n",
      "[1278 rows x 3 columns]\n",
      "Missing data= 0\n"
     ]
    }
   ],
   "source": [
    "###### LOAD AND PREPROCESS DATA\n",
    "\n",
    "### STOCK PRICE\n",
    "# Import price\n",
    "path=\"data/stockquotes/samples_L3_stockquotes_sample.csv.gz\"\n",
    "data_stockquotes = pd.read_csv(path, compression='gzip', header=0, sep=',', quotechar='\"', error_bad_lines=False)\n",
    "data_stockquotes[\"quotedate\"] = pd.to_datetime(data_stockquotes[\"quotedate\"])\n",
    "#print(data_stockquotes)\n",
    "print(np.unique(data_stockquotes[\"symbol\"]))\n",
    "\n",
    "# Choose the stock\n",
    "data_stockquotes_sel=data_stockquotes[data_stockquotes[\"symbol\"]==symbol]\n",
    "data_stockquotes_sel=data_stockquotes_sel.sort_values('quotedate')\n",
    "data_stockquotes_sel=data_stockquotes_sel[[\"symbol\",\"quotedate\",\"close\"]]\n",
    "#data_stockquotes_sel=data_stockquotes_sel.set_index('quotedate')\n",
    "print(data_stockquotes_sel)\n",
    "\n",
    "# Check the absence of missing data \n",
    "NAcount=data_stockquotes.isnull().sum().sum()\n",
    "print(\"Missing data=\",NAcount)"
   ]
  },
  {
   "cell_type": "code",
   "execution_count": 6,
   "metadata": {},
   "outputs": [
    {
     "name": "stdout",
     "output_type": "stream",
     "text": [
      "['symbol' 'quotedate' 'iv30call' 'iv60call' 'iv90call' 'iv120call'\n",
      " 'iv150call' 'iv180call' 'iv360call' 'callvol' 'putvol' 'totalvol'\n",
      " 'calloi' 'putoi' 'totaloi']\n",
      "       iv30call  iv60call\n",
      "25817    0.2506    0.2436\n",
      "5836     0.2459    0.2407\n",
      "8518     0.2545    0.2443\n",
      "19166    0.2435    0.2409\n",
      "20905    0.2483    0.2421\n",
      "...         ...       ...\n",
      "8079     0.2794    0.2945\n",
      "6690     0.2847    0.2958\n",
      "40835    0.2805    0.2959\n",
      "1895     0.2850    0.2986\n",
      "40114    0.2376    0.2774\n",
      "\n",
      "[1114 rows x 2 columns]\n"
     ]
    }
   ],
   "source": [
    "### STOCK OPTION STATISTICS\n",
    "# Import optionstats\n",
    "pathOptionStats=\"data/optionstats/samples_L3_optionstats_sample.csv.gz\"\n",
    "data_optionStats = pd.read_csv(pathOptionStats, compression='gzip', header=0, sep=',', quotechar='\"', error_bad_lines=False)\n",
    "data_optionStats[\"quotedate\"] = pd.to_datetime(data_optionStats[\"quotedate\"])\n",
    "data_optionStats = data_optionStats.drop(columns=[\"iv30put\",\"iv30mean\",\"iv60put\",\"iv60mean\",\"iv90put\",\"iv90mean\",\n",
    "                                                 \"iv120put\",\"iv120mean\",\"iv150put\",\"iv150mean\",\"iv180put\",\"iv180mean\",\n",
    "                                                 \"iv360put\",\"iv360mean\"])\n",
    "print(data_optionStats.columns.values)\n",
    "\n",
    "# Choose the stock\n",
    "data_optionStats_sel=data_optionStats[data_optionStats[\"symbol\"]==symbol]\n",
    "data_optionStats_sel=data_optionStats_sel.sort_values([\"quotedate\"])\n",
    "#data_optionStats_sel=data_optionStats_sel.set_index('quotedate')\n",
    "data_optionStats_sel=pd.DataFrame.drop_duplicates(data_optionStats_sel)\n",
    "data_optionStats_sel=data_optionStats_sel.drop(columns=[\"symbol\"])\n",
    "print(data_optionStats_sel[[\"iv30call\",\"iv60call\"]])\n",
    "#print(data_optionStats_sel)"
   ]
  },
  {
   "cell_type": "code",
   "execution_count": 7,
   "metadata": {},
   "outputs": [
    {
     "name": "stdout",
     "output_type": "stream",
     "text": [
      "        DataDate    PCR       SM      SWM      WMEP  MROI    WMD    WMG  \\\n",
      "0     2015-05-01  0.713   14.325   25.244   436.484   3.0  0.145  0.008   \n",
      "1     2015-05-04  1.190   13.550   31.753   412.027   3.0 -0.011  0.008   \n",
      "2     2015-05-05  0.904   13.948   30.918   431.280   6.5  0.034  0.008   \n",
      "3     2015-05-06  0.893   13.575   25.729   429.648   8.0  0.071  0.008   \n",
      "4     2015-05-07  0.579   15.005   29.659   442.782   8.0  0.150  0.008   \n",
      "...          ...    ...      ...      ...       ...   ...    ...    ...   \n",
      "1270  2020-05-22  0.553  132.007  209.746  2558.732  12.0  0.118  0.001   \n",
      "1271  2020-05-26  0.626  126.487  158.550  2492.258  13.0  0.152  0.001   \n",
      "1272  2020-05-27  1.094  125.685  250.602  2348.693  13.0 -0.069  0.001   \n",
      "1273  2020-05-28  0.444  125.450  146.825  2420.532  18.0  0.367  0.001   \n",
      "1274  2020-05-29  0.900  122.975  181.740  2442.528  12.0  0.003  0.001   \n",
      "\n",
      "          WMT      WMV  \n",
      "0     -45.243   56.536  \n",
      "1     -42.813   46.612  \n",
      "2     -42.931   48.290  \n",
      "3     -45.511   52.630  \n",
      "4     -45.671   49.238  \n",
      "...       ...      ...  \n",
      "1270 -303.482  327.143  \n",
      "1271 -282.945  285.962  \n",
      "1272 -241.585  304.761  \n",
      "1273 -255.038  249.591  \n",
      "1274 -277.466  269.408  \n",
      "\n",
      "[1275 rows x 10 columns]\n"
     ]
    }
   ],
   "source": [
    "### STOCK OPTION FEATURES\n",
    "# Import option_features\n",
    "pathOptionFeats=\"data/options_features/samples_L3_options_features_\"+symbol+\"_\"+str(kdaysExpi)+\"daysExpi.csv.gz\"\n",
    "data_optionFeats = pd.read_csv(pathOptionFeats, compression='gzip', header=0, sep=',', quotechar='\"', error_bad_lines=False)\n",
    "print(data_optionFeats)\n",
    "data_optionFeats[\"DataDate\"] = pd.to_datetime(data_optionFeats[\"DataDate\"])"
   ]
  },
  {
   "cell_type": "code",
   "execution_count": 8,
   "metadata": {},
   "outputs": [
    {
     "name": "stdout",
     "output_type": "stream",
     "text": [
      "                  close  iv30call  iv60call  iv90call  iv120call  iv150call  \\\n",
      "quotedate                                                                     \n",
      "2015-05-01   422.869995    0.2506    0.2436    0.2435     0.2578     0.2720   \n",
      "2015-05-04   423.040009    0.2459    0.2407    0.2442     0.2580     0.2718   \n",
      "2015-05-05   421.190002    0.2545    0.2443    0.2465     0.2609     0.2753   \n",
      "2015-05-06   419.100006    0.2435    0.2409    0.2491     0.2623     0.2756   \n",
      "2015-05-07   426.880005    0.2483    0.2421    0.2455     0.2600     0.2746   \n",
      "...                 ...       ...       ...       ...        ...        ...   \n",
      "2020-05-22  2436.880000    0.2794    0.2945    0.3321     0.3250     0.3254   \n",
      "2020-05-26  2421.860000    0.2847    0.2958    0.3297     0.3236     0.3249   \n",
      "2020-05-27  2410.390000    0.2805    0.2959    0.3280     0.3221     0.3251   \n",
      "2020-05-28  2401.100000    0.2850    0.2986    0.3275     0.3209     0.3246   \n",
      "2020-05-29  2442.370000    0.2376    0.2774    0.3128     0.3089     0.3121   \n",
      "\n",
      "            iv180call  iv360call  callvol  putvol  ...  totaloi    PCR  \\\n",
      "quotedate                                          ...                   \n",
      "2015-05-01     0.2802     0.2884    54509   38462  ...   434427  0.713   \n",
      "2015-05-04     0.2784     0.2883    30492   23223  ...   381332  1.190   \n",
      "2015-05-05     0.2813     0.2905    23698   19484  ...   397766  0.904   \n",
      "2015-05-06     0.2812     0.2910    31247   27379  ...   406940  0.893   \n",
      "2015-05-07     0.2793     0.2883    33064   28620  ...   414472  0.579   \n",
      "...               ...        ...      ...     ...  ...      ...    ...   \n",
      "2020-05-22     0.3375     0.3356   131051   99555  ...   625289  0.553   \n",
      "2020-05-26     0.3364     0.3341    79499   65998  ...   546527  0.626   \n",
      "2020-05-27     0.3366     0.3348   131119   99031  ...   577801  1.094   \n",
      "2020-05-28     0.3362     0.3328   107534   74724  ...   613201  0.444   \n",
      "2020-05-29     0.3224     0.3251   115504  100576  ...   632547  0.900   \n",
      "\n",
      "                 SM      SWM      WMEP  MROI    WMD    WMG      WMT      WMV  \n",
      "quotedate                                                                     \n",
      "2015-05-01   14.325   25.244   436.484   3.0  0.145  0.008  -45.243   56.536  \n",
      "2015-05-04   13.550   31.753   412.027   3.0 -0.011  0.008  -42.813   46.612  \n",
      "2015-05-05   13.948   30.918   431.280   6.5  0.034  0.008  -42.931   48.290  \n",
      "2015-05-06   13.575   25.729   429.648   8.0  0.071  0.008  -45.511   52.630  \n",
      "2015-05-07   15.005   29.659   442.782   8.0  0.150  0.008  -45.671   49.238  \n",
      "...             ...      ...       ...   ...    ...    ...      ...      ...  \n",
      "2020-05-22  132.007  209.746  2558.732  12.0  0.118  0.001 -303.482  327.143  \n",
      "2020-05-26  126.487  158.550  2492.258  13.0  0.152  0.001 -282.945  285.962  \n",
      "2020-05-27  125.685  250.602  2348.693  13.0 -0.069  0.001 -241.585  304.761  \n",
      "2020-05-28  125.450  146.825  2420.532  18.0  0.367  0.001 -255.038  249.591  \n",
      "2020-05-29  122.975  181.740  2442.528  12.0  0.003  0.001 -277.466  269.408  \n",
      "\n",
      "[1110 rows x 23 columns]\n"
     ]
    }
   ],
   "source": [
    "### MERGE PRICE WITH OPTION STATS AND OPTION FEATS\n",
    "\n",
    "# Merge price with option stats\n",
    "priceOptionStats=data_stockquotes_sel.merge(data_optionStats_sel, left_on='quotedate', right_on='quotedate')\n",
    "\n",
    "# Merge with option feats\n",
    "priceOptionStatsFeats=priceOptionStats.merge(data_optionFeats, left_on='quotedate', right_on='DataDate')\n",
    "\n",
    "# Format table\n",
    "priceOptionStatsFeats=priceOptionStatsFeats.drop(columns=[\"symbol\",\"DataDate\"])\n",
    "priceOptionStatsFeats=priceOptionStatsFeats.set_index('quotedate')\n",
    "#print(priceOptionStats[[\"close\",\"iv30call\",\"iv30put\"]])\n",
    "print(priceOptionStatsFeats)"
   ]
  },
  {
   "cell_type": "code",
   "execution_count": 9,
   "metadata": {},
   "outputs": [],
   "source": [
    "###### BUILD AND AUTOSELECT ARIMA MODEL\n",
    "\n",
    "# Split train/test data\n",
    "priceOptionStatsTrain = priceOptionStatsFeats[0:(len(priceOptionStatsFeats)-kdays)]\n",
    "priceOptionStatsTest = priceOptionStatsFeats[(len(priceOptionStatsFeats)-kdays):len(priceOptionStatsFeats)]\n",
    "\n",
    "priceCloseTrain=priceOptionStatsTrain[\"close\"]\n",
    "priceCloseTest=priceOptionStatsTest[\"close\"]\n",
    "\n",
    "exogenousTrain=priceOptionStatsTrain.drop(columns=\"close\")\n",
    "exogenousTest=priceOptionStatsTest.drop(columns=\"close\")\n",
    "#print(priceOptionStatsTrain)\n",
    "#print(priceOptionStatsTest[0:5])"
   ]
  },
  {
   "cell_type": "code",
   "execution_count": 30,
   "metadata": {},
   "outputs": [
    {
     "name": "stdout",
     "output_type": "stream",
     "text": [
      "Performing stepwise search to minimize aic\n",
      "Fit ARIMA(2,1,2)x(0,0,0,0) [intercept=True]; AIC=10334.120, BIC=10364.023, Time=0.535 seconds\n",
      "Fit ARIMA(0,1,0)x(0,0,0,0) [intercept=True]; AIC=10338.127, BIC=10348.095, Time=0.019 seconds\n",
      "Fit ARIMA(1,1,0)x(0,0,0,0) [intercept=True]; AIC=10334.796, BIC=10349.748, Time=0.038 seconds\n",
      "Fit ARIMA(0,1,1)x(0,0,0,0) [intercept=True]; AIC=10335.096, BIC=10350.047, Time=0.128 seconds\n",
      "Fit ARIMA(0,1,0)x(0,0,0,0) [intercept=False]; AIC=10340.440, BIC=10345.424, Time=0.014 seconds\n",
      "Fit ARIMA(1,1,2)x(0,0,0,0) [intercept=True]; AIC=10333.456, BIC=10358.375, Time=0.449 seconds\n",
      "Fit ARIMA(0,1,2)x(0,0,0,0) [intercept=True]; AIC=10335.710, BIC=10355.645, Time=0.167 seconds\n",
      "Fit ARIMA(1,1,1)x(0,0,0,0) [intercept=True]; AIC=10336.601, BIC=10356.536, Time=0.355 seconds\n",
      "Fit ARIMA(1,1,3)x(0,0,0,0) [intercept=True]; AIC=10333.774, BIC=10363.676, Time=0.838 seconds\n",
      "Fit ARIMA(0,1,3)x(0,0,0,0) [intercept=True]; AIC=10332.609, BIC=10357.528, Time=0.202 seconds\n",
      "Fit ARIMA(0,1,4)x(0,0,0,0) [intercept=True]; AIC=10334.020, BIC=10363.923, Time=0.745 seconds\n",
      "Fit ARIMA(1,1,4)x(0,0,0,0) [intercept=True]; AIC=10335.537, BIC=10370.423, Time=1.778 seconds\n",
      "Total fit time: 5.280 seconds\n",
      "(0, 1, 3)\n"
     ]
    }
   ],
   "source": [
    "# Build ARIMA model and finding automatically the best ARIMA model (function called auto_arima)\n",
    "autoARIMA = auto_arima(priceCloseTrain, seasonal=False, trace=True,\n",
    "                error_action='ignore', suppress_warnings=True, stepwise=True)\n",
    "ARIMAbestparams=autoARIMA.order\n",
    "print(ARIMAbestparams)\n",
    "file_autoARIMA = open(symbolFolder+\"/autoARIMA_\"+symbol+\".txt\", \"a\")\n",
    "file_autoARIMA.write(str(autoARIMA.summary()))\n",
    "file_autoARIMA.close()"
   ]
  },
  {
   "cell_type": "code",
   "execution_count": 32,
   "metadata": {},
   "outputs": [
    {
     "name": "stdout",
     "output_type": "stream",
     "text": [
      "No exo: \tAIC=10333\n",
      "iv30call: \tAIC=10269\tdiffAIC= 64\n",
      "iv60call: \tAIC=10259\tdiffAIC= 73\n",
      "iv90call: \tAIC=10274\tdiffAIC= 58\n",
      "iv120call: \tAIC=10287\tdiffAIC= 46\n",
      "iv150call: \tAIC=10297\tdiffAIC= 35\n",
      "iv180call: \tAIC=10312\tdiffAIC= 20\n",
      "iv360call: \tAIC=10327\tdiffAIC= 5\n",
      "callvol: \tAIC=10327\tdiffAIC= 5\n",
      "putvol: \tAIC=10335\tdiffAIC= -2\n",
      "totalvol: \tAIC=10332\tdiffAIC= 1\n",
      "calloi: \tAIC=10335\tdiffAIC= -2\n",
      "putoi: \tAIC=10335\tdiffAIC= -2\n",
      "totaloi: \tAIC=10335\tdiffAIC= -2\n",
      "PCR: \tAIC=10332\tdiffAIC= 1\n",
      "SM: \tAIC=10331\tdiffAIC= 2\n",
      "SWM: \tAIC=10310\tdiffAIC= 22\n",
      "WMEP: \tAIC=9832\tdiffAIC= 500\n",
      "MROI: \tAIC=10335\tdiffAIC= -2\n",
      "WMD: \tAIC=10318\tdiffAIC= 14\n",
      "WMG: \tAIC=10333\tdiffAIC= 0\n",
      "WMT: \tAIC=10314\tdiffAIC= 18\n",
      "WMV: \tAIC=10294\tdiffAIC= 39\n"
     ]
    }
   ],
   "source": [
    "# Ranking of exogenous features one by one using AIC\n",
    "# The higher the loss the better the feature\n",
    "print(\"No exo: \\tAIC=\"+str(round(autoARIMA.aic())))\n",
    "\n",
    "exogenousVars=exogenousTrain.columns.values\n",
    "AICVars=list()\n",
    "for k in range(0, len(exogenousVars)):\n",
    "    vark=exogenousVars[k]\n",
    "    ARIMAi=auto_arima(priceCloseTrain, exogenous=pd.DataFrame(exogenousTrain[vark]), \n",
    "            seasonal=False, trace=False, error_action='ignore', suppress_warnings=True, stepwise=True,\n",
    "            start_p=ARIMAbestparams[0], d=ARIMAbestparams[1], start_q=ARIMAbestparams[2], \n",
    "            max_p=ARIMAbestparams[0], max_d=ARIMAbestparams[1], max_q=ARIMAbestparams[2])\n",
    "    AICVars.append(ARIMAi.aic())\n",
    "    print(vark+\": \\tAIC=\"+str(round(ARIMAi.aic()))+\"\\tdiffAIC=\",str(round(autoARIMA.aic()-ARIMAi.aic())))\n",
    "\n",
    "# Save results\n",
    "matAIC=pd.DataFrame()\n",
    "matAIC[\"ExoVar\"]=exogenousVars\n",
    "matAIC[\"AIC\"]=AICVars\n",
    "matAIC[\"DiffAIC\"]=autoARIMA.aic()-AICVars\n",
    "matAIC[\"PercentGainAIC\"]=(autoARIMA.aic()-AICVars)/autoARIMA.aic()\n",
    "pathMatAIC=symbolFolder+\"/matrix_ARIMAX_AIC_exogenousVars_\"+symbol+\".csv\"\n",
    "matAIC.to_csv(pathMatAIC, index=False, sep=',', quotechar='\"')"
   ]
  },
  {
   "cell_type": "code",
   "execution_count": 48,
   "metadata": {},
   "outputs": [
    {
     "name": "stdout",
     "output_type": "stream",
     "text": [
      "Exo ['WMEP']: \tAIC=9832\tdiffAIC=500\n",
      "Exo ['WMEP', 'iv60call']: \tAIC=9741\tdiffAIC=591\n",
      "Exo ['WMEP', 'iv60call', 'iv30call']: \tAIC=9734\tdiffAIC=598\n",
      "Exo ['WMEP', 'iv60call', 'iv30call', 'iv90call']: \tAIC=9738\tdiffAIC=594\n",
      "Exo ['WMEP', 'iv60call', 'iv30call', 'iv90call', 'iv120call']: \tAIC=9738\tdiffAIC=595\n",
      "Exo ['WMEP', 'iv60call', 'iv30call', 'iv90call', 'iv120call', 'WMV']: \tAIC=9731\tdiffAIC=602\n",
      "Exo ['WMEP', 'iv60call', 'iv30call', 'iv90call', 'iv120call', 'WMV', 'iv150call']: \tAIC=9719\tdiffAIC=614\n",
      "Exo ['WMEP', 'iv60call', 'iv30call', 'iv90call', 'iv120call', 'WMV', 'iv150call', 'SWM']: \tAIC=9718\tdiffAIC=615\n",
      "Exo ['WMEP', 'iv60call', 'iv30call', 'iv90call', 'iv120call', 'WMV', 'iv150call', 'SWM', 'iv180call']: \tAIC=9718\tdiffAIC=615\n",
      "Exo ['WMEP', 'iv60call', 'iv30call', 'iv90call', 'iv120call', 'WMV', 'iv150call', 'SWM', 'iv180call', 'WMT']: \tAIC=9701\tdiffAIC=632\n",
      "Exo ['WMEP', 'iv60call', 'iv30call', 'iv90call', 'iv120call', 'WMV', 'iv150call', 'SWM', 'iv180call', 'WMT', 'WMD']: \tAIC=9578\tdiffAIC=755\n",
      "Exo ['WMEP', 'iv60call', 'iv30call', 'iv90call', 'iv120call', 'WMV', 'iv150call', 'SWM', 'iv180call', 'WMT', 'WMD', 'iv360call']: \tAIC=9578\tdiffAIC=755\n",
      "Exo ['WMEP', 'iv60call', 'iv30call', 'iv90call', 'iv120call', 'WMV', 'iv150call', 'SWM', 'iv180call', 'WMT', 'WMD', 'iv360call', 'callvol']: \tAIC=9597\tdiffAIC=736\n",
      "Exo ['WMEP', 'iv60call', 'iv30call', 'iv90call', 'iv120call', 'WMV', 'iv150call', 'SWM', 'iv180call', 'WMT', 'WMD', 'iv360call', 'callvol', 'SM']: \tAIC=9597\tdiffAIC=736\n",
      "Exo ['WMEP', 'iv60call', 'iv30call', 'iv90call', 'iv120call', 'WMV', 'iv150call', 'SWM', 'iv180call', 'WMT', 'WMD', 'iv360call', 'callvol', 'SM', 'totalvol']: \tAIC=9571\tdiffAIC=761\n",
      "Exo ['WMEP', 'iv60call', 'iv30call', 'iv90call', 'iv120call', 'WMV', 'iv150call', 'SWM', 'iv180call', 'WMT', 'WMD', 'iv360call', 'callvol', 'SM', 'totalvol', 'PCR']: \tAIC=9339\tdiffAIC=993\n",
      "Exo ['WMEP', 'iv60call', 'iv30call', 'iv90call', 'iv120call', 'WMV', 'iv150call', 'SWM', 'iv180call', 'WMT', 'WMD', 'iv360call', 'callvol', 'SM', 'totalvol', 'PCR', 'WMG']: \tAIC=9330\tdiffAIC=1003\n",
      "Exo ['WMEP', 'iv60call', 'iv30call', 'iv90call', 'iv120call', 'WMV', 'iv150call', 'SWM', 'iv180call', 'WMT', 'WMD', 'iv360call', 'callvol', 'SM', 'totalvol', 'PCR', 'WMG', 'totaloi']: \tAIC=9326\tdiffAIC=1006\n",
      "Exo ['WMEP', 'iv60call', 'iv30call', 'iv90call', 'iv120call', 'WMV', 'iv150call', 'SWM', 'iv180call', 'WMT', 'WMD', 'iv360call', 'callvol', 'SM', 'totalvol', 'PCR', 'WMG', 'totaloi', 'putvol']: \tAIC=9328\tdiffAIC=1004\n",
      "Exo ['WMEP', 'iv60call', 'iv30call', 'iv90call', 'iv120call', 'WMV', 'iv150call', 'SWM', 'iv180call', 'WMT', 'WMD', 'iv360call', 'callvol', 'SM', 'totalvol', 'PCR', 'WMG', 'totaloi', 'putvol', 'putoi']: \tAIC=9329\tdiffAIC=1004\n",
      "Exo ['WMEP', 'iv60call', 'iv30call', 'iv90call', 'iv120call', 'WMV', 'iv150call', 'SWM', 'iv180call', 'WMT', 'WMD', 'iv360call', 'callvol', 'SM', 'totalvol', 'PCR', 'WMG', 'totaloi', 'putvol', 'putoi', 'calloi']: \tAIC=9331\tdiffAIC=1001\n",
      "Exo ['WMEP', 'iv60call', 'iv30call', 'iv90call', 'iv120call', 'WMV', 'iv150call', 'SWM', 'iv180call', 'WMT', 'WMD', 'iv360call', 'callvol', 'SM', 'totalvol', 'PCR', 'WMG', 'totaloi', 'putvol', 'putoi', 'calloi', 'MROI']: \tAIC=9333\tdiffAIC=1000\n"
     ]
    }
   ],
   "source": [
    "###### Assess combination of exogenous variables to find the best combination\n",
    "\n",
    "# List of best exogenous variable candidates\n",
    "zippedVarSel=zip(diffAICVars,exogenousVars)\n",
    "exoVarSelected = [element for _, element in sorted(zippedVarSel,reverse=True)]\n",
    "#print(exoVarSelected)\n",
    "\n",
    "# ARIMA with exogenous variables\n",
    "ARIMAexolist=list()\n",
    "AICVarsList=list()\n",
    "exolist=list()\n",
    "for k in range(0, len(exoVarSelected)):\n",
    "    ARIMAexoi=auto_arima(priceCloseTrain, exogenous=pd.DataFrame(exogenousTrain[exoVarSelected[0:(k+1)]]), seasonal=False, trace=False,\n",
    "            error_action='ignore', suppress_warnings=True, stepwise=True,\n",
    "            start_p=ARIMAbestparams[0], d=ARIMAbestparams[1], start_q=ARIMAbestparams[2], \n",
    "            max_p=ARIMAbestparams[0], max_d=ARIMAbestparams[1], max_q=ARIMAbestparams[2])\n",
    "    ARIMAexolist.append(ARIMAexoi)\n",
    "    AICVarsList.append(ARIMAexoi.aic())\n",
    "    exolist.append('_'.join(exoVarSelected[0:(k+1)]))\n",
    "    print(\"Exo \"+str(exoVarSelected[0:(k+1)])+\": \\tAIC=\"+str(round(ARIMAexoi.aic()))+\"\\tdiffAIC=\"+str(round(autoARIMA.aic()-ARIMAexoi.aic())))\n",
    "    \n",
    "# Save results\n",
    "matAICExoList=pd.DataFrame()\n",
    "matAICExoList[\"ExoVarList\"]=exolist\n",
    "matAICExoList[\"AIC\"]=AICVarsList\n",
    "matAICExoList[\"DiffAIC\"]=autoARIMA.aic()-AICVarsList\n",
    "matAICExoList[\"PercentGainAIC\"]=(autoARIMA.aic()-AICVarsList)/autoARIMA.aic()\n",
    "pathMatAICExoList=symbolFolder+\"/matrix_ARIMAX_AIC_exogenousVarsList_\"+symbol+\".csv\"\n",
    "matAICExoList.to_csv(pathMatAICExoList, index=False, sep=',', quotechar='\"')"
   ]
  },
  {
   "cell_type": "code",
   "execution_count": 49,
   "metadata": {},
   "outputs": [],
   "source": [
    "###### FORECAST AVERAGE PRICE USING ARIMA MODEL\n",
    "\n",
    "# Forecast with no exogenous variable (for comparison)\n",
    "future_forecast_noexo = autoARIMA.predict(n_periods=kdays)\n",
    "\n",
    "# Forecast for all exogenous variables with ARIMA \n",
    "# A ARIMA model is built to predict each exogenous variable.\n",
    "future_forecast_forexo=pd.DataFrame()\n",
    "for var in exoVarSelected:\n",
    "    autoARIMAforexoi = auto_arima(exogenousTrain[var], seasonal=False, trace=False,\n",
    "                error_action='ignore', suppress_warnings=True, stepwise=True)\n",
    "    future_forecast_forexoi=pd.DataFrame(autoARIMAforexoi.predict(n_periods=kdays))\n",
    "    future_forecast_forexo=pd.concat([future_forecast_forexo, future_forecast_forexoi], axis=1)\n",
    "future_forecast_forexo.columns=exoVarSelected"
   ]
  },
  {
   "cell_type": "code",
   "execution_count": 50,
   "metadata": {},
   "outputs": [
    {
     "name": "stderr",
     "output_type": "stream",
     "text": [
      "/home/mourad/.local/lib/python3.6/site-packages/statsmodels/tsa/base/tsa_model.py:583: ValueWarning: No supported index is available. Prediction results will be given with an integer index beginning at `start`.\n",
      "  ValueWarning)\n",
      "/home/mourad/.local/lib/python3.6/site-packages/statsmodels/tsa/base/tsa_model.py:583: ValueWarning: No supported index is available. Prediction results will be given with an integer index beginning at `start`.\n",
      "  ValueWarning)\n",
      "/home/mourad/.local/lib/python3.6/site-packages/statsmodels/tsa/base/tsa_model.py:583: ValueWarning: No supported index is available. Prediction results will be given with an integer index beginning at `start`.\n",
      "  ValueWarning)\n",
      "/home/mourad/.local/lib/python3.6/site-packages/statsmodels/tsa/base/tsa_model.py:583: ValueWarning: No supported index is available. Prediction results will be given with an integer index beginning at `start`.\n",
      "  ValueWarning)\n",
      "/home/mourad/.local/lib/python3.6/site-packages/statsmodels/tsa/base/tsa_model.py:583: ValueWarning: No supported index is available. Prediction results will be given with an integer index beginning at `start`.\n",
      "  ValueWarning)\n",
      "/home/mourad/.local/lib/python3.6/site-packages/statsmodels/tsa/base/tsa_model.py:583: ValueWarning: No supported index is available. Prediction results will be given with an integer index beginning at `start`.\n",
      "  ValueWarning)\n",
      "/home/mourad/.local/lib/python3.6/site-packages/statsmodels/tsa/base/tsa_model.py:583: ValueWarning: No supported index is available. Prediction results will be given with an integer index beginning at `start`.\n",
      "  ValueWarning)\n",
      "/home/mourad/.local/lib/python3.6/site-packages/statsmodels/tsa/base/tsa_model.py:583: ValueWarning: No supported index is available. Prediction results will be given with an integer index beginning at `start`.\n",
      "  ValueWarning)\n",
      "/home/mourad/.local/lib/python3.6/site-packages/statsmodels/tsa/base/tsa_model.py:583: ValueWarning: No supported index is available. Prediction results will be given with an integer index beginning at `start`.\n",
      "  ValueWarning)\n",
      "/home/mourad/.local/lib/python3.6/site-packages/statsmodels/tsa/base/tsa_model.py:583: ValueWarning: No supported index is available. Prediction results will be given with an integer index beginning at `start`.\n",
      "  ValueWarning)\n",
      "/home/mourad/.local/lib/python3.6/site-packages/statsmodels/tsa/base/tsa_model.py:583: ValueWarning: No supported index is available. Prediction results will be given with an integer index beginning at `start`.\n",
      "  ValueWarning)\n",
      "/home/mourad/.local/lib/python3.6/site-packages/statsmodels/tsa/base/tsa_model.py:583: ValueWarning: No supported index is available. Prediction results will be given with an integer index beginning at `start`.\n",
      "  ValueWarning)\n",
      "/home/mourad/.local/lib/python3.6/site-packages/statsmodels/tsa/base/tsa_model.py:583: ValueWarning: No supported index is available. Prediction results will be given with an integer index beginning at `start`.\n",
      "  ValueWarning)\n",
      "/home/mourad/.local/lib/python3.6/site-packages/statsmodels/tsa/base/tsa_model.py:583: ValueWarning: No supported index is available. Prediction results will be given with an integer index beginning at `start`.\n",
      "  ValueWarning)\n",
      "/home/mourad/.local/lib/python3.6/site-packages/statsmodels/tsa/base/tsa_model.py:583: ValueWarning: No supported index is available. Prediction results will be given with an integer index beginning at `start`.\n",
      "  ValueWarning)\n",
      "/home/mourad/.local/lib/python3.6/site-packages/statsmodels/tsa/base/tsa_model.py:583: ValueWarning: No supported index is available. Prediction results will be given with an integer index beginning at `start`.\n",
      "  ValueWarning)\n",
      "/home/mourad/.local/lib/python3.6/site-packages/statsmodels/tsa/base/tsa_model.py:583: ValueWarning: No supported index is available. Prediction results will be given with an integer index beginning at `start`.\n",
      "  ValueWarning)\n",
      "/home/mourad/.local/lib/python3.6/site-packages/statsmodels/tsa/base/tsa_model.py:583: ValueWarning: No supported index is available. Prediction results will be given with an integer index beginning at `start`.\n",
      "  ValueWarning)\n",
      "/home/mourad/.local/lib/python3.6/site-packages/statsmodels/tsa/base/tsa_model.py:583: ValueWarning: No supported index is available. Prediction results will be given with an integer index beginning at `start`.\n",
      "  ValueWarning)\n",
      "/home/mourad/.local/lib/python3.6/site-packages/statsmodels/tsa/base/tsa_model.py:583: ValueWarning: No supported index is available. Prediction results will be given with an integer index beginning at `start`.\n",
      "  ValueWarning)\n",
      "/home/mourad/.local/lib/python3.6/site-packages/statsmodels/tsa/base/tsa_model.py:583: ValueWarning: No supported index is available. Prediction results will be given with an integer index beginning at `start`.\n",
      "  ValueWarning)\n",
      "/home/mourad/.local/lib/python3.6/site-packages/statsmodels/tsa/base/tsa_model.py:583: ValueWarning: No supported index is available. Prediction results will be given with an integer index beginning at `start`.\n",
      "  ValueWarning)\n"
     ]
    }
   ],
   "source": [
    "# Forecast using ARIMA with exogenous variables\n",
    "RMSEnoexo=np.sqrt(mt.mean_squared_error(priceCloseTest, future_forecast_noexo))\n",
    "MAEnoexo=mt.mean_absolute_error(priceCloseTest, future_forecast_noexo)\n",
    "\n",
    "RMSElist=[None] * len(exoVarSelected)\n",
    "MAElist=[None] * len(exoVarSelected)\n",
    "ExoVarList=[None] * len(exoVarSelected)\n",
    "future_forecast_exo_List=[None] * len(exoVarSelected)\n",
    "conf_int_exo_List=[None] * len(exoVarSelected)\n",
    "for k in range(0, len(exoVarSelected)):\n",
    "    future_forecast_exoi, conf_int_exoi = ARIMAexolist[k].predict(n_periods=kdays, return_conf_int=True,alpha=0.05,\n",
    "                                exogenous=pd.DataFrame(future_forecast_forexo[exoVarSelected[0:(k+1)]]))\n",
    "    RMSEi=np.sqrt(mt.mean_squared_error(priceCloseTest, future_forecast_exoi))\n",
    "    RMSElist[k]=RMSEi\n",
    "    MAEi=mt.mean_absolute_error(priceCloseTest, future_forecast_exoi)\n",
    "    MAElist[k]=MAEi\n",
    "    ExoVarList[k]='_'.join(exoVarSelected[0:(k+1)])\n",
    "    future_forecast_exo_List[k]=future_forecast_exoi\n",
    "    conf_int_exo_List[k]=conf_int_exoi\n",
    "    #print(str(exoVarSelected[0:(k+1)]))"
   ]
  },
  {
   "cell_type": "code",
   "execution_count": 54,
   "metadata": {},
   "outputs": [
    {
     "name": "stdout",
     "output_type": "stream",
     "text": [
      "RMSE_noexo: 73.979\tMAE_noexo: 64.54\n",
      "\n",
      "                                               ExoVar   RMSE    MAE  \\\n",
      "0                                                WMEP  51.27  39.65   \n",
      "1                                       WMEP_iv60call  55.63  44.06   \n",
      "2                              WMEP_iv60call_iv30call  54.48  42.93   \n",
      "3                     WMEP_iv60call_iv30call_iv90call  54.42  42.88   \n",
      "4           WMEP_iv60call_iv30call_iv90call_iv120call  52.90  41.38   \n",
      "5       WMEP_iv60call_iv30call_iv90call_iv120call_WMV  49.74  38.38   \n",
      "6   WMEP_iv60call_iv30call_iv90call_iv120call_WMV_...  53.11  41.61   \n",
      "7   WMEP_iv60call_iv30call_iv90call_iv120call_WMV_...  56.26  44.65   \n",
      "8   WMEP_iv60call_iv30call_iv90call_iv120call_WMV_...  56.30  44.70   \n",
      "9   WMEP_iv60call_iv30call_iv90call_iv120call_WMV_...  49.38  38.17   \n",
      "10  WMEP_iv60call_iv30call_iv90call_iv120call_WMV_...  54.57  43.12   \n",
      "11  WMEP_iv60call_iv30call_iv90call_iv120call_WMV_...  55.01  43.55   \n",
      "12  WMEP_iv60call_iv30call_iv90call_iv120call_WMV_...  64.69  54.22   \n",
      "13  WMEP_iv60call_iv30call_iv90call_iv120call_WMV_...  66.06  55.81   \n",
      "14  WMEP_iv60call_iv30call_iv90call_iv120call_WMV_...  57.49  46.08   \n",
      "15  WMEP_iv60call_iv30call_iv90call_iv120call_WMV_...  58.03  46.60   \n",
      "16  WMEP_iv60call_iv30call_iv90call_iv120call_WMV_...  59.62  48.18   \n",
      "17  WMEP_iv60call_iv30call_iv90call_iv120call_WMV_...  59.33  47.80   \n",
      "18  WMEP_iv60call_iv30call_iv90call_iv120call_WMV_...  59.24  47.70   \n",
      "19  WMEP_iv60call_iv30call_iv90call_iv120call_WMV_...  56.41  44.99   \n",
      "20  WMEP_iv60call_iv30call_iv90call_iv120call_WMV_...  56.48  45.06   \n",
      "21  WMEP_iv60call_iv30call_iv90call_iv120call_WMV_...  56.41  44.99   \n",
      "\n",
      "    RMSEPercentReduction  MAEPercentReduction  \n",
      "0                  -0.31                -0.39  \n",
      "1                  -0.25                -0.32  \n",
      "2                  -0.26                -0.33  \n",
      "3                  -0.26                -0.34  \n",
      "4                  -0.28                -0.36  \n",
      "5                  -0.33                -0.41  \n",
      "6                  -0.28                -0.36  \n",
      "7                  -0.24                -0.31  \n",
      "8                  -0.24                -0.31  \n",
      "9                  -0.33                -0.41  \n",
      "10                 -0.26                -0.33  \n",
      "11                 -0.26                -0.33  \n",
      "12                 -0.13                -0.16  \n",
      "13                 -0.11                -0.14  \n",
      "14                 -0.22                -0.29  \n",
      "15                 -0.22                -0.28  \n",
      "16                 -0.19                -0.25  \n",
      "17                 -0.20                -0.26  \n",
      "18                 -0.20                -0.26  \n",
      "19                 -0.24                -0.30  \n",
      "20                 -0.24                -0.30  \n",
      "21                 -0.24                -0.30  \n",
      "\n",
      "Best model: WMEP_iv60call_iv30call_iv90call_iv120call_WMV_iv150call_SWM_iv180call_WMT\n"
     ]
    }
   ],
   "source": [
    "# Best models\n",
    "print(\"RMSE_noexo: \"+str(round(RMSEnoexo,3))+\"\\tMAE_noexo: \"+str(round(MAEnoexo,3))+\"\\n\")\n",
    "\n",
    "matMetrics=pd.DataFrame()\n",
    "matMetrics[\"ExoVar\"]=ExoVarList\n",
    "matMetrics[\"RMSE\"]=np.round(RMSElist,2)\n",
    "matMetrics[\"MAE\"]=np.round(MAElist,2)\n",
    "matMetrics[\"RMSEPercentReduction\"]=np.round((RMSElist-RMSEnoexo)/RMSEnoexo,2)\n",
    "matMetrics[\"MAEPercentReduction\"]=np.round((MAElist-MAEnoexo)/MAEnoexo,2)\n",
    "print(matMetrics)\n",
    "print(\"\\nBest model: \"+ExoVarList[np.argmin(RMSElist)])\n",
    "\n",
    "pathMatMetrics=symbolFolder+\"/matrix_ARIMAX_metrics_exogenousVarsList_\"+symbol+\".csv\"\n",
    "matMetrics.to_csv(pathMatMetrics, index=False, sep=',', quotechar='\"')"
   ]
  },
  {
   "cell_type": "code",
   "execution_count": 55,
   "metadata": {},
   "outputs": [],
   "source": [
    "# Forecast with confidence interval (alpha=5%)\n",
    "future_forecast_exobest=future_forecast_exo_List[np.argmin(RMSElist)]\n",
    "conf_int_exobest=conf_int_exo_List[np.argmin(RMSElist)]\n",
    "\n",
    "future_forecast = pd.DataFrame(future_forecast_exobest,columns=['future_forecast'],index=priceCloseTest.index.values)\n",
    "priceCloseTest = pd.DataFrame(priceCloseTest)\n",
    "conf_int=conf_int_exobest"
   ]
  },
  {
   "cell_type": "code",
   "execution_count": 56,
   "metadata": {},
   "outputs": [
    {
     "data": {
      "image/png": "[encoded data removed]",
      "text/plain": [
       "<Figure size 864x864 with 2 Axes>"
      ]
     },
     "metadata": {
      "needs_background": "light"
     },
     "output_type": "display_data"
    }
   ],
   "source": [
    "# Better forecast plots\n",
    "plotForeCastBetter=symbolFolder+\"/plot_ARIMA_forecast_better_\"+symbol+\".pdf\"\n",
    "fig, axes = pyplot.subplots(2, 1, figsize=(12, 12))\n",
    "\n",
    "# --------------------- Actual vs. Predicted --------------------------\n",
    "axes[0].plot(priceCloseTrain, color='blue', label='Training Data')\n",
    "axes[0].plot(priceCloseTest.index, future_forecast, color='green', linewidth=4, label='Predicted Price')\n",
    "\n",
    "axes[0].plot(priceCloseTest.index, priceCloseTest, color='red', label='Actual Price')\n",
    "axes[0].set_title('Prices Prediction')\n",
    "axes[0].set_xlabel('Dates')\n",
    "axes[0].set_ylabel('Prices')\n",
    "axes[0].legend()\n",
    "\n",
    "\n",
    "# ------------------ Predicted with confidence intervals ----------------\n",
    "axes[1].plot(priceCloseTrain, color='blue', label='Training Data')\n",
    "axes[1].plot(priceCloseTest.index, future_forecast, color='green',\n",
    "             label='Predicted Price')\n",
    "\n",
    "axes[1].set_title('Prices Predictions & Confidence Intervals')\n",
    "axes[1].set_xlabel('Dates')\n",
    "axes[1].set_ylabel('Prices')\n",
    "\n",
    "conf_int = np.asarray(conf_int)\n",
    "axes[1].fill_between(priceCloseTest.index, conf_int[:, 0], conf_int[:, 1],\n",
    "                     alpha=0.9, color='orange', label=\"95% Confidence Intervals\")\n",
    "axes[1].legend()\n",
    "pyplot.savefig(plotForeCastBetter, bbox_inches='tight')\n"
   ]
  },
  {
   "cell_type": "code",
   "execution_count": null,
   "metadata": {},
   "outputs": [],
   "source": [
    "###### PROBABILITY GRAPH FROM ARIMA MODEL\n",
    "\n",
    "# Note to Rim and Quinn: ARIMA model computes a predicted mean mu at kdays and a 95% confidence interval\n",
    "# To compute the probability graph (AKA density function in statistics),\n",
    "# we calculate the Standard Error (SE) from the lower bound of the confidence interval.\n",
    "# Once we have the mean mu and the SE, then we can plot the probability graph.\n",
    "\n",
    "# Current price\n",
    "priceCloseCurrent=priceCloseTrain.iloc[len(priceCloseTrain)-1]\n",
    "\n",
    "# Extract predicted mean and confidence interval\n",
    "mu=future_forecast.iloc[kdays-1,0]\n",
    "lower=conf_int[kdays-1,0]\n",
    "upper=conf_int[kdays-1,1]\n",
    "print(\"mu=\"+str(round(mu,3)))\n",
    "\n",
    "# Compute Standard Error (SE) from predicted confidence interval (reverse engineering here ;) )\n",
    "se=(mu-lower)/norm.ppf(0.975)\n",
    "print(\"SE=\"+str(round(se,3)))\n",
    "\n",
    "# Probability graph\n",
    "plotProbabilityGraph=symbolFolder+\"/plot_ARIMA_probabilityGraph_\"+symbol+\"_\"+str(kdays)+\"days.pdf\"\n",
    "x = np.linspace(mu - 3*se, mu + 3*se, 100)\n",
    "pyplot.plot(x, norm.pdf(x, mu, se))\n",
    "pyplot.axvline(x=priceCloseCurrent,color='red',label='Current Price')\n",
    "pyplot.axvline(x=lower,color='green',label='95% Pred Interval')\n",
    "pyplot.axvline(x=upper,color='green')\n",
    "pyplot.xlabel('Stock price ($)', fontsize=18)\n",
    "pyplot.ylabel('Probability', fontsize=18)\n",
    "pyplot.legend(loc='upper right')\n",
    "pyplot.savefig(plotProbabilityGraph, bbox_inches='tight')\n",
    "pyplot.show()"
   ]
  },
  {
   "cell_type": "code",
   "execution_count": null,
   "metadata": {},
   "outputs": [],
   "source": []
  }
 ],
 "metadata": {
  "kernelspec": {
   "display_name": "Python 3",
   "language": "python",
   "name": "python3"
  },
  "language_info": {
   "codemirror_mode": {
    "name": "ipython",
    "version": 3
   },
   "file_extension": ".py",
   "mimetype": "text/x-python",
   "name": "python",
   "nbconvert_exporter": "python",
   "pygments_lexer": "ipython3",
   "version": "3.6.9"
  }
 },
 "nbformat": 4,
 "nbformat_minor": 2
}
