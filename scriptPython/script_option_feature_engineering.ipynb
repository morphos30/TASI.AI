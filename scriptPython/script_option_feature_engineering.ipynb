{
 "cells": [
  {
   "cell_type": "code",
   "execution_count": 1,
   "metadata": {},
   "outputs": [
    {
     "name": "stderr",
     "output_type": "stream",
     "text": [
      "/home/mourad/.local/lib/python3.6/site-packages/pandas_datareader/compat/__init__.py:7: FutureWarning: pandas.util.testing is deprecated. Use the functions in the public API at pandas.testing instead.\n",
      "  from pandas.util.testing import assert_frame_equal\n"
     ]
    }
   ],
   "source": [
    "# 16/06/2020\n",
    "# TASI.AI\n",
    "# Raphael Mourad\n",
    "\n",
    "# Feature engineering: how to make features that best capture and summarize\n",
    "# the key information from the huge option data.\n",
    "\n",
    "# Explanations: Option data are too big to be used directly for the predictions.\n",
    "# Instead, features should be built which should best capture and summarize\n",
    "# key information for the prediction of stock price and probability distribution.\n",
    "# This is where knowledge about stock market and option pricing is necessary.\n",
    "\n",
    "# https://en.wikipedia.org/wiki/Feature_engineering\n",
    "# https://medium.com/predict/feature-engineering-for-stock-price-movement-54669d4a7efc\n",
    "\n",
    "###### IMPORT LIBRARIES AND SET UP PARAMETERS\n",
    "\n",
    "# Import libraries\n",
    "import os\n",
    "import pandas as pd\n",
    "import numpy as np\n",
    "import sklearn.metrics as mt\n",
    "import random\n",
    "import datetime\n",
    "import seaborn as sns\n",
    "import weighted\n",
    "from pandas_datareader import DataReader\n",
    "from matplotlib import pyplot\n",
    "from statsmodels.graphics.tsaplots import plot_acf, plot_pacf\n",
    "from statsmodels.stats.diagnostic import acorr_ljungbox\n",
    "from statsmodels.tsa.arima_model import ARIMA\n",
    "from pmdarima import auto_arima\n",
    "from scipy.stats import norm"
   ]
  },
  {
   "cell_type": "code",
   "execution_count": 2,
   "metadata": {},
   "outputs": [
    {
     "name": "stdout",
     "output_type": "stream",
     "text": [
      "/media/mourad/diskSave/MCF_Toulouse/recherche/ConsulProj/RamCiri\n"
     ]
    }
   ],
   "source": [
    "# Set up directory\n",
    "dir=\"/media/mourad/diskSave/MCF_Toulouse/recherche/ConsulProj/RamCiri\"\n",
    "os.chdir(dir)\n",
    "print(os.getcwd())"
   ]
  },
  {
   "cell_type": "code",
   "execution_count": 3,
   "metadata": {},
   "outputs": [],
   "source": [
    "# Parameters\n",
    "symbol=\"GOOG\" # Set up the symbol you want\n",
    "kdays=30 # Number of days for forecasting"
   ]
  },
  {
   "cell_type": "code",
   "execution_count": 4,
   "metadata": {},
   "outputs": [],
   "source": [
    "# Create folder for symbol\n",
    "symbolFolder=\"results/ARIMA_optionstats/\"+symbol\n",
    "if(os.path.isdir(symbolFolder)==False):\n",
    "    os.mkdir(symbolFolder, mode=0o777)"
   ]
  },
  {
   "cell_type": "code",
   "execution_count": 5,
   "metadata": {},
   "outputs": [
    {
     "name": "stdout",
     "output_type": "stream",
     "text": [
      "['UnderlyingSymbol' 'UnderlyingPrice' 'Flags' 'OptionSymbol' 'Type'\n",
      " 'Expiration' 'DataDate' 'Strike' 'Last' 'Bid' 'Ask' 'Volume'\n",
      " 'OpenInterest' 'T1OpenInterest' 'IVMean' 'IVBid' 'IVAsk' 'Delta' 'Gamma'\n",
      " 'Theta' 'Vega' 'AKA' 'BidAskMean']\n"
     ]
    }
   ],
   "source": [
    "### STOCK OPTION PRICE\n",
    "# Import option\n",
    "pathOption=\"data/options/samples_L3_options_\"+symbol+\".csv.gz\"\n",
    "data_option = pd.read_csv(pathOption, compression='gzip', header=0, sep=',', quotechar='\"', error_bad_lines=False)\n",
    "data_option=data_option.sort_values([\"Expiration\",\"DataDate\",\"Type\",\"Strike\"])\n",
    "data_option[\"DataDate\"]=pd.to_datetime(data_option[\"DataDate\"])\n",
    "data_option[\"Expiration\"]=pd.to_datetime(data_option[\"Expiration\"])\n",
    "\n",
    "# Compute mean of bid and ask prices\n",
    "data_option[\"BidAskMean\"]=(data_option[\"Bid\"]+data_option[\"Ask\"])/2\n",
    "print(data_option.columns.values)\n",
    "#print(data_option)"
   ]
  },
  {
   "cell_type": "code",
   "execution_count": 18,
   "metadata": {},
   "outputs": [],
   "source": [
    "### BUILD FEATURES FROM OPTION DATA\n",
    "\n",
    "# Feature: Put to Call Ratio (PCR) [CHECKED]\n",
    "# PCR < 1, the stock price is anticipated to increase in the future.\n",
    "# PCR > 1, the stock price is anticipated to decrease in the future.\n",
    "# Average PCR over expiration dates\n",
    "\n",
    "\n",
    "# Loop over every date in DataDate\n",
    "dataDate=np.sort(np.unique(data_option[\"DataDate\"]))\n",
    "matOptionFeatures=pd.DataFrame(columns=[\"DataDate\",\"PCR\",\"SM\",\"SWM\",\"WAEP\",\"WMEP\",\"WAD\",\"WAG\",\"WAT\",\"WAV\"])\n",
    "for i in range(0, len(dataDate)):\n",
    "    \n",
    "    # Set a data date and expiration date < DataDate + 180 days\n",
    "    data_option_i=data_option[data_option[\"DataDate\"]==dataDate[i]]\n",
    "    priceUnderlying=np.unique(data_option_i[\"UnderlyingPrice\"])\n",
    "    rowToKeep=((data_option_i[\"Expiration\"]> (data_option_i[\"DataDate\"]+pd.DateOffset(days=kdays))) \n",
    "        & (data_option_i[\"Expiration\"]<= (data_option_i[\"DataDate\"]+pd.DateOffset(days=120))))\n",
    "    data_option_i=data_option_i[rowToKeep]\n",
    "    data_option_i=data_option_i.drop(columns=[\"UnderlyingSymbol\",\"Flags\",\"OptionSymbol\",\"DataDate\"])\n",
    "    #print(data_option_i[[\"UnderlyingPrice\",\"Expiration\",\"Strike\",\"BidAskMean\"]])\n",
    "    \n",
    "    PCRi=round((np.sum(data_option_i.loc[data_option_i[\"Type\"]==\"put\",\"Volume\"])\n",
    "     /np.sum(data_option_i.loc[data_option_i[\"Type\"]==\"call\",\"Volume\"])),3)\n",
    "    \n",
    "    # Distribution of expected prices (strike price + call price, strike price - put price)\n",
    "    # I noted \"BAMS\".\n",
    "    data_option_i[\"BAMS\"]=data_option_i[\"Strike\"]+data_option_i[\"BidAskMean\"]\n",
    "    data_option_i.loc[data_option_i[\"Type\"]==\"put\",\"BAMS\"]=(data_option_i.loc[data_option_i[\"Type\"]==\"put\",\"Strike\"]\n",
    "                                                      -data_option_i.loc[data_option_i[\"Type\"]==\"put\",\"BidAskMean\"])\n",
    "\n",
    "    # Straddle cost\n",
    "    SMi=round(np.median(abs(data_option_i[\"BAMS\"]-priceUnderlying)),3)\n",
    "    SWMi=round(weighted.median(abs(data_option_i[\"BAMS\"]-priceUnderlying),weights=data_option_i[\"Volume\"]),3)\n",
    "    \n",
    "    # Weighted average/median expected price\n",
    "    WAEPi=round(np.average(data_option_i[\"BAMS\"],weights=data_option_i[\"Volume\"]),3)\n",
    "    WMEPi=round(weighted.median(data_option_i[\"BAMS\"],weights=data_option_i[\"Volume\"]),3)\n",
    "    \n",
    "    # Weighted average/median Greeks\n",
    "    WADi=round(np.average(data_option_i[\"Delta\"],weights=data_option_i[\"Volume\"]),3)\n",
    "    WAGi=round(np.average(data_option_i[\"Gamma\"],weights=data_option_i[\"Volume\"]),3)\n",
    "    WATi=round(np.average(data_option_i[\"Theta\"],weights=data_option_i[\"Volume\"]),3)\n",
    "    WAVi=round(np.average(data_option_i[\"Vega\"],weights=data_option_i[\"Volume\"]),3)\n",
    "\n",
    "    # Feature list\n",
    "    featListi=[dataDate[i],PCRi,SMi,SWMi,WAEPi,WMEPi,WADi,WAGi,WATi,WAVi]\n",
    "    \n",
    "    # Store features in matOptionFeatures\n",
    "    matOptionFeatures.loc[i]=featListi\n",
    "\n"
   ]
  },
  {
   "cell_type": "code",
   "execution_count": 25,
   "metadata": {},
   "outputs": [
    {
     "name": "stdout",
     "output_type": "stream",
     "text": [
      "       DataDate    PCR      SM      SWM      WAEP      WMEP    WAD    WAG  \\\n",
      "0    2015-05-01  1.461  24.890   29.337   524.503   513.368  0.025  0.007   \n",
      "1    2015-05-04  0.706  23.280   33.616   543.213   555.014  0.083  0.008   \n",
      "2    2015-05-05  1.185  23.100   26.606   532.228   518.185 -0.046  0.008   \n",
      "3    2015-05-06  1.890  26.880   26.327   516.727   510.070 -0.111  0.008   \n",
      "4    2015-05-07  0.882  22.200   24.745   533.762   539.700  0.034  0.008   \n",
      "...         ...    ...     ...      ...       ...       ...    ...    ...   \n",
      "1273 2020-05-22  0.719  68.425   83.550  1371.501  1449.930  0.143  0.002   \n",
      "1274 2020-05-26  1.697  65.975  104.408  1355.689  1317.386 -0.009  0.002   \n",
      "1275 2020-05-27  0.984  71.275  111.510  1384.709  1425.200  0.070  0.002   \n",
      "1276 2020-05-28  0.643  68.300   97.683  1403.772  1475.809  0.152  0.002   \n",
      "1277 2020-05-29  1.777  66.000   98.570  1387.149  1376.584 -0.053  0.002   \n",
      "\n",
      "          WAT      WAV  \n",
      "0     -41.369   56.162  \n",
      "1     -44.042   56.609  \n",
      "2     -48.273   56.166  \n",
      "3     -47.175   55.810  \n",
      "4     -48.622   63.069  \n",
      "...       ...      ...  \n",
      "1273 -150.599  183.075  \n",
      "1274 -155.680  196.054  \n",
      "1275 -140.844  179.949  \n",
      "1276 -160.344  177.271  \n",
      "1277 -162.910  173.374  \n",
      "\n",
      "[1278 rows x 10 columns]\n"
     ]
    }
   ],
   "source": [
    "### EXPORT FEATURES FROM OPTION DATA\n",
    "print(matOptionFeatures)\n",
    "pathOptionFeatures=\"data/options_features/samples_L3_options_features_\"+symbol+\".csv.gz\"\n",
    "matOptionFeatures.to_csv(pathOptionFeatures, compression='gzip', index=False, sep=',', quotechar='\"')\n",
    "\n"
   ]
  },
  {
   "cell_type": "code",
   "execution_count": null,
   "metadata": {},
   "outputs": [],
   "source": [
    "# Features per expiration date\n",
    "expDates=np.unique(data_optionX[\"Expiration\"])\n",
    "PCR=list()\n",
    "PCRoi=list()\n",
    "for date in expDates:\n",
    "    data_optionXY=data_optionX[data_optionX[\"Expiration\"]==date]\n",
    "    PCR.append(np.sum(data_optionXY.loc[data_optionXY[\"Type\"]==\"put\",\"Volume\"])/np.sum(data_optionXY.loc[data_optionXY[\"Type\"]==\"call\",\"Volume\"]))\n",
    "    PCRoi.append(np.sum(data_optionXY.loc[data_optionXY[\"Type\"]==\"put\",\"OpenInterest\"])/np.sum(data_optionXY.loc[data_optionXY[\"Type\"]==\"call\",\"OpenInterest\"]))\n",
    "\n",
    "matPCR=pd.DataFrame(PCR,expDates,columns=[\"PCR\"])\n",
    "matPCRoi=pd.DataFrame(PCRoi,expDates,columns=[\"PCRoi\"])\n",
    "print(matPCR)\n",
    "print(matPCRoi)\n"
   ]
  },
  {
   "cell_type": "code",
   "execution_count": null,
   "metadata": {},
   "outputs": [],
   "source": [
    "# Store "
   ]
  }
 ],
 "metadata": {
  "kernelspec": {
   "display_name": "Python 3",
   "language": "python",
   "name": "python3"
  },
  "language_info": {
   "codemirror_mode": {
    "name": "ipython",
    "version": 3
   },
   "file_extension": ".py",
   "mimetype": "text/x-python",
   "name": "python",
   "nbconvert_exporter": "python",
   "pygments_lexer": "ipython3",
   "version": "3.6.9"
  }
 },
 "nbformat": 4,
 "nbformat_minor": 2
}
