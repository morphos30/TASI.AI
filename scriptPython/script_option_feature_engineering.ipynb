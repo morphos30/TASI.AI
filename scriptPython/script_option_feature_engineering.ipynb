{
 "cells": [
  {
   "cell_type": "code",
   "execution_count": 1,
   "metadata": {},
   "outputs": [
    {
     "name": "stderr",
     "output_type": "stream",
     "text": [
      "/home/mourad/.local/lib/python3.6/site-packages/pandas_datareader/compat/__init__.py:7: FutureWarning: pandas.util.testing is deprecated. Use the functions in the public API at pandas.testing instead.\n",
      "  from pandas.util.testing import assert_frame_equal\n"
     ]
    }
   ],
   "source": [
    "# 16/06/2020\n",
    "# TASI.AI\n",
    "# Raphael Mourad\n",
    "\n",
    "# Feature engineering: how to make features that best capture and summarize\n",
    "# the key information from the huge option data.\n",
    "\n",
    "# Explanations: Option data are too big to be used directly for the predictions.\n",
    "# Instead, features should be built which should best capture and summarize\n",
    "# key information for the prediction of stock price and probability distribution.\n",
    "# This is where knowledge about stock market and option pricing is necessary.\n",
    "\n",
    "# https://en.wikipedia.org/wiki/Feature_engineering\n",
    "# https://medium.com/predict/feature-engineering-for-stock-price-movement-54669d4a7efc\n",
    "\n",
    "###### IMPORT LIBRARIES AND SET UP PARAMETERS\n",
    "\n",
    "# Import libraries\n",
    "import os\n",
    "import pandas as pd\n",
    "import numpy as np\n",
    "import datetime\n",
    "import seaborn as sns\n",
    "import weighted\n",
    "from pandas_datareader import DataReader"
   ]
  },
  {
   "cell_type": "code",
   "execution_count": 2,
   "metadata": {},
   "outputs": [
    {
     "name": "stdout",
     "output_type": "stream",
     "text": [
      "/media/mourad/diskSave/MCF_Toulouse/recherche/ConsulProj/RamCiri\n"
     ]
    }
   ],
   "source": [
    "# Set up directory\n",
    "dir=\"/media/mourad/diskSave/MCF_Toulouse/recherche/ConsulProj/RamCiri\"\n",
    "os.chdir(dir)\n",
    "print(os.getcwd())"
   ]
  },
  {
   "cell_type": "code",
   "execution_count": 3,
   "metadata": {},
   "outputs": [],
   "source": [
    "# Parameters\n",
    "symbol=\"AMZN\" # Set up the symbol you want\n",
    "kdays=30 # Number of days for forecasting\n",
    "kdaysExpi=90 # Number of days until expiration date"
   ]
  },
  {
   "cell_type": "code",
   "execution_count": 4,
   "metadata": {},
   "outputs": [],
   "source": [
    "# Create folder for symbol\n",
    "symbolFolder=\"results/ARIMA_optionstats/\"+symbol\n",
    "if(os.path.isdir(symbolFolder)==False):\n",
    "    os.mkdir(symbolFolder, mode=0o777)"
   ]
  },
  {
   "cell_type": "code",
   "execution_count": 5,
   "metadata": {},
   "outputs": [
    {
     "name": "stdout",
     "output_type": "stream",
     "text": [
      "['UnderlyingSymbol' 'UnderlyingPrice' 'Flags' 'OptionSymbol' 'Type'\n",
      " 'Expiration' 'DataDate' 'Strike' 'Last' 'Bid' 'Ask' 'Volume'\n",
      " 'OpenInterest' 'T1OpenInterest' 'IVMean' 'IVBid' 'IVAsk' 'Delta' 'Gamma'\n",
      " 'Theta' 'Vega' 'AKA' 'BidAskMean']\n"
     ]
    }
   ],
   "source": [
    "### STOCK OPTION PRICE\n",
    "# Import option\n",
    "pathOption=\"data/options/samples_L3_options_\"+symbol+\".csv.gz\"\n",
    "data_option = pd.read_csv(pathOption, compression='gzip', header=0, sep=',', quotechar='\"', error_bad_lines=False)\n",
    "data_option=data_option.sort_values([\"Expiration\",\"DataDate\",\"Type\",\"Strike\"])\n",
    "data_option[\"DataDate\"]=pd.to_datetime(data_option[\"DataDate\"])\n",
    "data_option[\"Expiration\"]=pd.to_datetime(data_option[\"Expiration\"])\n",
    "\n",
    "# Compute mean of bid and ask prices\n",
    "data_option[\"BidAskMean\"]=(data_option[\"Bid\"]+data_option[\"Ask\"])/2\n",
    "print(data_option.columns.values)\n",
    "#print(data_option)"
   ]
  },
  {
   "cell_type": "code",
   "execution_count": 6,
   "metadata": {},
   "outputs": [],
   "source": [
    "### BUILD FEATURES FROM OPTION DATA\n",
    "\n",
    "# Feature: Put to Call Ratio (PCR) [CHECKED]\n",
    "# PCR < 1, the stock price is anticipated to increase in the future.\n",
    "# PCR > 1, the stock price is anticipated to decrease in the future.\n",
    "# Average PCR over expiration dates\n",
    "\n",
    "\n",
    "# Loop over every date in DataDate\n",
    "dataDate=np.sort(np.unique(data_option[\"DataDate\"]))\n",
    "matOptionFeatures=pd.DataFrame(columns=[\"DataDate\",\"PCR\",\"SM\",\"SWM\",\"WMEP\",\"MROI\",\"WMD\",\"WMG\",\"WMT\",\"WMV\"])\n",
    "for i in range(0, len(dataDate)):\n",
    "    \n",
    "    # Set a data date and expiration date < DataDate + 180 days\n",
    "    data_option_i=data_option[data_option[\"DataDate\"]==dataDate[i]]\n",
    "    priceUnderlying=np.unique(data_option_i[\"UnderlyingPrice\"])\n",
    "    rowToKeep=((data_option_i[\"Expiration\"]>= (data_option_i[\"DataDate\"]+pd.DateOffset(days=kdays))) \n",
    "        & (data_option_i[\"Expiration\"]<= (data_option_i[\"DataDate\"]+pd.DateOffset(days=kdaysExpi))))\n",
    "    data_option_i=data_option_i[rowToKeep]\n",
    "    data_option_i=data_option_i.drop(columns=[\"UnderlyingSymbol\",\"Flags\",\"OptionSymbol\",\"DataDate\"])\n",
    "    #print(data_option_i[[\"UnderlyingPrice\",\"Expiration\",\"Strike\",\"BidAskMean\"]])\n",
    "    \n",
    "    PCRi=round((np.sum(data_option_i.loc[data_option_i[\"Type\"]==\"put\",\"Volume\"])\n",
    "     /np.sum(data_option_i.loc[data_option_i[\"Type\"]==\"call\",\"Volume\"])),3)\n",
    "    \n",
    "    # Distribution of expected prices (strike price + call price, strike price - put price)\n",
    "    # I noted \"BAMS\".\n",
    "    data_option_i[\"BAMS\"]=data_option_i[\"Strike\"]+data_option_i[\"BidAskMean\"]\n",
    "    data_option_i.loc[data_option_i[\"Type\"]==\"put\",\"BAMS\"]=(data_option_i.loc[data_option_i[\"Type\"]==\"put\",\"Strike\"]\n",
    "                                                      -data_option_i.loc[data_option_i[\"Type\"]==\"put\",\"BidAskMean\"])\n",
    "\n",
    "    # Straddle cost\n",
    "    SMi=round(np.median(abs(data_option_i[\"BAMS\"]-priceUnderlying)),3)\n",
    "    SWMi=round(weighted.median(abs(data_option_i[\"BAMS\"]-priceUnderlying),weights=data_option_i[\"Volume\"]),3)\n",
    "    \n",
    "    # Weighted median expected price\n",
    "    WMEPi=round(weighted.median(data_option_i[\"BAMS\"],weights=data_option_i[\"Volume\"]),3)\n",
    "    \n",
    "    # Median relative open interest\n",
    "    MROIi=round(np.median(data_option_i[\"OpenInterest\"]),3)\n",
    "    \n",
    "    # Weighted median Greeks\n",
    "    WMDi=round(weighted.median(data_option_i[\"Delta\"],weights=data_option_i[\"Volume\"]),3)\n",
    "    WMGi=round(weighted.median(data_option_i[\"Gamma\"],weights=data_option_i[\"Volume\"]),3)\n",
    "    WMTi=round(weighted.median(data_option_i[\"Theta\"],weights=data_option_i[\"Volume\"]),3)\n",
    "    WMVi=round(weighted.median(data_option_i[\"Vega\"],weights=data_option_i[\"Volume\"]),3)\n",
    "\n",
    "    # Feature list\n",
    "    featListi=[dataDate[i],PCRi,SMi,SWMi,WMEPi,MROIi,WMDi,WMGi,WMTi,WMVi]\n",
    "    \n",
    "    # Store features in matOptionFeatures\n",
    "    matOptionFeatures.loc[i]=featListi\n",
    "\n"
   ]
  },
  {
   "cell_type": "code",
   "execution_count": 7,
   "metadata": {},
   "outputs": [],
   "source": [
    "### EXPORT FEATURES FROM OPTION DATA\n",
    "pathOptionFeatures=\"data/options_features/samples_L3_options_features_\"+symbol+\"_\"+str(kdaysExpi)+\"daysExpi.csv.gz\"\n",
    "matOptionFeatures.to_csv(pathOptionFeatures, compression='gzip', index=False, sep=',', quotechar='\"')"
   ]
  },
  {
   "cell_type": "code",
   "execution_count": 8,
   "metadata": {},
   "outputs": [
    {
     "name": "stdout",
     "output_type": "stream",
     "text": [
      "       DataDate    PCR       SM      SWM      WMEP  MROI    WMD    WMG  \\\n",
      "0    2015-05-01  0.713   14.325   25.244   436.484   3.0  0.145  0.008   \n",
      "1    2015-05-04  1.190   13.550   31.753   412.027   3.0 -0.011  0.008   \n",
      "2    2015-05-05  0.904   13.948   30.918   431.280   6.5  0.034  0.008   \n",
      "3    2015-05-06  0.893   13.575   25.729   429.648   8.0  0.071  0.008   \n",
      "4    2015-05-07  0.579   15.005   29.659   442.782   8.0  0.150  0.008   \n",
      "...         ...    ...      ...      ...       ...   ...    ...    ...   \n",
      "1270 2020-05-22  0.555   92.600  178.830  2550.080   2.0  0.117  0.001   \n",
      "1271 2020-05-26  0.602  109.662  144.090  2491.648  10.0  0.168  0.001   \n",
      "1272 2020-05-27  0.467  108.587  152.241  2489.298  10.0  0.243  0.001   \n",
      "1273 2020-05-28  0.431  110.438  131.325  2420.467  17.0  0.369  0.001   \n",
      "1274 2020-05-29  0.857  104.550  178.384  2442.649   8.0  0.017  0.001   \n",
      "\n",
      "          WMT      WMV  \n",
      "0     -45.243   56.536  \n",
      "1     -42.813   46.612  \n",
      "2     -42.931   48.290  \n",
      "3     -45.511   52.630  \n",
      "4     -45.671   49.238  \n",
      "...       ...      ...  \n",
      "1270 -309.627  324.155  \n",
      "1271 -282.962  279.742  \n",
      "1272 -327.106  291.756  \n",
      "1273 -255.930  248.852  \n",
      "1274 -286.568  254.111  \n",
      "\n",
      "[1275 rows x 10 columns]\n"
     ]
    }
   ],
   "source": [
    "print(matOptionFeatures)"
   ]
  },
  {
   "cell_type": "code",
   "execution_count": null,
   "metadata": {},
   "outputs": [],
   "source": []
  }
 ],
 "metadata": {
  "kernelspec": {
   "display_name": "Python 3",
   "language": "python",
   "name": "python3"
  },
  "language_info": {
   "codemirror_mode": {
    "name": "ipython",
    "version": 3
   },
   "file_extension": ".py",
   "mimetype": "text/x-python",
   "name": "python",
   "nbconvert_exporter": "python",
   "pygments_lexer": "ipython3",
   "version": "3.6.9"
  }
 },
 "nbformat": 4,
 "nbformat_minor": 2
}
