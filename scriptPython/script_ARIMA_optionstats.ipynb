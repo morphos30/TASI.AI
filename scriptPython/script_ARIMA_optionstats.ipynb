{
 "cells": [
  {
   "cell_type": "code",
   "execution_count": 30,
   "metadata": {},
   "outputs": [],
   "source": [
    "# 16/06/2020\n",
    "# TASI.AI\n",
    "# Raphael Mourad\n",
    "\n",
    "# ARIMA + Exogenous variables = ARIMAX\n",
    "\n",
    "###### IMPORT LIBRARIES AND SET UP PARAMETERS\n",
    "\n",
    "# Import libraries\n",
    "import os\n",
    "import pandas as pd\n",
    "import numpy as np\n",
    "import sklearn.metrics as mt\n",
    "import random\n",
    "from pandas_datareader import DataReader\n",
    "from datetime import datetime\n",
    "from matplotlib import pyplot\n",
    "from statsmodels.graphics.tsaplots import plot_acf, plot_pacf\n",
    "from statsmodels.stats.diagnostic import acorr_ljungbox\n",
    "from statsmodels.tsa.arima_model import ARIMA\n",
    "from pmdarima import auto_arima\n",
    "from scipy.stats import norm"
   ]
  },
  {
   "cell_type": "code",
   "execution_count": 2,
   "metadata": {},
   "outputs": [
    {
     "name": "stdout",
     "output_type": "stream",
     "text": [
      "/media/mourad/diskSave/MCF_Toulouse/recherche/ConsulProj/RamCiri\n"
     ]
    }
   ],
   "source": [
    "# Set up directory\n",
    "dir=\"/media/mourad/diskSave/MCF_Toulouse/recherche/ConsulProj/RamCiri\"\n",
    "os.chdir(dir)\n",
    "print(os.getcwd())"
   ]
  },
  {
   "cell_type": "code",
   "execution_count": 3,
   "metadata": {},
   "outputs": [],
   "source": [
    "# Parameters\n",
    "symbol=\"GOOG\" # Set up the symbol you want\n",
    "kdays=30 # Number of days for forecasting"
   ]
  },
  {
   "cell_type": "code",
   "execution_count": 4,
   "metadata": {},
   "outputs": [],
   "source": [
    "# Create folder for symbol\n",
    "symbolFolder=\"results/ARIMA/\"+symbol\n",
    "if(os.path.isdir(symbolFolder)==False):\n",
    "    os.mkdir(symbolFolder, mode=0o777)"
   ]
  },
  {
   "cell_type": "code",
   "execution_count": 5,
   "metadata": {},
   "outputs": [
    {
     "name": "stdout",
     "output_type": "stream",
     "text": [
      "['AAPL' 'AMZN' 'AXP' 'BA' 'CAT' 'DIS' 'GOOG' 'GS' 'HD' 'IBM' 'JNJ' 'JPM'\n",
      " 'KO' 'MCD' 'MRK' 'MSFT' 'NFLX' 'NKE' 'PFE' 'PG' 'XOM']\n",
      "      symbol  quotedate        close\n",
      "23481   GOOG 2015-05-01   537.900024\n",
      "23882   GOOG 2015-05-04   540.780029\n",
      "23974   GOOG 2015-05-05   530.799988\n",
      "23598   GOOG 2015-05-06   524.219971\n",
      "23944   GOOG 2015-05-07   530.700012\n",
      "...      ...        ...          ...\n",
      "23695   GOOG 2020-05-22  1410.420000\n",
      "23267   GOOG 2020-05-26  1417.020000\n",
      "23804   GOOG 2020-05-27  1417.840000\n",
      "23742   GOOG 2020-05-28  1416.730000\n",
      "23412   GOOG 2020-05-29  1428.920000\n",
      "\n",
      "[1278 rows x 3 columns]\n",
      "Missing data= 0\n"
     ]
    }
   ],
   "source": [
    "###### LOAD AND PREPROCESS DATA\n",
    "\n",
    "### STOCK PRICE\n",
    "# Import price\n",
    "path=\"data/stockquotes/samples_L3_stockquotes_sample.csv.gz\"\n",
    "data_stockquotes = pd.read_csv(path, compression='gzip', header=0, sep=',', quotechar='\"', error_bad_lines=False)\n",
    "data_stockquotes[\"quotedate\"] = pd.to_datetime(data_stockquotes[\"quotedate\"])\n",
    "#print(data_stockquotes)\n",
    "print(np.unique(data_stockquotes[\"symbol\"]))\n",
    "\n",
    "# Choose the stock\n",
    "data_stockquotes_sel=data_stockquotes[data_stockquotes[\"symbol\"]==symbol]\n",
    "data_stockquotes_sel=data_stockquotes_sel.sort_values('quotedate')\n",
    "data_stockquotes_sel=data_stockquotes_sel[[\"symbol\",\"quotedate\",\"close\"]]\n",
    "#data_stockquotes_sel=data_stockquotes_sel.set_index('quotedate')\n",
    "print(data_stockquotes_sel)\n",
    "\n",
    "# Check the absence of missing data \n",
    "NAcount=data_stockquotes.isnull().sum().sum()\n",
    "print(\"Missing data=\",NAcount)"
   ]
  },
  {
   "cell_type": "code",
   "execution_count": 6,
   "metadata": {},
   "outputs": [],
   "source": [
    "### STOCK OPTION PRICE\n",
    "# Import option\n",
    "#pathOption=\"data/options/samples_L3_options_\"+symbol+\".csv.gz\"\n",
    "#data_option = pd.read_csv(pathOption, compression='gzip', header=0, sep=',', quotechar='\"', error_bad_lines=False)\n",
    "#data_option=data_option.sort_values([\"Expiration\",\"DataDate\"])\n",
    "#print(data_option[1:5])\n",
    "#data_option[\"DataDate\"] = pd.to_datetime(data_option[\"quotedate\"])\n",
    "#print(data_option)\n",
    "\n",
    "# Stats \n",
    "#uniqueDateExp=np.unique(data_option[\"Expiration\"])\n",
    "#print(uniqueDateExp[0:3])"
   ]
  },
  {
   "cell_type": "code",
   "execution_count": 7,
   "metadata": {},
   "outputs": [
    {
     "name": "stdout",
     "output_type": "stream",
     "text": [
      "       iv30call  iv30put\n",
      "202      0.2106   0.2012\n",
      "34324    0.2089   0.1835\n",
      "11227    0.2205   0.1993\n",
      "25867    0.2121   0.2186\n",
      "17833    0.2114   0.1986\n",
      "...         ...      ...\n",
      "21701    0.2622   0.2626\n",
      "46776    0.2629   0.2587\n",
      "29196    0.2646   0.2688\n",
      "7300     0.2701   0.2722\n",
      "10736    0.2629   0.2579\n",
      "\n",
      "[1114 rows x 2 columns]\n"
     ]
    }
   ],
   "source": [
    "### STOCK OPTION STATISTICS\n",
    "# Import optionstats\n",
    "pathOptionStats=\"data/optionstats/samples_L3_optionstats_sample.csv.gz\"\n",
    "data_optionStats = pd.read_csv(pathOptionStats, compression='gzip', header=0, sep=',', quotechar='\"', error_bad_lines=False)\n",
    "data_optionStats[\"quotedate\"] = pd.to_datetime(data_optionStats[\"quotedate\"])\n",
    "\n",
    "# Choose the stock\n",
    "data_optionStats_sel=data_optionStats[data_optionStats[\"symbol\"]==symbol]\n",
    "data_optionStats_sel=data_optionStats_sel.sort_values([\"quotedate\"])\n",
    "#data_optionStats_sel=data_optionStats_sel.set_index('quotedate')\n",
    "data_optionStats_sel=pd.DataFrame.drop_duplicates(data_optionStats_sel)\n",
    "data_optionStats_sel=data_optionStats_sel.drop(columns=[\"symbol\"])\n",
    "print(data_optionStats_sel[[\"iv30call\",\"iv30put\"]])\n"
   ]
  },
  {
   "cell_type": "code",
   "execution_count": 8,
   "metadata": {},
   "outputs": [
    {
     "name": "stdout",
     "output_type": "stream",
     "text": [
      "                  close  iv30call  iv30put\n",
      "quotedate                                 \n",
      "2015-05-01   537.900024    0.2106   0.2012\n",
      "2015-05-04   540.780029    0.2089   0.1835\n",
      "2015-05-05   530.799988    0.2205   0.1993\n",
      "2015-05-06   524.219971    0.2121   0.2186\n",
      "2015-05-07   530.700012    0.2114   0.1986\n",
      "...                 ...       ...      ...\n",
      "2020-05-22  1410.420000    0.2622   0.2626\n",
      "2020-05-26  1417.020000    0.2629   0.2587\n",
      "2020-05-27  1417.840000    0.2646   0.2688\n",
      "2020-05-28  1416.730000    0.2701   0.2722\n",
      "2020-05-29  1428.920000    0.2629   0.2579\n",
      "\n",
      "[1113 rows x 3 columns]\n"
     ]
    }
   ],
   "source": [
    "### MERGE PRICE WITH OPTION STATS\n",
    "priceOptionStats=data_stockquotes_sel.merge(data_optionStats_sel, left_on='quotedate', right_on='quotedate')\n",
    "priceOptionStats=priceOptionStats.drop(columns=[\"symbol\"])\n",
    "priceOptionStats=priceOptionStats.set_index('quotedate')\n",
    "print(priceOptionStats[[\"close\",\"iv30call\",\"iv30put\"]])"
   ]
  },
  {
   "cell_type": "code",
   "execution_count": 9,
   "metadata": {},
   "outputs": [],
   "source": [
    "###### BUILD AND AUTOSELECT ARIMA MODEL\n",
    "\n",
    "# Split train/test data\n",
    "priceOptionStatsTrain = priceOptionStats[0:(len(priceOptionStats)-kdays)]\n",
    "priceOptionStatsTest = priceOptionStats[(len(priceOptionStats)-kdays):len(priceOptionStats)]\n",
    "#print(priceOptionStatsTrain[])\n",
    "#print(priceOptionStatsTest[0:5])"
   ]
  },
  {
   "cell_type": "code",
   "execution_count": 10,
   "metadata": {},
   "outputs": [
    {
     "name": "stdout",
     "output_type": "stream",
     "text": [
      "Performing stepwise search to minimize aic\n",
      "Fit ARIMA(2,1,2)x(0,0,0,0) [intercept=True]; AIC=9172.589, BIC=9202.509, Time=0.522 seconds\n",
      "Fit ARIMA(0,1,0)x(0,0,0,0) [intercept=True]; AIC=9199.601, BIC=9209.574, Time=0.020 seconds\n",
      "Fit ARIMA(1,1,0)x(0,0,0,0) [intercept=True]; AIC=9170.555, BIC=9185.515, Time=0.045 seconds\n",
      "Fit ARIMA(0,1,1)x(0,0,0,0) [intercept=True]; AIC=9172.672, BIC=9187.632, Time=0.118 seconds\n",
      "Fit ARIMA(0,1,0)x(0,0,0,0) [intercept=False]; AIC=9199.293, BIC=9204.279, Time=0.014 seconds\n",
      "Fit ARIMA(2,1,0)x(0,0,0,0) [intercept=True]; AIC=9172.257, BIC=9192.203, Time=0.115 seconds\n",
      "Fit ARIMA(1,1,1)x(0,0,0,0) [intercept=True]; AIC=9172.366, BIC=9192.312, Time=0.237 seconds\n",
      "Fit ARIMA(2,1,1)x(0,0,0,0) [intercept=True]; AIC=9173.401, BIC=9198.333, Time=0.552 seconds\n",
      "Total fit time: 1.639 seconds\n"
     ]
    }
   ],
   "source": [
    "# Build ARIMA model and finding automatically the best ARIMA model (function called auto_arima)\n",
    "priceCloseTrain=priceOptionStatsTrain[\"close\"]\n",
    "priceCloseTest=priceOptionStatsTest[\"close\"]\n",
    "exogenousVars=[\"close\",\"iv30call\",\"iv30put\",\"iv60call\",\"iv60put\",\"iv90call\",\"iv90put\",\"iv120call\",\"iv120put\",\n",
    "                \"iv150call\",\"iv150put\",\"iv180call\",\"iv180put\",\"iv360call\",\"iv360put\",\"totalvol\",\"totaloi\"]\n",
    "exogenousTrain=priceOptionStatsTrain.drop(columns=exogenousVars)\n",
    "exogenousTest=priceOptionStatsTest.drop(columns=exogenousVars)\n",
    "\n",
    "autoARIMA = auto_arima(priceCloseTrain, seasonal=False, trace=True,\n",
    "                error_action='ignore', suppress_warnings=True, stepwise=True)"
   ]
  },
  {
   "cell_type": "code",
   "execution_count": 22,
   "metadata": {},
   "outputs": [
    {
     "name": "stdout",
     "output_type": "stream",
     "text": [
      "No exo: \tAIC=9171.0\n",
      "Exo iv30mean: \tAIC loss=339.0\n",
      "Exo iv60mean: \tAIC loss=313.0\n",
      "Exo iv90mean: \tAIC loss=276.0\n",
      "Exo iv120mean: \tAIC loss=225.0\n",
      "Exo iv150mean: \tAIC loss=204.0\n",
      "Exo iv180mean: \tAIC loss=224.0\n",
      "Exo iv360mean: \tAIC loss=156.0\n",
      "Exo callvol: \tAIC loss=20.0\n",
      "Exo putvol: \tAIC loss=6.0\n",
      "Exo calloi: \tAIC loss=-1.0\n",
      "Exo putoi: \tAIC loss=-2.0\n"
     ]
    }
   ],
   "source": [
    "# Ranking of exogenous features\n",
    "# The higher the loss the better the feature\n",
    "print(\"No exo: \\tAIC=\"+str(round(autoARIMA.aic())))\n",
    "\n",
    "exogenousVars=exogenousTrain.columns.values\n",
    "for var in exogenousVars:\n",
    "    autoARIMAi = auto_arima(priceCloseTrain, exogenous=pd.DataFrame(exogenousTrain[var]), seasonal=False, trace=False,\n",
    "                error_action='ignore', suppress_warnings=True, stepwise=True)\n",
    "    print(\"Exo \"+var+\": \\tAIC loss=\"+str(round(autoARIMA.aic()-autoARIMAi.aic())))\n",
    "    \n"
   ]
  },
  {
   "cell_type": "code",
   "execution_count": 21,
   "metadata": {},
   "outputs": [
    {
     "name": "stdout",
     "output_type": "stream",
     "text": [
      "['iv30mean' 'iv60mean' 'iv90mean' 'iv120mean' 'iv150mean' 'iv180mean'\n",
      " 'iv360mean' 'callvol' 'putvol' 'calloi' 'putoi']\n"
     ]
    }
   ],
   "source": [
    "print(exogenousVars)"
   ]
  },
  {
   "cell_type": "code",
   "execution_count": 25,
   "metadata": {},
   "outputs": [
    {
     "ename": "KeyError",
     "evalue": "\"None of [Index(['iv30mean'], dtype='object')] are in the [columns]\"",
     "output_type": "error",
     "traceback": [
      "\u001b[0;31m---------------------------------------------------------------------------\u001b[0m",
      "\u001b[0;31mKeyError\u001b[0m                                  Traceback (most recent call last)",
      "\u001b[0;32m<ipython-input-25-5135aadc0898>\u001b[0m in \u001b[0;36m<module>\u001b[0;34m\u001b[0m\n\u001b[1;32m     40\u001b[0m \u001b[0;34m\u001b[0m\u001b[0m\n\u001b[1;32m     41\u001b[0m \u001b[0;31m# Forecast using ARIMA with exogenous variables\u001b[0m\u001b[0;34m\u001b[0m\u001b[0;34m\u001b[0m\u001b[0;34m\u001b[0m\u001b[0m\n\u001b[0;32m---> 42\u001b[0;31m \u001b[0mfuture_forecastexo\u001b[0m \u001b[0;34m=\u001b[0m \u001b[0mautoARIMAexo\u001b[0m\u001b[0;34m.\u001b[0m\u001b[0mpredict\u001b[0m\u001b[0;34m(\u001b[0m\u001b[0mn_periods\u001b[0m\u001b[0;34m=\u001b[0m\u001b[0mkdays\u001b[0m\u001b[0;34m,\u001b[0m \u001b[0mexogenous\u001b[0m\u001b[0;34m=\u001b[0m\u001b[0mpd\u001b[0m\u001b[0;34m.\u001b[0m\u001b[0mDataFrame\u001b[0m\u001b[0;34m(\u001b[0m\u001b[0mfuture_forecast_forexo\u001b[0m\u001b[0;34m[\u001b[0m\u001b[0mexovars\u001b[0m\u001b[0;34m]\u001b[0m\u001b[0;34m)\u001b[0m\u001b[0;34m)\u001b[0m\u001b[0;34m\u001b[0m\u001b[0;34m\u001b[0m\u001b[0m\n\u001b[0m\u001b[1;32m     43\u001b[0m \u001b[0;34m\u001b[0m\u001b[0m\n\u001b[1;32m     44\u001b[0m \u001b[0;31m# Forecast Error\u001b[0m\u001b[0;34m\u001b[0m\u001b[0;34m\u001b[0m\u001b[0;34m\u001b[0m\u001b[0m\n",
      "\u001b[0;32m~/.local/lib/python3.6/site-packages/pandas/core/frame.py\u001b[0m in \u001b[0;36m__getitem__\u001b[0;34m(self, key)\u001b[0m\n\u001b[1;32m   2804\u001b[0m             \u001b[0;32mif\u001b[0m \u001b[0mis_iterator\u001b[0m\u001b[0;34m(\u001b[0m\u001b[0mkey\u001b[0m\u001b[0;34m)\u001b[0m\u001b[0;34m:\u001b[0m\u001b[0;34m\u001b[0m\u001b[0;34m\u001b[0m\u001b[0m\n\u001b[1;32m   2805\u001b[0m                 \u001b[0mkey\u001b[0m \u001b[0;34m=\u001b[0m \u001b[0mlist\u001b[0m\u001b[0;34m(\u001b[0m\u001b[0mkey\u001b[0m\u001b[0;34m)\u001b[0m\u001b[0;34m\u001b[0m\u001b[0;34m\u001b[0m\u001b[0m\n\u001b[0;32m-> 2806\u001b[0;31m             \u001b[0mindexer\u001b[0m \u001b[0;34m=\u001b[0m \u001b[0mself\u001b[0m\u001b[0;34m.\u001b[0m\u001b[0mloc\u001b[0m\u001b[0;34m.\u001b[0m\u001b[0m_get_listlike_indexer\u001b[0m\u001b[0;34m(\u001b[0m\u001b[0mkey\u001b[0m\u001b[0;34m,\u001b[0m \u001b[0maxis\u001b[0m\u001b[0;34m=\u001b[0m\u001b[0;36m1\u001b[0m\u001b[0;34m,\u001b[0m \u001b[0mraise_missing\u001b[0m\u001b[0;34m=\u001b[0m\u001b[0;32mTrue\u001b[0m\u001b[0;34m)\u001b[0m\u001b[0;34m[\u001b[0m\u001b[0;36m1\u001b[0m\u001b[0;34m]\u001b[0m\u001b[0;34m\u001b[0m\u001b[0;34m\u001b[0m\u001b[0m\n\u001b[0m\u001b[1;32m   2807\u001b[0m \u001b[0;34m\u001b[0m\u001b[0m\n\u001b[1;32m   2808\u001b[0m         \u001b[0;31m# take() does not accept boolean indexers\u001b[0m\u001b[0;34m\u001b[0m\u001b[0;34m\u001b[0m\u001b[0;34m\u001b[0m\u001b[0m\n",
      "\u001b[0;32m~/.local/lib/python3.6/site-packages/pandas/core/indexing.py\u001b[0m in \u001b[0;36m_get_listlike_indexer\u001b[0;34m(self, key, axis, raise_missing)\u001b[0m\n\u001b[1;32m   1551\u001b[0m \u001b[0;34m\u001b[0m\u001b[0m\n\u001b[1;32m   1552\u001b[0m         self._validate_read_indexer(\n\u001b[0;32m-> 1553\u001b[0;31m             \u001b[0mkeyarr\u001b[0m\u001b[0;34m,\u001b[0m \u001b[0mindexer\u001b[0m\u001b[0;34m,\u001b[0m \u001b[0mo\u001b[0m\u001b[0;34m.\u001b[0m\u001b[0m_get_axis_number\u001b[0m\u001b[0;34m(\u001b[0m\u001b[0maxis\u001b[0m\u001b[0;34m)\u001b[0m\u001b[0;34m,\u001b[0m \u001b[0mraise_missing\u001b[0m\u001b[0;34m=\u001b[0m\u001b[0mraise_missing\u001b[0m\u001b[0;34m\u001b[0m\u001b[0;34m\u001b[0m\u001b[0m\n\u001b[0m\u001b[1;32m   1554\u001b[0m         )\n\u001b[1;32m   1555\u001b[0m         \u001b[0;32mreturn\u001b[0m \u001b[0mkeyarr\u001b[0m\u001b[0;34m,\u001b[0m \u001b[0mindexer\u001b[0m\u001b[0;34m\u001b[0m\u001b[0;34m\u001b[0m\u001b[0m\n",
      "\u001b[0;32m~/.local/lib/python3.6/site-packages/pandas/core/indexing.py\u001b[0m in \u001b[0;36m_validate_read_indexer\u001b[0;34m(self, key, indexer, axis, raise_missing)\u001b[0m\n\u001b[1;32m   1638\u001b[0m             \u001b[0;32mif\u001b[0m \u001b[0mmissing\u001b[0m \u001b[0;34m==\u001b[0m \u001b[0mlen\u001b[0m\u001b[0;34m(\u001b[0m\u001b[0mindexer\u001b[0m\u001b[0;34m)\u001b[0m\u001b[0;34m:\u001b[0m\u001b[0;34m\u001b[0m\u001b[0;34m\u001b[0m\u001b[0m\n\u001b[1;32m   1639\u001b[0m                 \u001b[0maxis_name\u001b[0m \u001b[0;34m=\u001b[0m \u001b[0mself\u001b[0m\u001b[0;34m.\u001b[0m\u001b[0mobj\u001b[0m\u001b[0;34m.\u001b[0m\u001b[0m_get_axis_name\u001b[0m\u001b[0;34m(\u001b[0m\u001b[0maxis\u001b[0m\u001b[0;34m)\u001b[0m\u001b[0;34m\u001b[0m\u001b[0;34m\u001b[0m\u001b[0m\n\u001b[0;32m-> 1640\u001b[0;31m                 \u001b[0;32mraise\u001b[0m \u001b[0mKeyError\u001b[0m\u001b[0;34m(\u001b[0m\u001b[0;34mf\"None of [{key}] are in the [{axis_name}]\"\u001b[0m\u001b[0;34m)\u001b[0m\u001b[0;34m\u001b[0m\u001b[0;34m\u001b[0m\u001b[0m\n\u001b[0m\u001b[1;32m   1641\u001b[0m \u001b[0;34m\u001b[0m\u001b[0m\n\u001b[1;32m   1642\u001b[0m             \u001b[0;31m# We (temporarily) allow for some missing keys with .loc, except in\u001b[0m\u001b[0;34m\u001b[0m\u001b[0;34m\u001b[0m\u001b[0;34m\u001b[0m\u001b[0m\n",
      "\u001b[0;31mKeyError\u001b[0m: \"None of [Index(['iv30mean'], dtype='object')] are in the [columns]\""
     ]
    }
   ],
   "source": [
    "###### FORECAST AVERAGE PRICE USING ARIMA MODEL\n",
    "\n",
    "# Exo varsiv150mean\n",
    "exovars=[\"iv30mean\",\"iv60mean\",\"iv90mean\",\"iv120mean\",\"iv150mean\",\"callvol\",\"putvol\"]\n",
    "exovars=[\"iv30mean\",\"iv60mean\",\"iv90mean\",\"iv120mean\",\"iv150mean\",\"iv180mean\"]\n",
    "exovars=[\"iv30mean\"]\n",
    "\n",
    "# \"iv30mean\",\"iv60mean\",\"iv90mean\",\"iv120mean\",\"iv150mean\"\n",
    "#Test RMSE: 90.789  \n",
    "#Test RMSE: 87.117 \n",
    "\n",
    "# \"iv30mean\",\"iv60mean\",\"iv90mean\",\"iv120mean\",\"iv150mean\" \"iv180mean\"\n",
    "#Test RMSE: 90.789\n",
    "#Test RMSE: 87.729\n",
    "\n",
    "# \"iv30mean\",\"iv60mean\",\"iv90mean\"\n",
    "#Test RMSE: 90.789\n",
    "#Test RMSE: 86.495\n",
    "\n",
    "# \"iv30mean\",\"iv60mean\"\n",
    "#Test RMSE: 90.789\n",
    "#Test RMSE: 91.499\n",
    "\n",
    "\n",
    "# ARIMA with exogenous variables\n",
    "autoARIMAexo = auto_arima(priceCloseTrain, exogenous=pd.DataFrame(exogenousTrain[exovars]), seasonal=False, trace=False,\n",
    "                error_action='ignore', suppress_warnings=True, stepwise=True)\n",
    "\n",
    "# Forecast no exo\n",
    "future_forecast = autoARIMA.predict(n_periods=kdays)\n",
    "\n",
    "# Forecast for all exogenous variables with ARIMA\n",
    "future_forecast_forexo=pd.DataFrame()\n",
    "for var in exogenousVars:\n",
    "    autoARIMAforexoi = auto_arima(exogenousTrain[var], seasonal=False, trace=False,\n",
    "                error_action='ignore', suppress_warnings=True, stepwise=True)\n",
    "    future_forecast_forexoi=pd.DataFrame(autoARIMAforexoi.predict(n_periods=kdays))\n",
    "    future_forecast_forexo=pd.concat([future_forecast_forexo, future_forecast_forexoi], axis=1)\n",
    "future_forecast_forexo.columns=exogenousVars\n",
    "    \n",
    "# Forecast using ARIMA with exogenous variables\n",
    "future_forecastexo = autoARIMAexo.predict(n_periods=kdays, exogenous=pd.DataFrame(future_forecast_forexo[exovars]))\n",
    "\n",
    "\n",
    "# Forecast Error\n",
    "print(\"Test RMSE: %.3f\" % np.sqrt(mt.mean_squared_error(priceCloseTest, future_forecast)))\n",
    "print(\"Test RMSE: %.3f\" % np.sqrt(mt.mean_squared_error(priceCloseTest, future_forecastexo)))"
   ]
  },
  {
   "cell_type": "code",
   "execution_count": 47,
   "metadata": {},
   "outputs": [
    {
     "ename": "TypeError",
     "evalue": "Required argument 'shape' (pos 1) not found",
     "output_type": "error",
     "traceback": [
      "\u001b[0;31m---------------------------------------------------------------------------\u001b[0m",
      "\u001b[0;31mTypeError\u001b[0m                                 Traceback (most recent call last)",
      "\u001b[0;32m<ipython-input-47-afc38fb8ceef>\u001b[0m in \u001b[0;36m<module>\u001b[0;34m\u001b[0m\n\u001b[1;32m      1\u001b[0m \u001b[0;31m#lossDiff=0\u001b[0m\u001b[0;34m\u001b[0m\u001b[0;34m\u001b[0m\u001b[0;34m\u001b[0m\u001b[0m\n\u001b[0;32m----> 2\u001b[0;31m \u001b[0mcurrentExogenousVars\u001b[0m\u001b[0;34m=\u001b[0m\u001b[0mnp\u001b[0m\u001b[0;34m.\u001b[0m\u001b[0mempty\u001b[0m\u001b[0;34m(\u001b[0m\u001b[0;34m)\u001b[0m\u001b[0;34m\u001b[0m\u001b[0;34m\u001b[0m\u001b[0m\n\u001b[0m\u001b[1;32m      3\u001b[0m \u001b[0;31m#while lossDiff>0.001:\u001b[0m\u001b[0;34m\u001b[0m\u001b[0;34m\u001b[0m\u001b[0;34m\u001b[0m\u001b[0m\n\u001b[1;32m      4\u001b[0m \u001b[0mprint\u001b[0m\u001b[0;34m(\u001b[0m\u001b[0mtype\u001b[0m\u001b[0;34m(\u001b[0m\u001b[0mcurrentExogenousVars\u001b[0m\u001b[0;34m)\u001b[0m\u001b[0;34m)\u001b[0m\u001b[0;34m\u001b[0m\u001b[0;34m\u001b[0m\u001b[0m\n\u001b[1;32m      5\u001b[0m \u001b[0mprint\u001b[0m\u001b[0;34m(\u001b[0m\u001b[0mtype\u001b[0m\u001b[0;34m(\u001b[0m\u001b[0mnp\u001b[0m\u001b[0;34m.\u001b[0m\u001b[0mrandom\u001b[0m\u001b[0;34m.\u001b[0m\u001b[0mchoice\u001b[0m\u001b[0;34m(\u001b[0m\u001b[0mexogenousVars\u001b[0m\u001b[0;34m,\u001b[0m\u001b[0;36m1\u001b[0m\u001b[0;34m)\u001b[0m\u001b[0;34m)\u001b[0m\u001b[0;34m)\u001b[0m\u001b[0;34m\u001b[0m\u001b[0;34m\u001b[0m\u001b[0m\n",
      "\u001b[0;31mTypeError\u001b[0m: Required argument 'shape' (pos 1) not found"
     ]
    }
   ],
   "source": [
    "#lossDiff=0\n",
    "currentExogenousVars=np.empty()\n",
    "#while lossDiff>0.001:\n",
    "print(type(currentExogenousVars))\n",
    "print(type(np.random.choice(exogenousVars,1)))\n",
    "currentExogenousVars=np.concatenate(currentExogenousVars,np.random.choice(exogenousVars,1))\n",
    "autoARIMAexok = auto_arima(priceCloseTrain, exogenous=pd.DataFrame(exogenousTrain[currentExogenousVars]), seasonal=False, trace=False,\n",
    "                error_action='ignore', suppress_warnings=True, stepwise=True)\n",
    "future_forecastexok = autoARIMAexo.predict(n_periods=kdays, exogenous=pd.DataFrame(future_forecast_forexo[exovars]))\n",
    "np.sqrt(mt.mean_squared_error(priceCloseTest, future_forecastexo))\n"
   ]
  },
  {
   "cell_type": "code",
   "execution_count": 28,
   "metadata": {},
   "outputs": [
    {
     "name": "stdout",
     "output_type": "stream",
     "text": [
      "Test RMSE: 90.789\n",
      "Test RMSE: 111.152\n"
     ]
    },
    {
     "name": "stderr",
     "output_type": "stream",
     "text": [
      "/home/mourad/.local/lib/python3.6/site-packages/statsmodels/tsa/base/tsa_model.py:583: ValueWarning: No supported index is available. Prediction results will be given with an integer index beginning at `start`.\n",
      "  ValueWarning)\n"
     ]
    }
   ],
   "source": [
    "#\n",
    "exogenousTrainVar=exogenousTrain[exovars]\n",
    "exogenousTrainVarLastK=exogenousTrainVar[(len(exogenousTrainVar)-kdays):len(exogenousTrainVar)]\n",
    "#print(exogenousTrainVarLastK)\n",
    "future_forecastexo = autoARIMAexo.predict(n_periods=kdays, exogenous=pd.DataFrame(exogenousTrainVarLastK))\n",
    "\n",
    "# Forecast Error\n",
    "print(\"Test RMSE: %.3f\" % np.sqrt(mt.mean_squared_error(priceCloseTest, future_forecast)))\n",
    "print(\"Test RMSE: %.3f\" % np.sqrt(mt.mean_squared_error(priceCloseTest, future_forecastexo)))\n"
   ]
  },
  {
   "cell_type": "code",
   "execution_count": null,
   "metadata": {},
   "outputs": [],
   "source": []
  },
  {
   "cell_type": "code",
   "execution_count": null,
   "metadata": {},
   "outputs": [],
   "source": []
  },
  {
   "cell_type": "code",
   "execution_count": null,
   "metadata": {},
   "outputs": [],
   "source": []
  }
 ],
 "metadata": {
  "kernelspec": {
   "display_name": "Python 3",
   "language": "python",
   "name": "python3"
  },
  "language_info": {
   "codemirror_mode": {
    "name": "ipython",
    "version": 3
   },
   "file_extension": ".py",
   "mimetype": "text/x-python",
   "name": "python",
   "nbconvert_exporter": "python",
   "pygments_lexer": "ipython3",
   "version": "3.6.9"
  }
 },
 "nbformat": 4,
 "nbformat_minor": 2
}
