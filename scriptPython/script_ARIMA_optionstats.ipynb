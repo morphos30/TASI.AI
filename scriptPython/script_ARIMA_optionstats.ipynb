{
 "cells": [
  {
   "cell_type": "code",
   "execution_count": 1,
   "metadata": {},
   "outputs": [
    {
     "name": "stderr",
     "output_type": "stream",
     "text": [
      "/home/mourad/.local/lib/python3.6/site-packages/pandas_datareader/compat/__init__.py:7: FutureWarning: pandas.util.testing is deprecated. Use the functions in the public API at pandas.testing instead.\n",
      "  from pandas.util.testing import assert_frame_equal\n"
     ]
    }
   ],
   "source": [
    "# 16/06/2020\n",
    "# TASI.AI\n",
    "# Raphael Mourad\n",
    "\n",
    "# ARIMA + Exogenous variables = ARIMAX\n",
    "# ARIMAX is an ARIMA model but in which you can include additional features \n",
    "# such as option features to better predict the price.\n",
    "\n",
    "# https://www.statsmodels.org/dev/examples/notebooks/generated/statespace_sarimax_stata.html\n",
    "\n",
    "###### IMPORT LIBRARIES AND SET UP PARAMETERS\n",
    "\n",
    "# Import libraries\n",
    "import os\n",
    "import pandas as pd\n",
    "import numpy as np\n",
    "import sklearn.metrics as mt\n",
    "import random\n",
    "from pandas_datareader import DataReader\n",
    "from datetime import datetime\n",
    "from matplotlib import pyplot\n",
    "from statsmodels.graphics.tsaplots import plot_acf, plot_pacf\n",
    "from statsmodels.stats.diagnostic import acorr_ljungbox\n",
    "from statsmodels.tsa.arima_model import ARIMA\n",
    "from pmdarima import auto_arima\n",
    "from scipy.stats import norm"
   ]
  },
  {
   "cell_type": "code",
   "execution_count": 2,
   "metadata": {},
   "outputs": [
    {
     "name": "stdout",
     "output_type": "stream",
     "text": [
      "/media/mourad/diskSave/MCF_Toulouse/recherche/ConsulProj/RamCiri\n"
     ]
    }
   ],
   "source": [
    "# Set up directory\n",
    "dir=\"/media/mourad/diskSave/MCF_Toulouse/recherche/ConsulProj/RamCiri\"\n",
    "os.chdir(dir)\n",
    "print(os.getcwd())"
   ]
  },
  {
   "cell_type": "code",
   "execution_count": 3,
   "metadata": {},
   "outputs": [],
   "source": [
    "# Parameters\n",
    "symbol=\"GOOG\" # Set up the symbol you want\n",
    "kdays=30 # Number of days for forecasting"
   ]
  },
  {
   "cell_type": "code",
   "execution_count": 4,
   "metadata": {},
   "outputs": [],
   "source": [
    "# Create folder for symbol\n",
    "symbolFolder=\"results/ARIMA/\"+symbol\n",
    "if(os.path.isdir(symbolFolder)==False):\n",
    "    os.mkdir(symbolFolder, mode=0o777)"
   ]
  },
  {
   "cell_type": "code",
   "execution_count": 5,
   "metadata": {},
   "outputs": [
    {
     "name": "stdout",
     "output_type": "stream",
     "text": [
      "['AAPL' 'AMZN' 'AXP' 'BA' 'CAT' 'DIS' 'GOOG' 'GS' 'HD' 'IBM' 'JNJ' 'JPM'\n",
      " 'KO' 'MCD' 'MRK' 'MSFT' 'NFLX' 'NKE' 'PFE' 'PG' 'XOM']\n",
      "      symbol  quotedate        close\n",
      "23481   GOOG 2015-05-01   537.900024\n",
      "23882   GOOG 2015-05-04   540.780029\n",
      "23974   GOOG 2015-05-05   530.799988\n",
      "23598   GOOG 2015-05-06   524.219971\n",
      "23944   GOOG 2015-05-07   530.700012\n",
      "...      ...        ...          ...\n",
      "23695   GOOG 2020-05-22  1410.420000\n",
      "23267   GOOG 2020-05-26  1417.020000\n",
      "23804   GOOG 2020-05-27  1417.840000\n",
      "23742   GOOG 2020-05-28  1416.730000\n",
      "23412   GOOG 2020-05-29  1428.920000\n",
      "\n",
      "[1278 rows x 3 columns]\n",
      "Missing data= 0\n"
     ]
    }
   ],
   "source": [
    "###### LOAD AND PREPROCESS DATA\n",
    "\n",
    "### STOCK PRICE\n",
    "# Import price\n",
    "path=\"data/stockquotes/samples_L3_stockquotes_sample.csv.gz\"\n",
    "data_stockquotes = pd.read_csv(path, compression='gzip', header=0, sep=',', quotechar='\"', error_bad_lines=False)\n",
    "data_stockquotes[\"quotedate\"] = pd.to_datetime(data_stockquotes[\"quotedate\"])\n",
    "#print(data_stockquotes)\n",
    "print(np.unique(data_stockquotes[\"symbol\"]))\n",
    "\n",
    "# Choose the stock\n",
    "data_stockquotes_sel=data_stockquotes[data_stockquotes[\"symbol\"]==symbol]\n",
    "data_stockquotes_sel=data_stockquotes_sel.sort_values('quotedate')\n",
    "data_stockquotes_sel=data_stockquotes_sel[[\"symbol\",\"quotedate\",\"close\"]]\n",
    "#data_stockquotes_sel=data_stockquotes_sel.set_index('quotedate')\n",
    "print(data_stockquotes_sel)\n",
    "\n",
    "# Check the absence of missing data \n",
    "NAcount=data_stockquotes.isnull().sum().sum()\n",
    "print(\"Missing data=\",NAcount)"
   ]
  },
  {
   "cell_type": "code",
   "execution_count": 6,
   "metadata": {},
   "outputs": [
    {
     "name": "stdout",
     "output_type": "stream",
     "text": [
      "       iv30call  iv30put\n",
      "202      0.2106   0.2012\n",
      "34324    0.2089   0.1835\n",
      "11227    0.2205   0.1993\n",
      "25867    0.2121   0.2186\n",
      "17833    0.2114   0.1986\n",
      "...         ...      ...\n",
      "21701    0.2622   0.2626\n",
      "46776    0.2629   0.2587\n",
      "29196    0.2646   0.2688\n",
      "7300     0.2701   0.2722\n",
      "10736    0.2629   0.2579\n",
      "\n",
      "[1114 rows x 2 columns]\n"
     ]
    }
   ],
   "source": [
    "### STOCK OPTION STATISTICS\n",
    "# Import optionstats\n",
    "pathOptionStats=\"data/optionstats/samples_L3_optionstats_sample.csv.gz\"\n",
    "data_optionStats = pd.read_csv(pathOptionStats, compression='gzip', header=0, sep=',', quotechar='\"', error_bad_lines=False)\n",
    "data_optionStats[\"quotedate\"] = pd.to_datetime(data_optionStats[\"quotedate\"])\n",
    "\n",
    "# Choose the stock\n",
    "data_optionStats_sel=data_optionStats[data_optionStats[\"symbol\"]==symbol]\n",
    "data_optionStats_sel=data_optionStats_sel.sort_values([\"quotedate\"])\n",
    "#data_optionStats_sel=data_optionStats_sel.set_index('quotedate')\n",
    "data_optionStats_sel=pd.DataFrame.drop_duplicates(data_optionStats_sel)\n",
    "data_optionStats_sel=data_optionStats_sel.drop(columns=[\"symbol\"])\n",
    "print(data_optionStats_sel[[\"iv30call\",\"iv30put\"]])\n",
    "#print(data_optionStats_sel)"
   ]
  },
  {
   "cell_type": "code",
   "execution_count": 7,
   "metadata": {},
   "outputs": [
    {
     "name": "stdout",
     "output_type": "stream",
     "text": [
      "                  close  iv30call  iv30put\n",
      "quotedate                                 \n",
      "2015-05-01   537.900024    0.2106   0.2012\n",
      "2015-05-04   540.780029    0.2089   0.1835\n",
      "2015-05-05   530.799988    0.2205   0.1993\n",
      "2015-05-06   524.219971    0.2121   0.2186\n",
      "2015-05-07   530.700012    0.2114   0.1986\n",
      "...                 ...       ...      ...\n",
      "2020-05-22  1410.420000    0.2622   0.2626\n",
      "2020-05-26  1417.020000    0.2629   0.2587\n",
      "2020-05-27  1417.840000    0.2646   0.2688\n",
      "2020-05-28  1416.730000    0.2701   0.2722\n",
      "2020-05-29  1428.920000    0.2629   0.2579\n",
      "\n",
      "[1113 rows x 3 columns]\n"
     ]
    }
   ],
   "source": [
    "### MERGE PRICE WITH OPTION STATS\n",
    "priceOptionStats=data_stockquotes_sel.merge(data_optionStats_sel, left_on='quotedate', right_on='quotedate')\n",
    "priceOptionStats=priceOptionStats.drop(columns=[\"symbol\"])\n",
    "priceOptionStats=priceOptionStats.set_index('quotedate')\n",
    "print(priceOptionStats[[\"close\",\"iv30call\",\"iv30put\"]])\n",
    "#print(priceOptionStats)"
   ]
  },
  {
   "cell_type": "code",
   "execution_count": 32,
   "metadata": {},
   "outputs": [],
   "source": [
    "###### BUILD AND AUTOSELECT ARIMA MODEL\n",
    "\n",
    "# Split train/test data\n",
    "priceOptionStatsTrain = priceOptionStats[0:(len(priceOptionStats)-kdays)]\n",
    "priceOptionStatsTest = priceOptionStats[(len(priceOptionStats)-kdays):len(priceOptionStats)]\n",
    "\n",
    "priceCloseTrain=priceOptionStatsTrain[\"close\"]\n",
    "priceCloseTest=priceOptionStatsTest[\"close\"]\n",
    "\n",
    "exogenousTrain=priceOptionStatsTrain.drop(columns=\"close\")\n",
    "exogenousTest=priceOptionStatsTest.drop(columns=\"close\")\n",
    "#print(priceOptionStatsTrain)\n",
    "#print(priceOptionStatsTest[0:5])"
   ]
  },
  {
   "cell_type": "code",
   "execution_count": 23,
   "metadata": {},
   "outputs": [
    {
     "name": "stdout",
     "output_type": "stream",
     "text": [
      "Performing stepwise search to minimize aic\n",
      "Fit ARIMA(2,1,2)x(0,0,0,0) [intercept=True]; AIC=9172.589, BIC=9202.509, Time=0.545 seconds\n",
      "Fit ARIMA(0,1,0)x(0,0,0,0) [intercept=True]; AIC=9199.601, BIC=9209.574, Time=0.018 seconds\n",
      "Fit ARIMA(1,1,0)x(0,0,0,0) [intercept=True]; AIC=9170.555, BIC=9185.515, Time=0.044 seconds\n",
      "Fit ARIMA(0,1,1)x(0,0,0,0) [intercept=True]; AIC=9172.672, BIC=9187.632, Time=0.116 seconds\n",
      "Fit ARIMA(0,1,0)x(0,0,0,0) [intercept=False]; AIC=9199.293, BIC=9204.279, Time=0.013 seconds\n",
      "Fit ARIMA(2,1,0)x(0,0,0,0) [intercept=True]; AIC=9172.257, BIC=9192.203, Time=0.116 seconds\n",
      "Fit ARIMA(1,1,1)x(0,0,0,0) [intercept=True]; AIC=9172.366, BIC=9192.312, Time=0.245 seconds\n",
      "Fit ARIMA(2,1,1)x(0,0,0,0) [intercept=True]; AIC=9173.401, BIC=9198.333, Time=0.590 seconds\n",
      "Total fit time: 1.700 seconds\n",
      "(1, 1, 0)\n"
     ]
    }
   ],
   "source": [
    "# Build ARIMA model and finding automatically the best ARIMA model (function called auto_arima)\n",
    "autoARIMA = auto_arima(priceCloseTrain, seasonal=False, trace=True,\n",
    "                error_action='ignore', suppress_warnings=True, stepwise=True)\n",
    "ARIMAbestparams=autoARIMA.order\n",
    "print(ARIMAbestparams)"
   ]
  },
  {
   "cell_type": "code",
   "execution_count": 50,
   "metadata": {},
   "outputs": [
    {
     "name": "stdout",
     "output_type": "stream",
     "text": [
      "No exo: \tAIC=9171.0\n",
      "iv30call: \tAIC=8869.0\tdiffAIC= 301.0\n",
      "iv30put: \tAIC=8905.0\tdiffAIC= 266.0\n",
      "iv30mean: \tAIC=8871.0\tdiffAIC= 300.0\n",
      "iv60call: \tAIC=8875.0\tdiffAIC= 296.0\n",
      "iv60put: \tAIC=8910.0\tdiffAIC= 261.0\n",
      "iv60mean: \tAIC=8873.0\tdiffAIC= 298.0\n",
      "iv90call: \tAIC=8954.0\tdiffAIC= 216.0\n",
      "iv90put: \tAIC=9002.0\tdiffAIC= 169.0\n",
      "iv90mean: \tAIC=8958.0\tdiffAIC= 212.0\n",
      "iv120call: \tAIC=8967.0\tdiffAIC= 203.0\n",
      "iv120put: \tAIC=8998.0\tdiffAIC= 172.0\n",
      "iv120mean: \tAIC=8975.0\tdiffAIC= 196.0\n",
      "iv150call: \tAIC=8987.0\tdiffAIC= 184.0\n",
      "iv150put: \tAIC=9008.0\tdiffAIC= 162.0\n",
      "iv150mean: \tAIC=8993.0\tdiffAIC= 178.0\n",
      "iv180call: \tAIC=9015.0\tdiffAIC= 156.0\n",
      "iv180put: \tAIC=9039.0\tdiffAIC= 132.0\n",
      "iv180mean: \tAIC=9022.0\tdiffAIC= 149.0\n",
      "iv360call: \tAIC=9102.0\tdiffAIC= 68.0\n",
      "iv360put: \tAIC=9103.0\tdiffAIC= 68.0\n",
      "iv360mean: \tAIC=9100.0\tdiffAIC= 71.0\n",
      "callvol: \tAIC=9150.0\tdiffAIC= 20.0\n",
      "putvol: \tAIC=9164.0\tdiffAIC= 6.0\n",
      "totalvol: \tAIC=9155.0\tdiffAIC= 15.0\n",
      "calloi: \tAIC=9172.0\tdiffAIC= -1.0\n",
      "putoi: \tAIC=9173.0\tdiffAIC= -2.0\n",
      "totaloi: \tAIC=9172.0\tdiffAIC= -2.0\n"
     ]
    }
   ],
   "source": [
    "# Ranking of exogenous features one by one using AIC\n",
    "# The higher the loss the better the feature\n",
    "print(\"No exo: \\tAIC=\"+str(round(autoARIMA.aic())))\n",
    "\n",
    "exogenousVars=exogenousTrain.columns.values\n",
    "for var in exogenousVars:\n",
    "    ARIMAi=auto_arima(priceCloseTrain, exogenous=pd.DataFrame(exogenousTrain[var]), seasonal=False, trace=False,\n",
    "            error_action='ignore', suppress_warnings=True, stepwise=True,\n",
    "            start_p=ARIMAbestparams[0], d=ARIMAbestparams[1], start_q=ARIMAbestparams[2], \n",
    "            max_p=ARIMAbestparams[0], max_d=ARIMAbestparams[1], max_q=ARIMAbestparams[2])\n",
    "    print(var+\": \\tAIC=\"+str(round(ARIMAi.aic()))+\"\\tdiffAIC=\",str(round(autoARIMA.aic()-ARIMAi.aic())))"
   ]
  },
  {
   "cell_type": "code",
   "execution_count": 53,
   "metadata": {},
   "outputs": [
    {
     "name": "stdout",
     "output_type": "stream",
     "text": [
      "Exo ['iv30call']: \tAIC=8869.0\tdiffAIC=301.0\n",
      "Exo ['iv30call', 'iv60call']: \tAIC=8856.0\tdiffAIC=315.0\n",
      "Exo ['iv30call', 'iv60call', 'iv90call']: \tAIC=8857.0\tdiffAIC=314.0\n",
      "Exo ['iv30call', 'iv60call', 'iv90call', 'iv120call']: \tAIC=8851.0\tdiffAIC=319.0\n",
      "Exo ['iv30call', 'iv60call', 'iv90call', 'iv120call', 'iv150call']: \tAIC=8851.0\tdiffAIC=319.0\n",
      "Exo ['iv30call', 'iv60call', 'iv90call', 'iv120call', 'iv150call', 'callvol']: \tAIC=8834.0\tdiffAIC=337.0\n",
      "Exo ['iv30call', 'iv60call', 'iv90call', 'iv120call', 'iv150call', 'callvol', 'putvol']: \tAIC=8834.0\tdiffAIC=337.0\n"
     ]
    }
   ],
   "source": [
    "###### Assess combination of exogenous variables\n",
    "\n",
    "# List of best exogenous variable candidates\n",
    "exoVarSelected=[\"iv30call\",\"iv60call\",\"iv90call\",\"iv120call\",\"iv150call\",\"callvol\",\"putvol\"]\n",
    "\n",
    "# ARIMA with exogenous variables\n",
    "ARIMAexolist=list()\n",
    "for k in range(0, len(exoVarSelected)):\n",
    "    ARIMAexoi=auto_arima(priceCloseTrain, exogenous=pd.DataFrame(exogenousTrain[exoVarSelected[0:(k+1)]]), seasonal=False, trace=False,\n",
    "            error_action='ignore', suppress_warnings=True, stepwise=True,\n",
    "            start_p=ARIMAbestparams[0], d=ARIMAbestparams[1], start_q=ARIMAbestparams[2], \n",
    "            max_p=ARIMAbestparams[0], max_d=ARIMAbestparams[1], max_q=ARIMAbestparams[2])\n",
    "    ARIMAexolist.append(ARIMAexoi)\n",
    "    print(\"Exo \"+str(exoVarSelected[0:(k+1)])+\": \\tAIC=\"+str(round(ARIMAexoi.aic()))+\"\\tdiffAIC=\"+str(round(autoARIMA.aic()-ARIMAexoi.aic())))\n"
   ]
  },
  {
   "cell_type": "code",
   "execution_count": 57,
   "metadata": {},
   "outputs": [
    {
     "name": "stdout",
     "output_type": "stream",
     "text": [
      "iv30call\n",
      "iv60call\n",
      "iv90call\n",
      "iv120call\n",
      "iv150call\n",
      "callvol\n",
      "putvol\n"
     ]
    }
   ],
   "source": [
    "###### FORECAST AVERAGE PRICE USING ARIMA MODEL\n",
    "\n",
    "# Forecast with no exogenous variable (for comparison)\n",
    "future_forecast_noexo = autoARIMA.predict(n_periods=kdays)\n",
    "\n",
    "# Forecast for all exogenous variables with ARIMA \n",
    "# A ARIMA model is built to predict each exogenous variable.\n",
    "future_forecast_forexo=pd.DataFrame()\n",
    "for var in exoVarSelected:\n",
    "    autoARIMAforexoi = auto_arima(exogenousTrain[var], seasonal=False, trace=False,\n",
    "                error_action='ignore', suppress_warnings=True, stepwise=True)\n",
    "    future_forecast_forexoi=pd.DataFrame(autoARIMAforexoi.predict(n_periods=kdays))\n",
    "    future_forecast_forexo=pd.concat([future_forecast_forexo, future_forecast_forexoi], axis=1)\n",
    "future_forecast_forexo.columns=exoVarSelected\n",
    "\n"
   ]
  },
  {
   "cell_type": "code",
   "execution_count": 101,
   "metadata": {},
   "outputs": [
    {
     "name": "stdout",
     "output_type": "stream",
     "text": [
      "['iv30call']\n",
      "['iv30call', 'iv60call']\n",
      "['iv30call', 'iv60call', 'iv90call']\n",
      "['iv30call', 'iv60call', 'iv90call', 'iv120call']\n",
      "['iv30call', 'iv60call', 'iv90call', 'iv120call', 'iv150call']\n",
      "['iv30call', 'iv60call', 'iv90call', 'iv120call', 'iv150call', 'callvol']\n",
      "['iv30call', 'iv60call', 'iv90call', 'iv120call', 'iv150call', 'callvol', 'putvol']\n"
     ]
    },
    {
     "name": "stderr",
     "output_type": "stream",
     "text": [
      "/home/mourad/.local/lib/python3.6/site-packages/statsmodels/tsa/base/tsa_model.py:583: ValueWarning: No supported index is available. Prediction results will be given with an integer index beginning at `start`.\n",
      "  ValueWarning)\n",
      "/home/mourad/.local/lib/python3.6/site-packages/statsmodels/tsa/base/tsa_model.py:583: ValueWarning: No supported index is available. Prediction results will be given with an integer index beginning at `start`.\n",
      "  ValueWarning)\n",
      "/home/mourad/.local/lib/python3.6/site-packages/statsmodels/tsa/base/tsa_model.py:583: ValueWarning: No supported index is available. Prediction results will be given with an integer index beginning at `start`.\n",
      "  ValueWarning)\n",
      "/home/mourad/.local/lib/python3.6/site-packages/statsmodels/tsa/base/tsa_model.py:583: ValueWarning: No supported index is available. Prediction results will be given with an integer index beginning at `start`.\n",
      "  ValueWarning)\n",
      "/home/mourad/.local/lib/python3.6/site-packages/statsmodels/tsa/base/tsa_model.py:583: ValueWarning: No supported index is available. Prediction results will be given with an integer index beginning at `start`.\n",
      "  ValueWarning)\n",
      "/home/mourad/.local/lib/python3.6/site-packages/statsmodels/tsa/base/tsa_model.py:583: ValueWarning: No supported index is available. Prediction results will be given with an integer index beginning at `start`.\n",
      "  ValueWarning)\n",
      "/home/mourad/.local/lib/python3.6/site-packages/statsmodels/tsa/base/tsa_model.py:583: ValueWarning: No supported index is available. Prediction results will be given with an integer index beginning at `start`.\n",
      "  ValueWarning)\n"
     ]
    }
   ],
   "source": [
    "# Forecast using ARIMA with exogenous variables\n",
    "RMSEnoexo=np.sqrt(mt.mean_squared_error(priceCloseTest, future_forecast_noexo))\n",
    "MAEnoexo=mt.mean_absolute_error(priceCloseTest, future_forecast_noexo)\n",
    "\n",
    "RMSElist=[None] * len(exoVarSelected)\n",
    "MAElist=[None] * len(exoVarSelected)\n",
    "ExoVarList=[None] * len(exoVarSelected)\n",
    "future_forecast_exo_List=[None] * len(exoVarSelected)\n",
    "conf_int_exo_List=[None] * len(exoVarSelected)\n",
    "for k in range(0, len(exoVarSelected)):\n",
    "    future_forecast_exoi, conf_int_exoi = ARIMAexolist[k].predict(n_periods=kdays, return_conf_int=True,alpha=0.05,\n",
    "                                exogenous=pd.DataFrame(future_forecast_forexo[exoVarSelected[0:(k+1)]]))\n",
    "    RMSEi=np.sqrt(mt.mean_squared_error(priceCloseTest, future_forecast_exoi))\n",
    "    RMSElist[k]=RMSEi\n",
    "    MAEi=mt.mean_absolute_error(priceCloseTest, future_forecast_exoi)\n",
    "    MAElist[k]=MAEi\n",
    "    ExoVarList[k]=''.join(exoVarSelected[0:(k+1)])\n",
    "    future_forecast_exo_List[k]=future_forecast_exoi\n",
    "    conf_int_exo_List[k]=conf_int_exoi\n",
    "    print(str(exoVarSelected[0:(k+1)]))"
   ]
  },
  {
   "cell_type": "code",
   "execution_count": 99,
   "metadata": {},
   "outputs": [
    {
     "name": "stdout",
     "output_type": "stream",
     "text": [
      "RMSE noexo: 90.789\n",
      "MAE noexo: 78.908\n",
      "                                              ExoVar    RMSEexo     MAEexo\n",
      "0                                           iv30call  88.841402  77.006846\n",
      "1                                   iv30calliv60call  88.623357  76.816747\n",
      "2                           iv30calliv60calliv90call  88.592548  76.790233\n",
      "3                  iv30calliv60calliv90calliv120call  88.843697  77.021106\n",
      "4         iv30calliv60calliv90calliv120calliv150call  88.494126  76.696397\n",
      "5  iv30calliv60calliv90calliv120calliv150callcallvol  88.944225  77.106594\n",
      "6  iv30calliv60calliv90calliv120calliv150callcall...  89.124430  77.282953\n"
     ]
    }
   ],
   "source": [
    "# Best models\n",
    "print(\"RMSE noexo: \"+str(round(RMSEnoexo,3)))\n",
    "print(\"MAE noexo: \"+str(round(MAEnoexo,3)))\n",
    "\n",
    "matMetrics=pd.DataFrame()\n",
    "matMetrics[\"ExoVar\"]=ExoVarList\n",
    "matMetrics[\"RMSEexo\"]=RMSElist\n",
    "matMetrics[\"MAEexo\"]=MAElist\n",
    "print(matMetrics)"
   ]
  },
  {
   "cell_type": "code",
   "execution_count": 106,
   "metadata": {},
   "outputs": [],
   "source": [
    "# Forecast with confidence interval (alpha=5%)\n",
    "future_forecast_exobest=future_forecast_exo_List[np.argmin(RMSElist)]\n",
    "conf_int_exobest=conf_int_exo_List[np.argmin(RMSElist)]\n",
    "\n",
    "future_forecast = pd.DataFrame(future_forecast_exobest,columns=['future_forecast'],index=priceCloseTest.index.values)\n",
    "priceCloseTest = pd.DataFrame(priceCloseTest)\n",
    "conf_int=conf_int_exobest"
   ]
  },
  {
   "cell_type": "code",
   "execution_count": 107,
   "metadata": {},
   "outputs": [
    {
     "data": {
      "image/png": "[encoded data removed]",
      "text/plain": [
       "<Figure size 864x864 with 2 Axes>"
      ]
     },
     "metadata": {
      "needs_background": "light"
     },
     "output_type": "display_data"
    }
   ],
   "source": [
    "# Better forecast plots\n",
    "plotForeCastBetter=symbolFolder+\"/plot_ARIMA_forecast_better_\"+symbol+\".pdf\"\n",
    "fig, axes = pyplot.subplots(2, 1, figsize=(12, 12))\n",
    "\n",
    "# --------------------- Actual vs. Predicted --------------------------\n",
    "axes[0].plot(priceCloseTrain, color='blue', label='Training Data')\n",
    "axes[0].plot(priceCloseTest.index, future_forecast, color='green', linewidth=4, label='Predicted Price')\n",
    "\n",
    "axes[0].plot(priceCloseTest.index, priceCloseTest, color='red', label='Actual Price')\n",
    "axes[0].set_title('Prices Prediction')\n",
    "axes[0].set_xlabel('Dates')\n",
    "axes[0].set_ylabel('Prices')\n",
    "axes[0].legend()\n",
    "\n",
    "\n",
    "# ------------------ Predicted with confidence intervals ----------------\n",
    "axes[1].plot(priceCloseTrain, color='blue', label='Training Data')\n",
    "axes[1].plot(priceCloseTest.index, future_forecast, color='green',\n",
    "             label='Predicted Price')\n",
    "\n",
    "axes[1].set_title('Prices Predictions & Confidence Intervals')\n",
    "axes[1].set_xlabel('Dates')\n",
    "axes[1].set_ylabel('Prices')\n",
    "\n",
    "conf_int = np.asarray(conf_int)\n",
    "axes[1].fill_between(priceCloseTest.index, conf_int[:, 0], conf_int[:, 1],\n",
    "                     alpha=0.9, color='orange', label=\"95% Confidence Intervals\")\n",
    "axes[1].legend()\n",
    "pyplot.savefig(plotForeCastBetter, bbox_inches='tight')\n"
   ]
  },
  {
   "cell_type": "code",
   "execution_count": 108,
   "metadata": {},
   "outputs": [
    {
     "name": "stdout",
     "output_type": "stream",
     "text": [
      "mu=1286.397\n",
      "SE=71.397\n"
     ]
    },
    {
     "data": {
      "image/png": "[encoded data removed]",
      "text/plain": [
       "<Figure size 432x288 with 1 Axes>"
      ]
     },
     "metadata": {
      "needs_background": "light"
     },
     "output_type": "display_data"
    }
   ],
   "source": [
    "###### PROBABILITY GRAPH FROM ARIMA MODEL\n",
    "\n",
    "# Note to Rim and Quinn: ARIMA model computes a predicted mean mu at kdays and a 95% confidence interval\n",
    "# To compute the probability graph (AKA density function in statistics),\n",
    "# we calculate the Standard Error (SE) from the lower bound of the confidence interval.\n",
    "# Once we have the mean mu and the SE, then we can plot the probability graph.\n",
    "\n",
    "# Current price\n",
    "priceCloseCurrent=priceCloseTrain.iloc[len(priceCloseTrain)-1]\n",
    "\n",
    "# Extract predicted mean and confidence interval\n",
    "mu=future_forecast.iloc[kdays-1,0]\n",
    "lower=conf_int[kdays-1,0]\n",
    "print(\"mu=\"+str(round(mu,3)))\n",
    "\n",
    "# Compute Standard Error (SE) from predicted confidence interval (reverse engineering here ;) )\n",
    "se=(mu-lower)/norm.ppf(0.975)\n",
    "print(\"SE=\"+str(round(se,3)))\n",
    "\n",
    "# Probability graph\n",
    "plotProbabilityGraph=symbolFolder+\"/plot_ARIMA_probabilityGraph_\"+symbol+\"_\"+str(kdays)+\"days.pdf\"\n",
    "x = np.linspace(mu - 3*se, mu + 3*se, 100)\n",
    "pyplot.plot(x, norm.pdf(x, mu, se))\n",
    "pyplot.axvline(x=priceCloseCurrent,color='red',label='Current Price')\n",
    "pyplot.xlabel('Stock price ($)', fontsize=18)\n",
    "pyplot.ylabel('Probability', fontsize=18)\n",
    "pyplot.legend(loc='upper right')\n",
    "pyplot.savefig(plotProbabilityGraph, bbox_inches='tight')\n",
    "pyplot.show()"
   ]
  },
  {
   "cell_type": "code",
   "execution_count": null,
   "metadata": {},
   "outputs": [],
   "source": []
  },
  {
   "cell_type": "code",
   "execution_count": null,
   "metadata": {},
   "outputs": [],
   "source": []
  }
 ],
 "metadata": {
  "kernelspec": {
   "display_name": "Python 3",
   "language": "python",
   "name": "python3"
  },
  "language_info": {
   "codemirror_mode": {
    "name": "ipython",
    "version": 3
   },
   "file_extension": ".py",
   "mimetype": "text/x-python",
   "name": "python",
   "nbconvert_exporter": "python",
   "pygments_lexer": "ipython3",
   "version": "3.6.9"
  }
 },
 "nbformat": 4,
 "nbformat_minor": 2
}
