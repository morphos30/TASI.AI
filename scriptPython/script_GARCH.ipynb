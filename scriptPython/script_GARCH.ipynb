{
 "cells": [
  {
   "cell_type": "code",
   "execution_count": 3,
   "metadata": {},
   "outputs": [],
   "source": [
    "###### IMPORT LIBRARIES AND SET UP PARAMETERS\n",
    "\n",
    "# Import libraries\n",
    "import os\n",
    "import pandas as pd\n",
    "import numpy as np\n",
    "import pyflux as pf\n",
    "from pandas_datareader import DataReader\n",
    "from datetime import datetime\n",
    "from matplotlib import pyplot\n",
    "from scipy.stats import norm"
   ]
  },
  {
   "cell_type": "code",
   "execution_count": 4,
   "metadata": {},
   "outputs": [
    {
     "name": "stdout",
     "output_type": "stream",
     "text": [
      "/media/mourad/diskSave/MCF_Toulouse/recherche/ConsulProj/RamCiri\n"
     ]
    }
   ],
   "source": [
    "# Set up directory\n",
    "dir=\"/media/mourad/diskSave/MCF_Toulouse/recherche/ConsulProj/RamCiri\"\n",
    "os.chdir(dir)\n",
    "print(os.getcwd())"
   ]
  },
  {
   "cell_type": "code",
   "execution_count": 5,
   "metadata": {},
   "outputs": [],
   "source": [
    "# Parameters\n",
    "symbol=\"GOOG\" # Set up the symbol you want\n",
    "kdays=30 # Number of days for forecasting"
   ]
  },
  {
   "cell_type": "code",
   "execution_count": 6,
   "metadata": {},
   "outputs": [
    {
     "ename": "FileExistsError",
     "evalue": "[Errno 17] File exists: 'results/ARIMA/GOOG'",
     "output_type": "error",
     "traceback": [
      "\u001b[0;31m---------------------------------------------------------------------------\u001b[0m",
      "\u001b[0;31mFileExistsError\u001b[0m                           Traceback (most recent call last)",
      "\u001b[0;32m<ipython-input-6-776ccd5a61c3>\u001b[0m in \u001b[0;36m<module>\u001b[0;34m\u001b[0m\n\u001b[1;32m      1\u001b[0m \u001b[0;31m# Create folder for symbol\u001b[0m\u001b[0;34m\u001b[0m\u001b[0;34m\u001b[0m\u001b[0;34m\u001b[0m\u001b[0m\n\u001b[1;32m      2\u001b[0m \u001b[0msymbolFolder\u001b[0m\u001b[0;34m=\u001b[0m\u001b[0;34m\"results/ARIMA/\"\u001b[0m\u001b[0;34m+\u001b[0m\u001b[0msymbol\u001b[0m\u001b[0;34m\u001b[0m\u001b[0;34m\u001b[0m\u001b[0m\n\u001b[0;32m----> 3\u001b[0;31m \u001b[0mos\u001b[0m\u001b[0;34m.\u001b[0m\u001b[0mmkdir\u001b[0m\u001b[0;34m(\u001b[0m\u001b[0msymbolFolder\u001b[0m\u001b[0;34m,\u001b[0m \u001b[0mmode\u001b[0m\u001b[0;34m=\u001b[0m\u001b[0;36m0o777\u001b[0m\u001b[0;34m)\u001b[0m\u001b[0;34m\u001b[0m\u001b[0;34m\u001b[0m\u001b[0m\n\u001b[0m",
      "\u001b[0;31mFileExistsError\u001b[0m: [Errno 17] File exists: 'results/ARIMA/GOOG'"
     ]
    }
   ],
   "source": [
    "# Create folder for symbol\n",
    "symbolFolder=\"results/ARIMA/\"+symbol\n",
    "os.mkdir(symbolFolder, mode=0o777)"
   ]
  },
  {
   "cell_type": "code",
   "execution_count": 7,
   "metadata": {},
   "outputs": [
    {
     "name": "stdout",
     "output_type": "stream",
     "text": [
      "      symbol  quotedate        open        high         low       close  \\\n",
      "0         BA 2015-05-26  144.339996  144.429993  142.160004  142.800003   \n",
      "1         BA 2015-06-18  143.910004  146.529999  143.910004  145.380005   \n",
      "2         BA 2015-06-26  143.029999  143.039993  141.889999  142.479996   \n",
      "3         BA 2016-02-09  117.980003  119.980003  117.430000  118.879997   \n",
      "4         BA 2016-05-27  128.960007  129.699997  128.830002  129.220001   \n",
      "...      ...        ...         ...         ...         ...         ...   \n",
      "26833   NFLX 2019-06-13  347.230000  348.500000  339.250000  343.430000   \n",
      "26834   NFLX 2019-10-04  268.200000  275.484600  266.470000  272.790000   \n",
      "26835   NFLX 2019-11-13  291.030000  293.410000  281.140000  283.110000   \n",
      "26836   NFLX 2020-01-03  326.780000  329.859900  325.530000  325.900000   \n",
      "26837   NFLX 2020-04-23  419.260000  438.413000  419.260000  426.700000   \n",
      "\n",
      "         volume  adjustedclose  \n",
      "0       3476800     141.894694  \n",
      "1       3728900     144.458340  \n",
      "2       3153300     141.576716  \n",
      "3       4137600     117.789997  \n",
      "4       2995100     128.157945  \n",
      "...         ...            ...  \n",
      "26833   6176598     343.430000  \n",
      "26834   9867078     272.790000  \n",
      "26835   9118758     283.110000  \n",
      "26836   3692347     325.900000  \n",
      "26837  13797532     426.700000  \n",
      "\n",
      "[26838 rows x 8 columns]\n",
      "['AAPL' 'AMZN' 'AXP' 'BA' 'CAT' 'DIS' 'GOOG' 'GS' 'HD' 'IBM' 'JNJ' 'JPM'\n",
      " 'KO' 'MCD' 'MRK' 'MSFT' 'NFLX' 'NKE' 'PFE' 'PG' 'XOM']\n"
     ]
    }
   ],
   "source": [
    "###### LOAD AND PREPROCESS DATA\n",
    "\n",
    "# Import price\n",
    "path=\"data/stockquotes/samples_L3_stockquotes_sample.csv.gz\"\n",
    "data_stockquotes = pd.read_csv(path, compression='gzip', header=0, sep=',', quotechar='\"', error_bad_lines=False)\n",
    "data_stockquotes[\"quotedate\"] = pd.to_datetime(data_stockquotes[\"quotedate\"])\n",
    "print(data_stockquotes)\n",
    "print(np.unique(data_stockquotes[\"symbol\"]))"
   ]
  },
  {
   "cell_type": "code",
   "execution_count": 8,
   "metadata": {
    "scrolled": true
   },
   "outputs": [
    {
     "name": "stdout",
     "output_type": "stream",
     "text": [
      "           symbol         open         high          low        close  \\\n",
      "quotedate                                                               \n",
      "2015-05-01   GOOG   538.429993   539.539978   532.099976   537.900024   \n",
      "2015-05-04   GOOG   538.530029   544.070007   535.059998   540.780029   \n",
      "2015-05-05   GOOG   538.210022   539.739990   530.390991   530.799988   \n",
      "2015-05-06   GOOG   531.239990   532.380005   521.085022   524.219971   \n",
      "2015-05-07   GOOG   523.989990   533.460022   521.750000   530.700012   \n",
      "...           ...          ...          ...          ...          ...   \n",
      "2020-05-22   GOOG  1396.710000  1412.760000  1391.830000  1410.420000   \n",
      "2020-05-26   GOOG  1437.270000  1441.000000  1412.130000  1417.020000   \n",
      "2020-05-27   GOOG  1417.250000  1421.740000  1391.290000  1417.840000   \n",
      "2020-05-28   GOOG  1396.860000  1440.840000  1396.000000  1416.730000   \n",
      "2020-05-29   GOOG  1416.940000  1432.570000  1413.350000  1428.920000   \n",
      "\n",
      "             volume  adjustedclose  \n",
      "quotedate                           \n",
      "2015-05-01  1768200     537.900024  \n",
      "2015-05-04  1308000     540.780029  \n",
      "2015-05-05  1383100     530.799988  \n",
      "2015-05-06  1567000     524.219971  \n",
      "2015-05-07  1546300     530.700012  \n",
      "...             ...            ...  \n",
      "2020-05-22  1292048    1410.420000  \n",
      "2020-05-26  1993477    1417.020000  \n",
      "2020-05-27  1622110    1417.840000  \n",
      "2020-05-28  1646626    1416.730000  \n",
      "2020-05-29  1798214    1428.920000  \n",
      "\n",
      "[1278 rows x 7 columns]\n"
     ]
    }
   ],
   "source": [
    "# Choose the stock\n",
    "data_stockquotes_sel=data_stockquotes[data_stockquotes[\"symbol\"]==symbol]\n",
    "data_stockquotes_sel=data_stockquotes_sel.sort_values('quotedate')\n",
    "data_stockquotes_sel=data_stockquotes_sel.set_index('quotedate')\n",
    "print(data_stockquotes_sel)"
   ]
  },
  {
   "cell_type": "code",
   "execution_count": 9,
   "metadata": {},
   "outputs": [
    {
     "name": "stdout",
     "output_type": "stream",
     "text": [
      "Missing data= 0\n"
     ]
    }
   ],
   "source": [
    "# Check the absence of missing data \n",
    "NAcount=data_stockquotes.isnull().sum().sum()\n",
    "print(\"Missing data=\",NAcount)"
   ]
  },
  {
   "cell_type": "code",
   "execution_count": 10,
   "metadata": {},
   "outputs": [
    {
     "name": "stdout",
     "output_type": "stream",
     "text": [
      "quotedate\n",
      "2015-05-01     537.900024\n",
      "2015-05-04     540.780029\n",
      "2015-05-05     530.799988\n",
      "2015-05-06     524.219971\n",
      "2015-05-07     530.700012\n",
      "                 ...     \n",
      "2020-05-22    1410.420000\n",
      "2020-05-26    1417.020000\n",
      "2020-05-27    1417.840000\n",
      "2020-05-28    1416.730000\n",
      "2020-05-29    1428.920000\n",
      "Name: close, Length: 1278, dtype: float64\n"
     ]
    }
   ],
   "source": [
    "# Extract close price\n",
    "priceClose=data_stockquotes_sel[\"close\"]\n",
    "print(priceClose)"
   ]
  },
  {
   "cell_type": "code",
   "execution_count": 29,
   "metadata": {},
   "outputs": [
    {
     "name": "stdout",
     "output_type": "stream",
     "text": [
      "Int64Index([   0,    1,    2,    3,    4,    5,    6,    7,    8,    9,\n",
      "            ...\n",
      "            1267, 1268, 1269, 1270, 1271, 1272, 1273, 1274, 1275, 1276],\n",
      "           dtype='int64', length=1277)\n",
      "             0\n",
      "0     0.005340\n",
      "1    -0.018627\n",
      "2    -0.012474\n",
      "3     0.012286\n",
      "4     0.014070\n",
      "...        ...\n",
      "1272  0.005417\n",
      "1273  0.004669\n",
      "1274  0.000579\n",
      "1275 -0.000783\n",
      "1276  0.008568\n",
      "\n",
      "[1277 rows x 1 columns]\n"
     ]
    },
    {
     "data": {
      "image/png": "[encoded data removed]",
      "text/plain": [
       "<Figure size 1080x360 with 1 Axes>"
      ]
     },
     "metadata": {
      "needs_background": "light"
     },
     "output_type": "display_data"
    }
   ],
   "source": [
    "# Plot volatility variability over time\n",
    "# If volatility varies over time, then the GARCH model is more appropriate than ARIMA model\n",
    "# For instance, for GOOG, volatility is high in 2015 and 2020 compared to other years.\n",
    "# Volatility is important for you since high volatility means a broad probability graph!\n",
    "returnClose.index = returnClose.index.values\n",
    "print(returnClose.index)\n",
    "returnClose = pd.DataFrame(np.diff(np.log(priceClose.values)),index=returnClose.index)\n",
    "print(returnClose)\n",
    "\n",
    "pyplot.figure(figsize=(15,5));\n",
    "pyplot.plot(returnClose.index,returnClose);\n",
    "pyplot.ylabel('Return');\n",
    "pyplot.title('Return');"
   ]
  },
  {
   "cell_type": "code",
   "execution_count": 25,
   "metadata": {},
   "outputs": [
    {
     "name": "stdout",
     "output_type": "stream",
     "text": [
      "             0\n",
      "0     0.005340\n",
      "1    -0.018627\n",
      "2    -0.012474\n",
      "3     0.012286\n",
      "4     0.014070\n",
      "...        ...\n",
      "1242  0.000966\n",
      "1243  0.005031\n",
      "1244  0.041562\n",
      "1245 -0.005340\n",
      "1246  0.000792\n",
      "\n",
      "[1247 rows x 1 columns]\n",
      "             0\n",
      "1247  0.015534\n",
      "1248 -0.013052\n",
      "1249 -0.040498\n",
      "1250  0.037810\n",
      "1251  0.010317\n"
     ]
    }
   ],
   "source": [
    "###### BUILD AND AUTOSELECT GARCH MODEL\n",
    "\n",
    "# Split train/test data\n",
    "# Note to Rim and Quinn: train data will be used only to build the model, \n",
    "# and test data will be used only to assess forecasting accuracy of the model.\n",
    "returnCloseTrain = returnClose[0:(len(returnClose)-kdays)]\n",
    "returnCloseTest = returnClose[(len(returnClose)-kdays):len(returnClose)]\n",
    "print(returnCloseTrain)\n",
    "print(returnCloseTest[0:5])"
   ]
  },
  {
   "cell_type": "code",
   "execution_count": 26,
   "metadata": {},
   "outputs": [
    {
     "ename": "AttributeError",
     "evalue": "'DataFrame' object has no attribute 'ix'",
     "output_type": "error",
     "traceback": [
      "\u001b[0;31m---------------------------------------------------------------------------\u001b[0m",
      "\u001b[0;31mAttributeError\u001b[0m                            Traceback (most recent call last)",
      "\u001b[0;32m<ipython-input-26-7642ebea3313>\u001b[0m in \u001b[0;36m<module>\u001b[0;34m\u001b[0m\n\u001b[1;32m      2\u001b[0m \u001b[0;31m# Note to Rim and Quinn: ....\u001b[0m\u001b[0;34m\u001b[0m\u001b[0;34m\u001b[0m\u001b[0;34m\u001b[0m\u001b[0m\n\u001b[1;32m      3\u001b[0m \u001b[0;31m# https://pyflux.readthedocs.io/en/latest/garch.html\u001b[0m\u001b[0;34m\u001b[0m\u001b[0;34m\u001b[0m\u001b[0;34m\u001b[0m\u001b[0m\n\u001b[0;32m----> 4\u001b[0;31m \u001b[0mGARCHmodel\u001b[0m \u001b[0;34m=\u001b[0m \u001b[0mpf\u001b[0m\u001b[0;34m.\u001b[0m\u001b[0mGARCH\u001b[0m\u001b[0;34m(\u001b[0m\u001b[0mreturnCloseTrain\u001b[0m\u001b[0;34m,\u001b[0m\u001b[0mp\u001b[0m\u001b[0;34m=\u001b[0m\u001b[0;36m1\u001b[0m\u001b[0;34m,\u001b[0m\u001b[0mq\u001b[0m\u001b[0;34m=\u001b[0m\u001b[0;36m1\u001b[0m\u001b[0;34m)\u001b[0m\u001b[0;34m\u001b[0m\u001b[0;34m\u001b[0m\u001b[0m\n\u001b[0m\u001b[1;32m      5\u001b[0m \u001b[0mx\u001b[0m \u001b[0;34m=\u001b[0m \u001b[0mmodel\u001b[0m\u001b[0;34m.\u001b[0m\u001b[0mfit\u001b[0m\u001b[0;34m(\u001b[0m\u001b[0;34m)\u001b[0m\u001b[0;34m\u001b[0m\u001b[0;34m\u001b[0m\u001b[0m\n\u001b[1;32m      6\u001b[0m \u001b[0mx\u001b[0m\u001b[0;34m.\u001b[0m\u001b[0msummary\u001b[0m\u001b[0;34m(\u001b[0m\u001b[0;34m)\u001b[0m\u001b[0;34m\u001b[0m\u001b[0;34m\u001b[0m\u001b[0m\n",
      "\u001b[0;32m~/.local/lib/python3.6/site-packages/pyflux/garch/garch.py\u001b[0m in \u001b[0;36m__init__\u001b[0;34m(self, data, p, q, target)\u001b[0m\n\u001b[1;32m     53\u001b[0m \u001b[0;34m\u001b[0m\u001b[0m\n\u001b[1;32m     54\u001b[0m         \u001b[0;31m# Format the data\u001b[0m\u001b[0;34m\u001b[0m\u001b[0;34m\u001b[0m\u001b[0;34m\u001b[0m\u001b[0m\n\u001b[0;32m---> 55\u001b[0;31m         \u001b[0mself\u001b[0m\u001b[0;34m.\u001b[0m\u001b[0mdata\u001b[0m\u001b[0;34m,\u001b[0m \u001b[0mself\u001b[0m\u001b[0;34m.\u001b[0m\u001b[0mdata_name\u001b[0m\u001b[0;34m,\u001b[0m \u001b[0mself\u001b[0m\u001b[0;34m.\u001b[0m\u001b[0mis_pandas\u001b[0m\u001b[0;34m,\u001b[0m \u001b[0mself\u001b[0m\u001b[0;34m.\u001b[0m\u001b[0mindex\u001b[0m \u001b[0;34m=\u001b[0m \u001b[0mdc\u001b[0m\u001b[0;34m.\u001b[0m\u001b[0mdata_check\u001b[0m\u001b[0;34m(\u001b[0m\u001b[0mdata\u001b[0m\u001b[0;34m,\u001b[0m\u001b[0mtarget\u001b[0m\u001b[0;34m)\u001b[0m\u001b[0;34m\u001b[0m\u001b[0;34m\u001b[0m\u001b[0m\n\u001b[0m\u001b[1;32m     56\u001b[0m         \u001b[0mself\u001b[0m\u001b[0;34m.\u001b[0m\u001b[0mdata_length\u001b[0m \u001b[0;34m=\u001b[0m \u001b[0mself\u001b[0m\u001b[0;34m.\u001b[0m\u001b[0mdata\u001b[0m\u001b[0;34m.\u001b[0m\u001b[0mshape\u001b[0m\u001b[0;34m[\u001b[0m\u001b[0;36m0\u001b[0m\u001b[0;34m]\u001b[0m\u001b[0;34m\u001b[0m\u001b[0;34m\u001b[0m\u001b[0m\n\u001b[1;32m     57\u001b[0m         \u001b[0mself\u001b[0m\u001b[0;34m.\u001b[0m\u001b[0m_create_latent_variables\u001b[0m\u001b[0;34m(\u001b[0m\u001b[0;34m)\u001b[0m\u001b[0;34m\u001b[0m\u001b[0;34m\u001b[0m\u001b[0m\n",
      "\u001b[0;32m~/.local/lib/python3.6/site-packages/pyflux/data_check.py\u001b[0m in \u001b[0;36mdata_check\u001b[0;34m(data, target)\u001b[0m\n\u001b[1;32m     32\u001b[0m         \u001b[0mdata_index\u001b[0m \u001b[0;34m=\u001b[0m \u001b[0mdata\u001b[0m\u001b[0;34m.\u001b[0m\u001b[0mindex\u001b[0m\u001b[0;34m\u001b[0m\u001b[0;34m\u001b[0m\u001b[0m\n\u001b[1;32m     33\u001b[0m         \u001b[0;32mif\u001b[0m \u001b[0mtarget\u001b[0m \u001b[0;32mis\u001b[0m \u001b[0;32mNone\u001b[0m\u001b[0;34m:\u001b[0m\u001b[0;34m\u001b[0m\u001b[0;34m\u001b[0m\u001b[0m\n\u001b[0;32m---> 34\u001b[0;31m             \u001b[0mtransformed_data\u001b[0m \u001b[0;34m=\u001b[0m \u001b[0mdata\u001b[0m\u001b[0;34m.\u001b[0m\u001b[0mix\u001b[0m\u001b[0;34m[\u001b[0m\u001b[0;34m:\u001b[0m\u001b[0;34m,\u001b[0m\u001b[0;36m0\u001b[0m\u001b[0;34m]\u001b[0m\u001b[0;34m.\u001b[0m\u001b[0mvalues\u001b[0m\u001b[0;34m\u001b[0m\u001b[0;34m\u001b[0m\u001b[0m\n\u001b[0m\u001b[1;32m     35\u001b[0m             \u001b[0mdata_name\u001b[0m \u001b[0;34m=\u001b[0m \u001b[0mstr\u001b[0m\u001b[0;34m(\u001b[0m\u001b[0mdata\u001b[0m\u001b[0;34m.\u001b[0m\u001b[0mcolumns\u001b[0m\u001b[0;34m.\u001b[0m\u001b[0mvalues\u001b[0m\u001b[0;34m[\u001b[0m\u001b[0;36m0\u001b[0m\u001b[0;34m]\u001b[0m\u001b[0;34m)\u001b[0m\u001b[0;34m\u001b[0m\u001b[0;34m\u001b[0m\u001b[0m\n\u001b[1;32m     36\u001b[0m         \u001b[0;32melse\u001b[0m\u001b[0;34m:\u001b[0m\u001b[0;34m\u001b[0m\u001b[0;34m\u001b[0m\u001b[0m\n",
      "\u001b[0;32m/usr/local/lib/python3.6/dist-packages/pandas/core/generic.py\u001b[0m in \u001b[0;36m__getattr__\u001b[0;34m(self, name)\u001b[0m\n\u001b[1;32m   5272\u001b[0m             \u001b[0;32mif\u001b[0m \u001b[0mself\u001b[0m\u001b[0;34m.\u001b[0m\u001b[0m_info_axis\u001b[0m\u001b[0;34m.\u001b[0m\u001b[0m_can_hold_identifiers_and_holds_name\u001b[0m\u001b[0;34m(\u001b[0m\u001b[0mname\u001b[0m\u001b[0;34m)\u001b[0m\u001b[0;34m:\u001b[0m\u001b[0;34m\u001b[0m\u001b[0;34m\u001b[0m\u001b[0m\n\u001b[1;32m   5273\u001b[0m                 \u001b[0;32mreturn\u001b[0m \u001b[0mself\u001b[0m\u001b[0;34m[\u001b[0m\u001b[0mname\u001b[0m\u001b[0;34m]\u001b[0m\u001b[0;34m\u001b[0m\u001b[0;34m\u001b[0m\u001b[0m\n\u001b[0;32m-> 5274\u001b[0;31m             \u001b[0;32mreturn\u001b[0m \u001b[0mobject\u001b[0m\u001b[0;34m.\u001b[0m\u001b[0m__getattribute__\u001b[0m\u001b[0;34m(\u001b[0m\u001b[0mself\u001b[0m\u001b[0;34m,\u001b[0m \u001b[0mname\u001b[0m\u001b[0;34m)\u001b[0m\u001b[0;34m\u001b[0m\u001b[0;34m\u001b[0m\u001b[0m\n\u001b[0m\u001b[1;32m   5275\u001b[0m \u001b[0;34m\u001b[0m\u001b[0m\n\u001b[1;32m   5276\u001b[0m     \u001b[0;32mdef\u001b[0m \u001b[0m__setattr__\u001b[0m\u001b[0;34m(\u001b[0m\u001b[0mself\u001b[0m\u001b[0;34m,\u001b[0m \u001b[0mname\u001b[0m\u001b[0;34m:\u001b[0m \u001b[0mstr\u001b[0m\u001b[0;34m,\u001b[0m \u001b[0mvalue\u001b[0m\u001b[0;34m)\u001b[0m \u001b[0;34m->\u001b[0m \u001b[0;32mNone\u001b[0m\u001b[0;34m:\u001b[0m\u001b[0;34m\u001b[0m\u001b[0;34m\u001b[0m\u001b[0m\n",
      "\u001b[0;31mAttributeError\u001b[0m: 'DataFrame' object has no attribute 'ix'"
     ]
    }
   ],
   "source": [
    "# Build GARCH model and finding automatically the best GARCH model \n",
    "# Note to Rim and Quinn: ....\n",
    "# https://pyflux.readthedocs.io/en/latest/garch.html\n",
    "GARCHmodel = pf.GARCH(returnCloseTrain,p=1,q=1)\n",
    "x = model.fit()\n",
    "x.summary()"
   ]
  },
  {
   "cell_type": "code",
   "execution_count": 27,
   "metadata": {},
   "outputs": [
    {
     "ename": "NameError",
     "evalue": "name 'autoARIMA' is not defined",
     "output_type": "error",
     "traceback": [
      "\u001b[0;31m---------------------------------------------------------------------------\u001b[0m",
      "\u001b[0;31mNameError\u001b[0m                                 Traceback (most recent call last)",
      "\u001b[0;32m<ipython-input-27-621b332bf8c4>\u001b[0m in \u001b[0;36m<module>\u001b[0;34m\u001b[0m\n\u001b[1;32m      5\u001b[0m \u001b[0;31m# There are other criteria that can be used such as BIC and HQIC. AIC is preferred here.\u001b[0m\u001b[0;34m\u001b[0m\u001b[0;34m\u001b[0m\u001b[0;34m\u001b[0m\u001b[0m\n\u001b[1;32m      6\u001b[0m \u001b[0;31m# order=(X, X, X) is the ARIMA model selected.\u001b[0m\u001b[0;34m\u001b[0m\u001b[0;34m\u001b[0m\u001b[0;34m\u001b[0m\u001b[0m\n\u001b[0;32m----> 7\u001b[0;31m \u001b[0mprint\u001b[0m\u001b[0;34m(\u001b[0m\u001b[0mautoARIMA\u001b[0m\u001b[0;34m)\u001b[0m\u001b[0;34m\u001b[0m\u001b[0;34m\u001b[0m\u001b[0m\n\u001b[0m",
      "\u001b[0;31mNameError\u001b[0m: name 'autoARIMA' is not defined"
     ]
    }
   ],
   "source": [
    "# Results from auto_arima\n",
    "# Note to Rim and Quinn: The ARIMA model with the lowest AIC (Akaike Information Criterion) is selected.\n",
    "# Basically, AIC seeks for the best model fit, while also looking for model parcimony, \n",
    "# (less complex model = higher parcimony). \n",
    "# There are other criteria that can be used such as BIC and HQIC. AIC is preferred here.\n",
    "# order=(X, X, X) is the ARIMA model selected.\n",
    "print(autoARIMA)"
   ]
  },
  {
   "cell_type": "code",
   "execution_count": null,
   "metadata": {},
   "outputs": [],
   "source": [
    "# Details of the selected ARIMA model\n",
    "# Note to Rim and Quinn: You can find the AIC value of the selected model. \n",
    "# Important information from the summary: the coef table.\n",
    "# In the coef table, you see the parameter coef of the model and the associated p-value.\n",
    "# ar.L1 is the autoregressive parameter of lag=1. If present.\n",
    "# ma.L1 is the moving average parameter of lag=1. If present.\n",
    "print(autoARIMA.summary())"
   ]
  },
  {
   "cell_type": "code",
   "execution_count": null,
   "metadata": {},
   "outputs": [],
   "source": [
    "###### CHECK MODEL ASSUMPTIONS\n",
    "\n",
    "# Plot residual errors\n",
    "# Note to Rim and Quinn: For the ARIMA model to be valid, \n",
    "# the residual errors should be near zero mean and present uniform variance. \n",
    "plotResiduals=symbolFolder+\"/plot_ARIMA_residuals_\"+symbol+\".pdf\"\n",
    "residuals=pd.DataFrame(autoARIMA.resid())\n",
    "fig, ax = pyplot.subplots(2,constrained_layout=True)\n",
    "residuals.plot(title=\"Residuals\", ax=ax[0])\n",
    "residuals.plot(kind='kde', title='Density', ax=ax[1])\n",
    "pyplot.savefig(plotResiduals, bbox_inches='tight')\n",
    "pyplot.show()"
   ]
  },
  {
   "cell_type": "code",
   "execution_count": null,
   "metadata": {},
   "outputs": [],
   "source": [
    "###### FORECAST PRICE USING ARIMA MODEL\n",
    "\n",
    "# Forecast with confidence interval (alpha=5%)\n",
    "future_forecast, conf_int = autoARIMA.predict(n_periods=kdays,return_conf_int=True,alpha=0.05)\n",
    "future_forecast = pd.DataFrame(future_forecast,columns=['future_forecast'],index=priceCloseTest.index.values)\n",
    "priceCloseTest = pd.DataFrame(priceCloseTest)"
   ]
  },
  {
   "cell_type": "code",
   "execution_count": null,
   "metadata": {},
   "outputs": [],
   "source": [
    "# Simple forecast plot\n",
    "plotForeCastSimple=symbolFolder+\"/plot_ARIMA_forecast_simple_\"+symbol+\".pdf\"\n",
    "pyplot.plot(priceCloseTest, 'r', label='Actual Price') # plotting t, a separately \n",
    "pyplot.plot(future_forecast, 'g', label='Predicted Price') # plotting t, b separately \n",
    "pyplot.legend(loc='upper right')\n",
    "pyplot.xlabel('Date', fontsize=18)\n",
    "pyplot.ylabel('Stock price', fontsize=18)\n",
    "pyplot.savefig(plotForeCastSimple, bbox_inches='tight')\n",
    "pyplot.show()"
   ]
  },
  {
   "cell_type": "code",
   "execution_count": null,
   "metadata": {
    "scrolled": false
   },
   "outputs": [],
   "source": [
    "# Better forecast plots\n",
    "plotForeCastBetter=symbolFolder+\"/plot_ARIMA_forecast_better_\"+symbol+\".pdf\"\n",
    "fig, axes = pyplot.subplots(2, 1, figsize=(12, 12))\n",
    "\n",
    "# --------------------- Actual vs. Predicted --------------------------\n",
    "axes[0].plot(priceCloseTrain, color='blue', label='Training Data')\n",
    "axes[0].plot(priceCloseTest.index, future_forecast, color='green', linewidth=4, label='Predicted Price')\n",
    "\n",
    "axes[0].plot(priceCloseTest.index, priceCloseTest, color='red', label='Actual Price')\n",
    "axes[0].set_title('Prices Prediction')\n",
    "axes[0].set_xlabel('Dates')\n",
    "axes[0].set_ylabel('Prices')\n",
    "axes[0].legend()\n",
    "\n",
    "\n",
    "# ------------------ Predicted with confidence intervals ----------------\n",
    "axes[1].plot(priceCloseTrain, color='blue', label='Training Data')\n",
    "axes[1].plot(priceCloseTest.index, future_forecast, color='green',\n",
    "             label='Predicted Price')\n",
    "\n",
    "axes[1].set_title('Prices Predictions & Confidence Intervals')\n",
    "axes[1].set_xlabel('Dates')\n",
    "axes[1].set_ylabel('Prices')\n",
    "\n",
    "conf_int = np.asarray(conf_int)\n",
    "axes[1].fill_between(priceCloseTest.index, conf_int[:, 0], conf_int[:, 1],\n",
    "                     alpha=0.9, color='orange', label=\"95% Confidence Intervals\")\n",
    "axes[1].legend()\n",
    "pyplot.savefig(plotForeCastBetter, bbox_inches='tight')"
   ]
  },
  {
   "cell_type": "code",
   "execution_count": null,
   "metadata": {},
   "outputs": [],
   "source": [
    "###### PROBABILITY GRAPH FROM ARIMA MODEL\n",
    "\n",
    "# Note to Rim and Quinn: ARIMA model computes a predicted mean mu at kdays and a 95% confidence interval\n",
    "# To compute the probability graph (AKA density function in statistics),\n",
    "# we calculate the Standard Error (SE) from the lower bound of the confidence interval.\n",
    "# Once we have the mean mu and the SE, then we can plot the probability graph.\n",
    "\n",
    "# Current price\n",
    "priceCloseCurrent=priceCloseTrain.iloc[len(priceCloseTrain)-1]\n",
    "\n",
    "# Extract predicted mean and confidence interval\n",
    "mu=future_forecast.iloc[kdays-1,0]\n",
    "lower=conf_int[kdays-1,0]\n",
    "print(\"mu=\"+str(round(mu,3)))\n",
    "\n",
    "# Compute Standard Error (SE) from predicted confidence interval (reverse engineering here ;) )\n",
    "se=(mu-lower)/norm.ppf(0.975)\n",
    "print(\"SE=\"+str(round(se,3)))\n",
    "\n",
    "# Probability graph\n",
    "plotProbabilityGraph=symbolFolder+\"/plot_ARIMA_probabilityGraph_\"+symbol+\"_\"+str(kdays)+\"days.pdf\"\n",
    "x = np.linspace(mu - 3*se, mu + 3*se, 100)\n",
    "pyplot.plot(x, norm.pdf(x, mu, se))\n",
    "pyplot.axvline(x=priceCloseCurrent,color='red',label='Current Price')\n",
    "pyplot.xlabel('Stock price ($)', fontsize=18)\n",
    "pyplot.ylabel('Probability', fontsize=18)\n",
    "pyplot.legend(loc='upper right')\n",
    "pyplot.savefig(plotProbabilityGraph, bbox_inches='tight')\n",
    "pyplot.show()"
   ]
  },
  {
   "cell_type": "code",
   "execution_count": null,
   "metadata": {},
   "outputs": [],
   "source": []
  },
  {
   "cell_type": "code",
   "execution_count": null,
   "metadata": {},
   "outputs": [],
   "source": []
  }
 ],
 "metadata": {
  "kernelspec": {
   "display_name": "Python 3",
   "language": "python",
   "name": "python3"
  },
  "language_info": {
   "codemirror_mode": {
    "name": "ipython",
    "version": 3
   },
   "file_extension": ".py",
   "mimetype": "text/x-python",
   "name": "python",
   "nbconvert_exporter": "python",
   "pygments_lexer": "ipython3",
   "version": "3.6.9"
  }
 },
 "nbformat": 4,
 "nbformat_minor": 2
}
